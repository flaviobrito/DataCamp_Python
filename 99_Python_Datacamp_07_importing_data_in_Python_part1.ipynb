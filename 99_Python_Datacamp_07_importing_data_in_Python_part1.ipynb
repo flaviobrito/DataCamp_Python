{
 "cells": [
  {
   "cell_type": "markdown",
   "metadata": {},
   "source": [
    "# Importing data in Python part 1\n",
    "<br>\n",
    "Importing entire text files <br>\n",
    "Importing text files line by line<br>\n",
    "Importing flat files using NumPy <br>\n",
    "Working with mixed data types<br>\n",
    "Importing flat files using pandas<br>\n",
    "Pickled files - serialized <br>\n",
    "Excel Spreadsheets<br>\n",
    "MATLAB files<br>\n",
    "SAS files<br>\n",
    "Strata files<br>\n",
    "HDF5 files<br>\n",
    "Relational databases: PostGreSQL, MySQL, SQLite, SQL <br>\n",
    "\n",
    "\n",
    "\n"
   ]
  },
  {
   "cell_type": "markdown",
   "metadata": {},
   "source": [
    "### Reading a text file"
   ]
  },
  {
   "cell_type": "code",
   "execution_count": null,
   "metadata": {},
   "outputs": [],
   "source": [
    "filename='any_name.txt'\n",
    "file = open(filename, mode='r')  # r means read only\n",
    "text= file.read()\n",
    "file.close()\n",
    "\n",
    "#printing a text file\n",
    "print(text)"
   ]
  },
  {
   "cell_type": "markdown",
   "metadata": {},
   "source": [
    "### Writing to a file"
   ]
  },
  {
   "cell_type": "code",
   "execution_count": null,
   "metadata": {},
   "outputs": [],
   "source": [
    "filename = 'any_file_name.txt'\n",
    "file=open(filename, mode='w')  # w - means to write\n",
    "file.close()"
   ]
  },
  {
   "cell_type": "markdown",
   "metadata": {},
   "source": [
    "### Context manager with\n"
   ]
  },
  {
   "cell_type": "code",
   "execution_count": null,
   "metadata": {},
   "outputs": [],
   "source": [
    "with open('any_file_name','r') as file:\n",
    "    print(file.read())"
   ]
  },
  {
   "cell_type": "markdown",
   "metadata": {},
   "source": [
    "### Importing flat files (NumPy)"
   ]
  },
  {
   "cell_type": "code",
   "execution_count": null,
   "metadata": {},
   "outputs": [],
   "source": [
    "import numpy as n np\n",
    "filename = 'anyfile.txt'\n",
    "data = np.loadtxt(filename, delimeter=',')\n",
    "print(data)"
   ]
  },
  {
   "cell_type": "code",
   "execution_count": null,
   "metadata": {},
   "outputs": [],
   "source": [
    "#customizing NumPy import\n",
    "data = np.loadtxt(filename, delimeter=',', skiprows=1)"
   ]
  },
  {
   "cell_type": "code",
   "execution_count": null,
   "metadata": {},
   "outputs": [],
   "source": [
    "#customizing NumPy import\n",
    "data = np.loadtxt(filename, delimeter=',', skiprows=1, usecols=[0,2])"
   ]
  },
  {
   "cell_type": "code",
   "execution_count": null,
   "metadata": {},
   "outputs": [],
   "source": [
    "#customizing NumPy import\n",
    "data = np.loadtxt(filename, delimeter=',', dtype=str)"
   ]
  },
  {
   "cell_type": "code",
   "execution_count": null,
   "metadata": {},
   "outputs": [],
   "source": [
    "Instructions\n",
    "-Complete the arguments of np.loadtxt(): the file you're importing is tab-delimited,\n",
    "you want to skip the first row and you only want to import the first and third columns.\n",
    "-Complete the argument of the print() call in order to print the entire array that you\n",
    "just imported.\n",
    "'''\n",
    "# Import numpy\n",
    "import numpy as np\n",
    "\n",
    "# Assign the filename: file\n",
    "file = 'digits_header.txt'\n",
    "\n",
    "# Load the data: data\n",
    "data = np.loadtxt(file, delimiter='\\t', skiprows=1, usecols=[0, 2])\n",
    "\n",
    "# Print data\n",
    "print(data)"
   ]
  },
  {
   "cell_type": "markdown",
   "metadata": {},
   "source": [
    "### Importing flat files using pandas"
   ]
  },
  {
   "cell_type": "code",
   "execution_count": null,
   "metadata": {},
   "outputs": [],
   "source": [
    "import pandas as pd\n",
    "filename='anything.csv'\n",
    "data=pd.read_csv(filename)\n",
    "data.head()\n",
    "\n",
    "#convert to array\n",
    "data_array=data.values\n"
   ]
  },
  {
   "cell_type": "markdown",
   "metadata": {},
   "source": [
    "### Importing pickled files\n",
    "\n"
   ]
  },
  {
   "cell_type": "code",
   "execution_count": null,
   "metadata": {},
   "outputs": [],
   "source": [
    "import pickle\n",
    "with open ('pickled_fruit.pkl', 'rb') as file:\n",
    "    data=pickle.load(file)\n",
    "print(data)"
   ]
  },
  {
   "cell_type": "markdown",
   "metadata": {},
   "source": [
    "### importing Excel spreadsheets"
   ]
  },
  {
   "cell_type": "code",
   "execution_count": null,
   "metadata": {},
   "outputs": [],
   "source": [
    "import panda as pd\n",
    "file='urbanpop.xlsx'\n",
    "data=pd.ExcelFile(file)\n",
    "print(data.sheet_names)\n",
    "\n",
    "df1=data.parse('1960-1966')  # '1960-1966'sheet name, as a string\n",
    "\n",
    "df2=data.parse(0)  #sheet index as a float"
   ]
  },
  {
   "cell_type": "markdown",
   "metadata": {},
   "source": [
    "### Importing SAS/Strata files using pandas\n",
    "SAS files used for advanced analytics, multivariate analysis, business intelligence, data management, predictive analytisc, standard for computational analysis"
   ]
  },
  {
   "cell_type": "code",
   "execution_count": null,
   "metadata": {},
   "outputs": [],
   "source": [
    "#importing SAS files\n",
    "import pandas as pd\n",
    "from sas7bdat import SAS7BDAT\n",
    "\n",
    "with SAS7BDAT('urbanpop.sas7bdat') as file:\n",
    "    df_sas=file.to_data_frame()"
   ]
  },
  {
   "cell_type": "code",
   "execution_count": null,
   "metadata": {},
   "outputs": [],
   "source": [
    "#importing strata files\n",
    "import pandas as pd\n",
    "data=pd.read_strata('urbanpop.dta')"
   ]
  },
  {
   "cell_type": "markdown",
   "metadata": {},
   "source": [
    "### Importing HDF5 files\n",
    "<br>\n",
    "Hierarchical Data format version 5 <br>\n",
    "Standard for storing large quantities of numerical data<br>\n",
    "Datasets can be hundreds of gigabytes or terabytes<br>\n",
    "HDF5 can scale to exabytes<br>\n"
   ]
  },
  {
   "cell_type": "code",
   "execution_count": null,
   "metadata": {},
   "outputs": [],
   "source": [
    "import h5py\n",
    "filename='H-H1_LOSC_7y8y86t8-4096.hdf5'\n",
    "data = h5py.File(filename, 'r') # \"r\" is to read\n",
    "print(type(data))"
   ]
  },
  {
   "cell_type": "markdown",
   "metadata": {},
   "source": [
    "### The structure of HDF5 files\n",
    "for key in data.keys():\n",
    "           print(key)\n",
    "\n",
    "meta\n",
    "quality\n",
    "strain\n",
    "\n",
    "print(type(data['meta']))\n"
   ]
  },
  {
   "cell_type": "markdown",
   "metadata": {},
   "source": [
    "### MATLAB files\n",
    "matrix laboratory, industry standard in engineering and science\n",
    "data saves as .mat files <br>\n",
    "\n",
    "### Scipy to read MATLAB files\n",
    "scipy.io.loadmat() - read .mat files\n",
    "scipy.io.savemat() - write .mat files\n",
    "\n",
    "\n",
    "### importing a .mat file"
   ]
  },
  {
   "cell_type": "code",
   "execution_count": null,
   "metadata": {},
   "outputs": [],
   "source": [
    "import scipy.io\n",
    "filename='workspace.mat'\n",
    "mat=scipy.io.loadmat(filename)\n",
    "\n",
    "print(type(mat))\n",
    "print(type(mat['x']))"
   ]
  },
  {
   "cell_type": "markdown",
   "metadata": {},
   "source": [
    "### Relational Databases SQL\n",
    "\n",
    "Creating a database engine\n",
    "SQLite datadatse\n",
    "SQLAlchemy - works with many relational database management systems"
   ]
  },
  {
   "cell_type": "code",
   "execution_count": null,
   "metadata": {},
   "outputs": [],
   "source": [
    "from sqlalchemy import create_engine\n",
    "engine=create_engine('sqlite://Northwind.sqlite')"
   ]
  },
  {
   "cell_type": "markdown",
   "metadata": {},
   "source": [
    "### Getting table names"
   ]
  },
  {
   "cell_type": "code",
   "execution_count": null,
   "metadata": {},
   "outputs": [],
   "source": [
    "from sqlalchemy import create_engine\n",
    "engine=create_engine('sqlite://Northwind.sqlite')\n",
    "table_names=engine.table_names()\n",
    "print(table_names)"
   ]
  },
  {
   "cell_type": "markdown",
   "metadata": {},
   "source": [
    "### Querying relational databases in Python\n",
    "\n",
    "SELECT * FROM Table_name\n",
    "- will return all columns of all rows of the table\n",
    "\n",
    "SELECT * from Orders\n"
   ]
  },
  {
   "cell_type": "code",
   "execution_count": null,
   "metadata": {},
   "outputs": [],
   "source": [
    "from sqlalchemy import create_engine\n",
    "import pandas as pd\n",
    "engine=create_engine('sqlite://Northwind.sqlite') # create a database engine\n",
    "con=engine.connect  #connect to engine\n",
    "rs=con.execute(\"SELECT * FROM Orders\") #querry database\n",
    "df=pd.DataFrame(rs.fetchall())  #save querry results to a dataframe\n",
    "con.close()  #close connection\n",
    "\n",
    "\n",
    "#print querry results\n",
    "print(df.head())  # no headers in table"
   ]
  },
  {
   "cell_type": "code",
   "execution_count": null,
   "metadata": {},
   "outputs": [],
   "source": [
    "#set the DataFrame column names\n",
    "df.columns=rs.keys()\n",
    "print(df.head())  #will look like a proper table with headers"
   ]
  },
  {
   "cell_type": "code",
   "execution_count": null,
   "metadata": {},
   "outputs": [],
   "source": [
    "#using the context manager\n",
    "with engine.connect() as con:\n",
    "    rs=con.execute(\"SELECT OrderID, OrderDate, ShipName FROM Orders\")\n",
    "    df=pd.DataFrame(rs.fetchmany(size=5))\n",
    "    df.columns=rs.keys()\n",
    "    \n",
    "#pandas way to querry\n",
    "\n",
    "df=pd.read_sql_querry(\"SELECT * FROM Orders\", engine)"
   ]
  },
  {
   "cell_type": "markdown",
   "metadata": {},
   "source": [
    "### Advances querying (SELECT), JOININg tables"
   ]
  },
  {
   "cell_type": "code",
   "execution_count": null,
   "metadata": {},
   "outputs": [],
   "source": [
    "#INNER JOIN\n",
    "df=pd.read_sql_query(\"SELECT OrderID,  \\\n",
    "CompanyName FROM Orders INNER JOIN Customers on Orders.CustomerID= \\\n",
    "Customers.CustomerID\", engine)\n",
    "\n",
    "print(df.head())"
   ]
  },
  {
   "cell_type": "code",
   "execution_count": null,
   "metadata": {},
   "outputs": [],
   "source": [
    "#SELECT\n",
    "# Import packages\n",
    "from sqlalchemy import create_engine\n",
    "import pandas as pd\n",
    "\n",
    "# Create engine: engine\n",
    "engine = create_engine('sqlite:///../_datasets/Chinook.sqlite')\n",
    "\n",
    "# Open engine in context manager\n",
    "# Perform query and save results to DataFrame: df\n",
    "with engine.connect() as con:\n",
    "    rs = con.execute('SELECT LastName, Title FROM Employee')\n",
    "    df = pd.DataFrame(rs.fetchmany(size=3))\n",
    "    df.columns = rs.keys()\n",
    "\n",
    "# Print the length of the DataFrame df\n",
    "print(len(df))\n",
    "\n",
    "# Print the head of the DataFrame df\n",
    "print(df.head())"
   ]
  },
  {
   "cell_type": "code",
   "execution_count": null,
   "metadata": {},
   "outputs": [],
   "source": []
  },
  {
   "cell_type": "code",
   "execution_count": null,
   "metadata": {},
   "outputs": [],
   "source": []
  },
  {
   "cell_type": "code",
   "execution_count": null,
   "metadata": {},
   "outputs": [],
   "source": []
  },
  {
   "cell_type": "code",
   "execution_count": null,
   "metadata": {},
   "outputs": [],
   "source": []
  },
  {
   "cell_type": "code",
   "execution_count": null,
   "metadata": {},
   "outputs": [],
   "source": []
  },
  {
   "cell_type": "markdown",
   "metadata": {},
   "source": [
    "## Practice exercises"
   ]
  },
  {
   "cell_type": "code",
   "execution_count": 2,
   "metadata": {},
   "outputs": [
    {
     "name": "stdout",
     "output_type": "stream",
     "text": [
      "['Time' 'Percent']\n",
      "[0.    0.357]\n"
     ]
    },
    {
     "data": {
      "image/png": "[encoded data removed]",
      "text/plain": [
       "<Figure size 432x288 with 1 Axes>"
      ]
     },
     "metadata": {
      "needs_background": "light"
     },
     "output_type": "display_data"
    }
   ],
   "source": [
    "'''\n",
    "The file seaslug.txt\n",
    "\n",
    "Time\tPercent\n",
    "99\t0.067\n",
    "99\t0.133\n",
    "99\t0.067\n",
    "99\t0\n",
    "99\t0\n",
    "0\t0.5\n",
    "........\n",
    "\n",
    "has a text header, consisting of strings\n",
    "is tab-delimited.\n",
    "These data consists of percentage of sea slug larvae that had metamorphosed in a\n",
    "given time period. Read more here.\n",
    "Due to the header, if you tried to import it as-is using np.loadtxt(), Python\n",
    "would throw you a ValueError and tell you that it could not convert string to float. There are two ways to deal with this:\n",
    "firstly, you can set the data type argument dtype equal to str (for string).\n",
    "Alternatively, you can skip the first row as we have seen before, using the skiprows\n",
    "argument.\n",
    "\n",
    "Instructions\n",
    "-Complete the first call to np.loadtxt() by passing file as the first argument.\n",
    "-Execute print(data[0]) to print the first element of data.\n",
    "-Complete the second call to np.loadtxt(). The file you're importing is tab-delimited,\n",
    "the datatype is float, and you want to skip the first row.\n",
    "-Print the 10th element of data_float by completing the print() command. Be guided by\n",
    "the previous print() call.\n",
    "-Execute the rest of the code to visualize the data.\n",
    "'''\n",
    "import numpy as np\n",
    "import matplotlib.pyplot as plt\n",
    "\n",
    "# Assign filename: file\n",
    "file = 'seaslug.txt'\n",
    "\n",
    "# Import file: data\n",
    "data = np.loadtxt(file, delimiter='\\t', dtype=str)\n",
    "\n",
    "# Print the first element of data\n",
    "# ['Time' 'Percent']\n",
    "print(data[0])\n",
    "\n",
    "# Import data as floats and skip the first row: data_float\n",
    "data_float = np.loadtxt(file, delimiter='\\t', dtype=float, skiprows=1)\n",
    "\n",
    "# Print the 10th element of data_float\n",
    "# [0.    0.357]\n",
    "print(data_float[9])\n",
    "\n",
    "# Plot a scatterplot of the data\n",
    "plt.scatter(data_float[:, 0], data_float[:, 1])\n",
    "plt.xlabel('time (min.)')\n",
    "plt.ylabel('percentage of larvae')\n",
    "plt.show()"
   ]
  },
  {
   "cell_type": "code",
   "execution_count": 5,
   "metadata": {},
   "outputs": [
    {
     "name": "stdout",
     "output_type": "stream",
     "text": [
      "   PassengerId  Survived  Pclass     Sex   Age  SibSp  Parch  \\\n",
      "0            1         0       3    male  22.0      1      0   \n",
      "1            2         1       1  female  38.0      1      0   \n",
      "2            3         1       3  female  26.0      0      0   \n",
      "3            4         1       1  female  35.0      1      0   \n",
      "4            5         0       3    male  35.0      0      0   \n",
      "\n",
      "             Ticket     Fare Cabin    Embarked  \n",
      "0         A/5 21171   7.2500   NaN  S #dfafdad  \n",
      "1       PC 17599#to  71.2833   C85           C  \n",
      "2  STON/O2. 3101282   7.9250   NaN           S  \n",
      "3            113803  53.1000  C123           S  \n",
      "4            373450   8.0500   NaN           S  \n"
     ]
    },
    {
     "data": {
      "image/png": "[encoded data removed]",
      "text/plain": [
       "<Figure size 432x288 with 1 Axes>"
      ]
     },
     "metadata": {
      "needs_background": "light"
     },
     "output_type": "display_data"
    }
   ],
   "source": [
    "'''\n",
    "Instructions\n",
    "-Complete the sep (the pandas version of delim), comment and na_values arguments of\n",
    "pd.read_csv(). comment takes characters that comments occur after in the file, which\n",
    "in this case is '#'. na_values takes a list of strings to recognize as NA/NaN, in\n",
    "this case the string 'Nothing'.\n",
    "-Execute the rest of the code to print the head of the resulting DataFrame and plot\n",
    "the histogram of the 'Age' of passengers aboard the Titanic.\n",
    "'''\n",
    "import pandas as pd\n",
    "import numpy as np\n",
    "import matplotlib.pyplot as plt\n",
    "\n",
    "# Import matplotlib.pyplot as plt\n",
    "import matplotlib.pyplot as plt\n",
    "\n",
    "# Assign filename: file\n",
    "file = 'titanic_corrupt.txt'\n",
    "\n",
    "# Import file: data\n",
    "data = pd.read_csv(file, sep='\\t', comment='#', na_values='Nothing')\n",
    "\n",
    "# Print the head of the DataFrame\n",
    "print(data.head())\n",
    "\n",
    "# Plot 'Age' variable in a histogram\n",
    "pd.DataFrame.hist(data[['Age']])\n",
    "plt.xlabel('Age (years)')\n",
    "plt.ylabel('count')\n",
    "plt.show()"
   ]
  },
  {
   "cell_type": "code",
   "execution_count": null,
   "metadata": {},
   "outputs": [],
   "source": [
    "'''\n",
    "Importing entire text files\n",
    "100xp\n",
    "In this exercise, you'll be working with the file moby_dick.txt. It is a text\n",
    "file that contains the opening sentences of Moby Dick, one of the great American\n",
    "novels! Here you'll get experience opening a text file, printing its contents to\n",
    "the shell and, finally, closing it.\n",
    "Instructions\n",
    "-Open the file moby_dick.txt as read-only and store it in the variable file. Make\n",
    "sure to pass the filename enclosed in quotation marks ''.\n",
    "-Print the contents of the file to the shell using the print() function. As Hugo\n",
    "showed in the video, you'll need to apply the method read() to the object file.\n",
    "-Check whether the file is closed by executing print(file.closed).\n",
    "-Close the file using the close() method.\n",
    "-Check again that the file is closed as you did above.\n",
    "'''\n",
    "# Open a file: file\n",
    "file = open('../_datasets/moby_dick.txt', mode='r')\n",
    "\n",
    "# Print it\n",
    "print(file.read())\n",
    "\n",
    "# Check whether file is closed\n",
    "print(file.closed)\n",
    "\n",
    "# Close file\n",
    "file.close()\n",
    "\n",
    "# Check whether file is closed\n",
    "print(file.closed)"
   ]
  },
  {
   "cell_type": "code",
   "execution_count": null,
   "metadata": {},
   "outputs": [],
   "source": [
    "'''\n",
    "Importing text files line by line\n",
    "100xp\n",
    "For large files, we may not want to print all of their content to the shell:\n",
    "you may wish to print only the first few lines. Enter the readline() method,\n",
    "which allows you to do this. When a file called file is open, you can print out\n",
    "the first line by executing file.readline(). If you execute the same command again,\n",
    "the second line will print, and so on.\n",
    "In the introductory video, Hugo also introduced the concept of a context manager.\n",
    "He showed that you can bind a variable file by using a context manager construct:\n",
    "with open('huck_finn.txt') as file:\n",
    "While still within this construct, the variable file will be bound to open('huck_finn.txt');\n",
    "thus, to print the file to the shell, all the code you need to execute is:\n",
    "with open('huck_finn.txt') as file:\n",
    "    print(file.read())\n",
    "You'll now use these tools to print the first few lines of moby_dick.txt!\n",
    "Instructions\n",
    "-Open moby_dick.txt using the with context manager and the variable file.\n",
    "-Print the first three lines of the file to the shell by using readline() three\n",
    "times within the context manager.\n",
    "'''\n",
    "# Read & print the first 3 lines\n",
    "with open('../_datasets/moby_dick.txt') as file:\n",
    "    print(file.readline())\n",
    "    print(file.readline())\n",
    "    print(file.readline())"
   ]
  },
  {
   "cell_type": "code",
   "execution_count": 25,
   "metadata": {
    "scrolled": false
   },
   "outputs": [
    {
     "name": "stdout",
     "output_type": "stream",
     "text": [
      "<class 'numpy.ndarray'>\n"
     ]
    }
   ],
   "source": [
    "'''\n",
    "Using NumPy to import flat files\n",
    "100xp\n",
    "In this exercise, you're now going to load the MNIST digit recognition dataset using\n",
    "the numpy function loadtxt() and see just how easy it can be:\n",
    "-The first argument will be the filename.\n",
    "-The second will be the delimiter which, in this case, is a comma.\n",
    "You can find more information about the MNIST dataset here on the webpage of Yann LeCun,\n",
    "who is currently Director of AI Research at Facebook and Founding Director of the NYU\n",
    "Center for Data Science, among many other things.\n",
    "Instructions\n",
    "-Fill in the arguments of np.loadtxt() by passing file and a comma ',' for the delimiter.\n",
    "-Fill in the argument of print() to print the type of the object digits. Use the function type().\n",
    "-Execute the rest of the code to visualize one of the rows of the data.\n",
    "'''\n",
    "\n",
    "# Import package\n",
    "import numpy as np\n",
    "import matplotlib.pyplot as plt\n",
    "\n",
    "# Assign filename to variable: file\n",
    "file = 'mnist_test.csv'\n",
    "\n",
    "# Load file as array: digits\n",
    "digits = np.loadtxt(file, delimiter=',')\n",
    "#digits = pd.read_csv(file, nrows=29, header=None)\n",
    "\n",
    "\n",
    "# Print datatype of digits\n",
    "print(type(digits))\n",
    "#digits=digits.astype(int)\n",
    "# Select and reshape a row\n",
    "im = digits[21, 1:]\n"
   ]
  },
  {
   "cell_type": "code",
   "execution_count": 26,
   "metadata": {},
   "outputs": [],
   "source": [
    "im_sq = np.reshape(im, (28, 28))\n"
   ]
  },
  {
   "cell_type": "code",
   "execution_count": 27,
   "metadata": {},
   "outputs": [
    {
     "data": {
      "image/png": "[encoded data removed]",
      "text/plain": [
       "<Figure size 432x288 with 1 Axes>"
      ]
     },
     "metadata": {
      "needs_background": "light"
     },
     "output_type": "display_data"
    }
   ],
   "source": [
    "# Plot reshaped data (matplotlib.pyplot already loaded as plt)\n",
    "plt.imshow(im_sq, cmap='Greys', interpolation='nearest')\n",
    "plt.show()"
   ]
  },
  {
   "cell_type": "markdown",
   "metadata": {},
   "source": [
    "It is common to need to reshape a one-dimensional array into a two-dimensional array with one column and multiple arrays.\n",
    "\n",
    "NumPy provides the reshape() function on the NumPy array object that can be used to reshape the data.\n",
    "\n",
    "The reshape() function takes a single argument that specifies the new shape of the array. In the case of reshaping a one-dimensional array into a two-dimensional array with one column, the tuple would be the shape of the array as the first dimension (data.shape[0]) and 1 for the second dimension.\n",
    "\n",
    "data = data.reshape((data.shape[0], 1))\n",
    "1\n",
    "data = data.reshape((data.shape[0], 1))\n"
   ]
  },
  {
   "cell_type": "code",
   "execution_count": null,
   "metadata": {},
   "outputs": [],
   "source": [
    "'''\n",
    "Using pandas to import flat files as DataFrames (1)\n",
    "100xp\n",
    "In the last exercise, you were able to import flat files containing columns with\n",
    "different datatypes as numpy arrays. However, the DataFrame object in pandas is a\n",
    "more appropriate structure in which to store such data and, thankfully, we can easily\n",
    "import files of mixed data types as DataFrames using the pandas functions read_csv()\n",
    "and read_table().\n",
    "Instructions\n",
    "-Import the pandas package using the alias pd.\n",
    "-Read titanic.csv into a DataFrame called df. The file name is already stored in\n",
    "the file object.\n",
    "-In a print() call, view the head of the DataFrame.\n",
    "'''\n",
    "# Import pandas as pd\n",
    "import pandas as pd\n",
    "\n",
    "# Assign the filename: file\n",
    "file = '../_datasets/titanic.csv'\n",
    "\n",
    "# Read the file into a DataFrame: df\n",
    "df = pd.read_csv(file)\n",
    "\n",
    "# View the head of the DataFrame\n",
    "print(df.head())"
   ]
  },
  {
   "cell_type": "code",
   "execution_count": null,
   "metadata": {},
   "outputs": [],
   "source": [
    "'''\n",
    "Using pandas to import flat files as DataFrames (2)\n",
    "100xp\n",
    "In the last exercise, you were able to import flat files into a pandas\n",
    "DataFrame. As a bonus, it is then straightforward to retrieve the corresponding\n",
    "numpy array using the attribute values. You'll now have a chance to do this using\n",
    "the MNIST dataset, which is available as digits.csv.\n",
    "Instructions\n",
    "-Import the first 5 rows of the file into a DataFrame using the function pd.read_csv()\n",
    "and assign the result to data. You'll need to use the arguments nrows and header\n",
    "(there is no header in this file).\n",
    "-Build a numpy array from the resulting DataFrame in data and assign to data_array.\n",
    "-Execute print(type(data_array)) to print the datatype of data_array.\n",
    "'''\n",
    "import numpy as np\n",
    "import pandas as pd\n",
    "\n",
    "# Assign the filename: file\n",
    "file = '../_datasets/digits.csv'\n",
    "\n",
    "# Read the first 5 rows of the file into a DataFrame: data\n",
    "data = pd.read_csv(file, nrows=5, header=None)\n",
    "\n",
    "# Build a numpy array from the DataFrame: data_array\n",
    "data_array = data.values\n",
    "\n",
    "# Print the datatype of data_array to the shell\n",
    "print(type(data_array))"
   ]
  },
  {
   "cell_type": "code",
   "execution_count": null,
   "metadata": {},
   "outputs": [],
   "source": [
    "'''\n",
    "Working with mixed datatypes (1)\n",
    "50xp\n",
    "Much of the time you will need to import datasets which have different datatypes\n",
    "in different columns; one column may contain strings and another floats, for example.\n",
    "The function np.loadtxt() will freak at this. There is another function, np.genfromtxt(),\n",
    "which can handle such structures. If we pass dtype=None to it, it will figure out what\n",
    "types each column should be.\n",
    "Import 'titanic.csv' using the function np.genfromtxt() as follows:\n",
    "data = np.genfromtxt('titanic.csv', delimiter=',', names=True, dtype=None)\n",
    "Here, the first argument is the filename, the second specifies the delimiter , and the\n",
    "third argument names tells us there is a header. Because the data are of different types,\n",
    "data is an object called a structured array. Because numpy arrays have to contain elements\n",
    "that are all the same type, the structured array solves this by being a 1D array, where\n",
    "each element of the array is a row of the flat file imported. You can test this by checking\n",
    "out the array's shape in the shell by executing np.shape(data).\n",
    "Acccessing rows and columns of structured arrays is super-intuitive: to get the ith row,\n",
    "merely execute data[i] and to get the column with name 'Fare', execute data['Fare'].\n",
    "Print the entire column with name Survived to the shell. What are the last 4 values of this column?\n",
    "Possible Answers\n",
    "-1,0,0,1\n",
    "-1,2,0,0\n",
    "-1,0,1,0\n",
    "-0,1,0\n",
    "'''\n",
    "import numpy as np\n",
    "\n",
    "data = np.genfromtxt('../_datasets/titanic.csv', delimiter=',', names=True, dtype=None)\n",
    "\n",
    "print(np.shape(data))\n",
    "\n",
    "print(data['Survived'])\n",
    "\n",
    "# 1,0,1,0"
   ]
  },
  {
   "cell_type": "code",
   "execution_count": null,
   "metadata": {},
   "outputs": [],
   "source": [
    "'''\n",
    "Working with mixed datatypes (2)\n",
    "100xp\n",
    "You have just used np.genfromtxt() to import data containing mixed datatypes. There\n",
    "is also another function np.recfromcsv() that behaves similarly to np.genfromtxt(),\n",
    "except that its default dtype is None. In this exercise, you'll practice using this\n",
    "to achieve the same result.\n",
    "Instructions\n",
    "-Import titanic.csv using the function np.recfromcsv() and assign it to the variable,\n",
    "d. You'll only need to pass file to it because it has the defaults delimiter=',' and\n",
    "names=True in addition to dtype=None!\n",
    "-Run the remaining code to print the first three entries of the resulting array d.\n",
    "'''\n",
    "import numpy as np\n",
    "\n",
    "# Assign the filename: file\n",
    "file = '../_datasets/titanic.csv'\n",
    "\n",
    "# Import file using np.recfromcsv: d\n",
    "d = np.recfromcsv(file)\n",
    "\n",
    "# Print out first three entries of d\n",
    "print(d[:3])"
   ]
  },
  {
   "cell_type": "code",
   "execution_count": null,
   "metadata": {},
   "outputs": [],
   "source": [
    "#loading pickled file\n",
    "'''\n",
    "Loading a pickled file\n",
    "100xp\n",
    "There are a number of datatypes that cannot be saved easily to flat files, such as lists\n",
    "and dictionaries. If you want your files to be human readable, you may want to save them as\n",
    "text files in a clever manner. JSONs, which you will see in a later chapter, are appropriate for Python dictionaries.\n",
    "However, if you merely want to be able to import them into Python, you can serialize them.\n",
    "All this means is converting the object into a sequence of bytes, or a bytestream.\n",
    "In this exercise, you'll import the pickle package, open a previously pickled data structure\n",
    "from a file and load it.\n",
    "Instructions\n",
    "-Import the pickle package.\n",
    "-Complete the second argument of open() so that it is read only for a binary file. This\n",
    "argument will be a string of two letters, one signifying 'read only', the other 'binary'.\n",
    "-Pass the correct argument to pickle.load(); it should use the variable that is bound to open.\n",
    "-Print the data, d.\n",
    "-Print the datatype of d; take your mind back to your previous use of the function type().\n",
    "'''\n",
    "# Import pickle package\n",
    "import pickle\n",
    "\n",
    "# Open pickle file and load data: d\n",
    "with open('data.pkl', 'rb') as file:\n",
    "    d = pickle.load(file)\n",
    "\n",
    "# Print d\n",
    "print(d)\n",
    "\n",
    "# Print datatype of d\n",
    "print(type(d))"
   ]
  },
  {
   "cell_type": "code",
   "execution_count": null,
   "metadata": {},
   "outputs": [],
   "source": [
    "#listing sheets in excel file\n",
    "'''\n",
    "Listing sheets in Excel files\n",
    "100xp\n",
    "Whether you like it or not, any working data scientist will need to deal\n",
    "with Excel spreadsheets at some point in time. You won't always want to do\n",
    "so in Excel, however!\n",
    "Here, you'll learn how to use pandas to import Excel spreadsheets and how to\n",
    "list the names of the sheets in any loaded .xlsx file.\n",
    "Recall from the video that, given an Excel file imported into a variable spreadsheet,\n",
    "you can retrieve a list of the sheet names using the attribute spreadsheet.sheet_names.\n",
    "Specifically, you'll be loading and checking out the spreadsheet 'battledeath.xlsx',\n",
    "modified from the Peace Research Institute Oslo's (PRIO) dataset. This data contains\n",
    "age-adjusted mortality rates due to war in various countries over several years.\n",
    "Instructions\n",
    "Assign the filename to the variable file.\n",
    "Pass the correct argument to pd.ExcelFile() to load the file using pandas.\n",
    "Print the sheetnames of the Excel spreadsheet by passing the necessary argument to\n",
    "the print() function.\n",
    "'''\n",
    "# Import pandas\n",
    "import pandas as pd\n",
    "\n",
    "# Assign spreadsheet filename: file\n",
    "file = '../_datasets/battledeath.xlsx'\n",
    "\n",
    "# Load spreadsheet: xl\n",
    "xl = pd.ExcelFile(file)\n",
    "\n",
    "# Print sheet names\n",
    "print(xl.sheet_names)\n"
   ]
  },
  {
   "cell_type": "code",
   "execution_count": null,
   "metadata": {},
   "outputs": [],
   "source": [
    "#Importing sheets from excel files\n",
    "\n",
    "'''\n",
    "Importing sheets from Excel files\n",
    "100xp\n",
    "In the previous exercises, you saw that the Excel file contains two sheets,\n",
    "'2002' and '2004'. The next step is to import these.\n",
    "In this exercise, you'll learn how to import any given sheet of your loaded\n",
    ".xslx file as a DataFrame. You'll be able to do so by specifying either the\n",
    "sheet's name or its index.\n",
    "The spreadsheet 'battledeath.xlsx' is already loaded as xl.\n",
    "Instructions\n",
    "-Load the sheet '2004' into the DataFrame df1 using its name as a string.\n",
    "-Print the head of df1 to the shell.\n",
    "-Load the sheet 2002 into the DataFrame df2 using its index.\n",
    "-Print the head of df2 to the shell.\n",
    "'''\n",
    "# Import pandas\n",
    "import pandas as pd\n",
    "\n",
    "# Assign spreadsheet filename: file\n",
    "file = '../_datasets/battledeath.xlsx'\n",
    "\n",
    "# Load spreadsheet: xl\n",
    "xl = pd.ExcelFile(file)\n",
    "\n",
    "# Load a sheet into a DataFrame by name: df1\n",
    "df1 = xl.parse('2004')\n",
    "\n",
    "# Print the head of the DataFrame df1\n",
    "print(df1.head())\n",
    "\n",
    "# Load a sheet into a DataFrame by index: df2\n",
    "df2 = xl.parse(0)\n",
    "\n",
    "# Print the head of the DataFrame df2\n",
    "print(df2.head())"
   ]
  },
  {
   "cell_type": "code",
   "execution_count": null,
   "metadata": {},
   "outputs": [],
   "source": [
    "#customizing import from EXcel file\n",
    "'''\n",
    "Customizing your spreadsheet import\n",
    "100xp\n",
    "Here, you'll parse your spreadsheets and use additional arguments to skip rows,\n",
    "rename columns and select only particular columns.\n",
    "The spreadsheet 'battledeath.xlsx' is already loaded as xl.\n",
    "As before, you'll use the method parse(). This time, however, you'll add the additional\n",
    "arguments skiprows, names and parse_cols. These skip rows, name the columns and designate\n",
    "which columns to parse, respectively. All these arguments can be assigned to lists\n",
    "containing the specific row numbers, strings and column numbers, as appropriate.\n",
    "Instructions\n",
    "-Parse the first sheet by index. In doing so, skip the first row of data and name the\n",
    "columns 'Country' and 'AAM due to War (2002)' using the argument names. The values passed\n",
    "to skiprows and names all need to be of type list.\n",
    "-Parse the second sheet by index. In doing so, parse only the first column with the\n",
    "parse_cols parameter, skip the first row and rename the column 'Country'. The argument passed to parse_cols also needs to be of type list.\n",
    "'''\n",
    "\n",
    "# Import pandas\n",
    "import pandas as pd\n",
    "\n",
    "# Assign spreadsheet filename: file\n",
    "file = '../_datasets/battledeath.xlsx'\n",
    "\n",
    "# Load spreadsheet: xl\n",
    "xl = pd.ExcelFile(file)\n",
    "\n",
    "# Parse the first sheet and rename the columns: df1\n",
    "df1 = xl.parse(0, skiprows=[0], names=['Country', 'AAM due to War (2002)'])\n",
    "\n",
    "# Print the head of the DataFrame df1\n",
    "print(df1.head())\n",
    "\n",
    "# Parse the first column of the second sheet and rename the column: df2\n",
    "df2 = xl.parse(0, parse_cols=[0], skiprows=[0], names=['Country'])\n",
    "\n",
    "# Print the head of the DataFrame df2\n",
    "print(df2.head())"
   ]
  },
  {
   "cell_type": "code",
   "execution_count": null,
   "metadata": {},
   "outputs": [],
   "source": [
    "#import strata files with read_strata\n",
    "'''\n",
    "Using read_stata to import Stata files\n",
    "50xp\n",
    "The pandas package has been imported in the environment as pd and\n",
    "the file disarea.dta is in your working directory. The data consist\n",
    "of disease extents for several diseases in various countries (more\n",
    "information can be found here).\n",
    "What is the correct way of using the read_stata() function to import\n",
    "disarea.dta into the object df?\n",
    "Possible Answers\n",
    "-df = 'disarea.dta'\n",
    "-df = read_stata.pd('disarea.dta')\n",
    "-df = pd.read_stata('disarea.dta')\n",
    "-df = pd.read_stata(disarea.dta)\n",
    "'''\n",
    "import pandas as pd\n",
    "\n",
    "df = pd.read_stata('../_datasets/disarea.dta')\n",
    "\n",
    "\n",
    "print(df.head())\n"
   ]
  },
  {
   "cell_type": "code",
   "execution_count": null,
   "metadata": {},
   "outputs": [],
   "source": [
    "#importing strata files\n",
    "'''\n",
    "Importing Stata files\n",
    "100xp\n",
    "Here, you'll gain expertise in importing Stata files as DataFrames using\n",
    "the pd.read_stata() function from pandas. The last exercise's file,\n",
    "'disarea.dta', is still in your working directory.\n",
    "Instructions\n",
    "-Use pd.read_stata() to load the file 'disarea.dta' into the DataFrame df.\n",
    "-Print the head of the DataFrame df.\n",
    "-Visualize your results by plotting a histogram of the column disa10.\n",
    "We’ve already provided this code for you, so just run it!\n",
    "'''\n",
    "import matplotlib.pyplot as plt\n",
    "\n",
    "# Import pandas\n",
    "import pandas as pd\n",
    "\n",
    "# Load Stata file into a pandas DataFrame: df\n",
    "df = pd.read_stata('../_datasets/disarea.dta')\n",
    "\n",
    "# Print the head of the DataFrame df\n",
    "print(df.head())\n",
    "\n",
    "# Plot histogram of one column of the DataFrame\n",
    "pd.DataFrame.hist(df[['disa10']])\n",
    "plt.xlabel('Extent of disease')\n",
    "plt.ylabel('Number of coutries')\n",
    "plt.show()"
   ]
  },
  {
   "cell_type": "code",
   "execution_count": null,
   "metadata": {},
   "outputs": [],
   "source": [
    "#importing SAS files\n",
    "'''\n",
    "Importing SAS files\n",
    "100xp\n",
    "In this exercise, you'll figure out how to import a SAS file as a DataFrame\n",
    "using SAS7BDAT and pandas. The file 'sales.sas7bdat' is already in your working\n",
    "directory and both pandas and matplotlib.pyplot have already been imported as follows:\n",
    "import pandas as pd\n",
    "import matplotlib.pyplot as plt\n",
    "The data are adapted from the website of the undergraduate text book Principles\n",
    "of Economics by Hill, Griffiths and Lim.\n",
    "Instructions\n",
    "-Import the module SAS7BDAT from the library sas7bdat.\n",
    "-In the context of the file 'sales.sas7bdat', load its contents to a DataFrame\n",
    "df_sas, using the method to_data_frame() on the object file.\n",
    "-Print the head of the DataFrame df_sas.\n",
    "-Execute your entire script to produce a histogram plot!\n",
    "'''\n",
    "import pandas as pd\n",
    "import matplotlib.pyplot as plt\n",
    "\n",
    "# Import sas7bdat package\n",
    "from sas7bdat import SAS7BDAT\n",
    "\n",
    "# Save file to a DataFrame: df_sas\n",
    "with SAS7BDAT('../_datasets/sales.sas7bdat') as file:\n",
    "    df_sas = file.to_data_frame()\n",
    "\n",
    "# Print head of DataFrame\n",
    "print(df_sas.head())\n",
    "\n",
    "# Plot histogram of DataFrame features (pandas and pyplot already imported)\n",
    "pd.DataFrame.hist(df_sas[['P']])\n",
    "plt.ylabel('count')\n",
    "plt.show()"
   ]
  },
  {
   "cell_type": "code",
   "execution_count": null,
   "metadata": {},
   "outputs": [],
   "source": [
    "#using file to import hdf5 files\n",
    "'''\n",
    "Using File to import HDF5 files\n",
    "50xp\n",
    "The h5py package has been imported in the environment and the file LIGO_data.hdf5 is loaded in the object h5py_file.\n",
    "What is the correct way of using the h5py function, File(), to import the file in h5py_file into an object, h5py_data, for reading only?\n",
    "Possible Answers\n",
    "-h5py_data = File(h5py_file, 'r')\n",
    "-h5py_data = h5py.File(h5py_file, 'r')\n",
    "-h5py_data = h5py.File(h5py_file, read)\n",
    "-h5py_data = h5py.File(h5py_file, 'read')\n",
    "'''\n",
    "import h5py\n",
    "\n",
    "filename = '../_datasets/LIGO_data.hdf5'\n",
    "\n",
    "h5py_data = h5py.File(filename, 'r')\n",
    "\n",
    "print(type(h5py_data))"
   ]
  },
  {
   "cell_type": "code",
   "execution_count": 29,
   "metadata": {},
   "outputs": [
    {
     "name": "stdout",
     "output_type": "stream",
     "text": [
      "<class 'h5py._hl.files.File'>\n",
      "meta\n",
      "quality\n",
      "strain\n"
     ]
    }
   ],
   "source": [
    "# Import packages\n",
    "import numpy as np\n",
    "import h5py\n",
    "\n",
    "# Assign filename: file\n",
    "file = 'LIGO_data.hdf5'\n",
    "\n",
    "# Load file: data\n",
    "data = h5py.File(file, 'r')\n",
    "\n",
    "# Print the datatype of the loaded file\n",
    "print(type(data))\n",
    "\n",
    "# Print the keys of the file\n",
    "for key in data.keys():\n",
    "    print(key)"
   ]
  },
  {
   "cell_type": "code",
   "execution_count": 30,
   "metadata": {},
   "outputs": [
    {
     "name": "stdout",
     "output_type": "stream",
     "text": [
      "Strain\n"
     ]
    },
    {
     "data": {
      "image/png": "[encoded data removed]",
      "text/plain": [
       "<Figure size 432x288 with 1 Axes>"
      ]
     },
     "metadata": {
      "needs_background": "light"
     },
     "output_type": "display_data"
    }
   ],
   "source": [
    "#extracting data from HDF5 file\n",
    "'''\n",
    "Extracting data from your HDF5 file\n",
    "100xp\n",
    "In this exercise, you'll extract some of the LIGO experiment's actual data\n",
    "from the HDF5 file and you'll visualize it.\n",
    "To do so, you'll need to first explore the HDF5 group 'strain'.\n",
    "Instructions\n",
    "-Assign the HDF5 group data['strain'] to group.\n",
    "-In the for loop, print out the keys of the HDF5 group in group.\n",
    "-Assign to the variable strain the values of the time series data\n",
    "data['strain']['Strain'] using the attribute .value.\n",
    "-Set num_samples equal to 10000, the number of time points we wish to sample.\n",
    "-Execute the rest of the code to produce a plot of the time series data in LIGO_data.hdf5.\n",
    "'''\n",
    "# Import packages\n",
    "import numpy as np\n",
    "import h5py\n",
    "import matplotlib.pyplot as plt\n",
    "\n",
    "# Assign filename: file\n",
    "file = 'LIGO_data.hdf5'\n",
    "\n",
    "# Load file: data\n",
    "data = h5py.File(file, 'r')\n",
    "\n",
    "# Get the HDF5 group: group\n",
    "group = data['strain']\n",
    "\n",
    "# Check out keys of group\n",
    "for key in group.keys():\n",
    "    print(key)\n",
    "\n",
    "# Set variable equal to time series data: strain\n",
    "strain = data['strain']['Strain'].value\n",
    "\n",
    "# Set number of time points to sample: num_samples\n",
    "num_samples = 10000\n",
    "\n",
    "# Set time vector\n",
    "time = np.arange(0, 1, 1/num_samples)\n",
    "\n",
    "# Plot data\n",
    "plt.plot(time, strain[:num_samples])\n",
    "plt.xlabel('GPS Time (s)')\n",
    "plt.ylabel('strain')\n",
    "plt.show()\n"
   ]
  },
  {
   "cell_type": "code",
   "execution_count": 31,
   "metadata": {},
   "outputs": [
    {
     "name": "stdout",
     "output_type": "stream",
     "text": [
      "<class 'dict'>\n"
     ]
    }
   ],
   "source": [
    "## Loading .mat files MATLAB\n",
    "'''\n",
    "Loading .mat files\n",
    "100xp\n",
    "In this exercise, you'll figure out how to load a MATLAB file using scipy.io.loadmat()\n",
    "and you'll discover what Python datatype it yields.\n",
    "The file 'albeck_gene_expression.mat' is in your working directory. This file contains\n",
    "gene expression data from the Albeck Lab at UC Davis. You can find the data and some\n",
    "great documentation here.\n",
    "Instructions\n",
    "-Import the package scipy.io.\n",
    "-Load the file 'albeck_gene_expression.mat' into the variable mat; do so using the\n",
    "function scipy.io.loadmat().\n",
    "-Use the function type() to print the datatype of mat to the IPython shell.\n",
    "'''\n",
    "# Import package\n",
    "import scipy.io\n",
    "\n",
    "# Load MATLAB file: mat\n",
    "mat = scipy.io.loadmat('albeck_gene_expression.mat')\n",
    "\n",
    "# Print the datatype type of mat\n",
    "print(type(mat))"
   ]
  },
  {
   "cell_type": "code",
   "execution_count": 36,
   "metadata": {},
   "outputs": [
    {
     "name": "stdout",
     "output_type": "stream",
     "text": [
      "dict_keys(['__header__', '__version__', '__globals__', 'rfpCyt', 'rfpNuc', 'cfpNuc', 'cfpCyt', 'yfpNuc', 'yfpCyt', 'CYratioCyt'])\n",
      "<class 'numpy.ndarray'>\n",
      "(200, 137)\n"
     ]
    },
    {
     "data": {
      "image/png": "[encoded data removed]",
      "text/plain": [
       "<Figure size 432x288 with 1 Axes>"
      ]
     },
     "metadata": {
      "needs_background": "light"
     },
     "output_type": "display_data"
    }
   ],
   "source": [
    "'''\n",
    "The structure of .mat in Python\n",
    "100xp\n",
    "Here, you'll discover what is in the MATLAB dictionary that you loaded in the \n",
    "previous exercise.\n",
    "The file 'albeck_gene_expression.mat' is already loaded into the variable mat.\n",
    "The following libraries have already been imported as follows:\n",
    "import scipy.io\n",
    "import matplotlib.pyplot as plt\n",
    "import numpy as np\n",
    "Once again, this file contains gene expression data from the Albeck Lab at UCDavis.\n",
    "You can find the data and some great documentation here.\n",
    "Instructions\n",
    "-Use the method .keys() on the dictionary mat to print the keys. Most of these keys\n",
    "(in fact the ones that do NOT begin and end with '__') are variables from the\n",
    "corresponding MATLAB environment.\n",
    "-Print the type of the value corresponding to the key 'CYratioCyt' in mat. Recall\n",
    "that mat['CYratioCyt'] accesses the value.\n",
    "-Print the shape of the value corresponding to the key 'CYratioCyt' using the numpy\n",
    "function shape().\n",
    "-Execute the entire script to see some oscillatory gene expression data!\n",
    "'''\n",
    "# Import package\n",
    "import scipy.io\n",
    "import matplotlib.pyplot as plt\n",
    "import numpy as np\n",
    "\n",
    "# Load MATLAB file: mat\n",
    "mat = scipy.io.loadmat('albeck_gene_expression.mat')\n",
    "\n",
    "# Print the keys of the MATLAB dictionary\n",
    "print(mat.keys())\n",
    "\n",
    "# Print the type of the value corresponding to the key 'CYratioCyt'\n",
    "print(type(mat['CYratioCyt']))\n",
    "\n",
    "# Print the shape of the value corresponding to the key 'CYratioCyt'\n",
    "print(np.shape(mat['CYratioCyt']))\n",
    "\n",
    "# Subset the array and plot it\n",
    "data = mat['CYratioCyt'][25, 5:]\n",
    "fig = plt.figure()\n",
    "plt.plot(data)\n",
    "plt.xlabel('time (min.)')\n",
    "plt.ylabel('normalized fluorescence (measure of expression)')\n",
    "plt.show()"
   ]
  },
  {
   "cell_type": "markdown",
   "metadata": {},
   "source": [
    "### SQL exercises"
   ]
  },
  {
   "cell_type": "code",
   "execution_count": null,
   "metadata": {},
   "outputs": [],
   "source": [
    "# SELECT\n",
    "# Import packages\n",
    "from sqlalchemy import create_engine\n",
    "import pandas as pd\n",
    "\n",
    "# Create engine: engine\n",
    "engine = create_engine('sqlite:///../_datasets/Chinook.sqlite')\n",
    "\n",
    "# Open engine in context manager\n",
    "# Perform query and save results to DataFrame: df\n",
    "with engine.connect() as con:\n",
    "    rs = con.execute('SELECT LastName, Title FROM Employee')\n",
    "    df = pd.DataFrame(rs.fetchmany(size=3))\n",
    "    df.columns = rs.keys()\n",
    "\n",
    "# Print the length of the DataFrame df\n",
    "print(len(df))\n",
    "\n",
    "# Print the head of the DataFrame df\n",
    "print(df.head())"
   ]
  },
  {
   "cell_type": "code",
   "execution_count": null,
   "metadata": {},
   "outputs": [],
   "source": [
    "# Filtering with SELECT\n",
    "# Import packages\n",
    "from sqlalchemy import create_engine\n",
    "import pandas as pd\n",
    "\n",
    "# Create engine: engine\n",
    "engine = create_engine('sqlite:///../_datasets/Chinook.sqlite')\n",
    "\n",
    "# Open engine in context manager\n",
    "# Perform query and save results to DataFrame: df\n",
    "with engine.connect() as con:\n",
    "    rs = con.execute('SELECT * FROM Employee WHERE EmployeeID >= 6')\n",
    "    df = pd.DataFrame(rs.fetchall())\n",
    "    df.columns = rs.keys()\n",
    "\n",
    "# Print the head of the DataFrame df\n",
    "print(df.head())"
   ]
  },
  {
   "cell_type": "code",
   "execution_count": null,
   "metadata": {},
   "outputs": [],
   "source": [
    "# Filtering INNER JOIN\n",
    "# Execute query and store records in DataFrame: df\n",
    "df = pd.read_sql_query(\n",
    "    'SELECT * FROM PlaylistTrack INNER JOIN Track on PlaylistTrack.TrackId = \\\n",
    "    Track.TrackID WHERE Milliseconds < 250000', engine)\n"
   ]
  },
  {
   "cell_type": "code",
   "execution_count": null,
   "metadata": {},
   "outputs": [],
   "source": [
    "# Ordering with ORDER BY\n",
    "with engine.connect() as con:\n",
    "    rs = con.execute('SELECT * FROM Employee ORDER BY BirthDate')\n",
    "    df = pd.DataFrame(rs.fetchall())\n",
    "\n",
    "    # Set the DataFrame's column names\n",
    "    df.columns = rs.keys()"
   ]
  },
  {
   "cell_type": "code",
   "execution_count": null,
   "metadata": {},
   "outputs": [],
   "source": [
    "# Execute query and store records in DataFrame: df\n",
    "df = pd.read_sql_query('SELECT * FROM Album', engine)\n",
    "\n",
    "# Print head of DataFrame\n",
    "print(df.head())\n",
    "\n",
    "# Open engine in context manager\n",
    "# Perform query and save results to DataFrame: df1\n",
    "with engine.connect() as con:\n",
    "    rs = con.execute(\"SELECT * FROM Album\")\n",
    "    df1 = pd.DataFrame(rs.fetchall())\n",
    "    df1.columns = rs.keys()\n",
    "\n",
    "# Confirm that both methods yield the same result: does df = df1 ?\n",
    "print(df.equals(df1))"
   ]
  }
 ],
 "metadata": {
  "kernelspec": {
   "display_name": "Python 3",
   "language": "python",
   "name": "python3"
  },
  "language_info": {
   "codemirror_mode": {
    "name": "ipython",
    "version": 3
   },
   "file_extension": ".py",
   "mimetype": "text/x-python",
   "name": "python",
   "nbconvert_exporter": "python",
   "pygments_lexer": "ipython3",
   "version": "3.7.1"
  }
 },
 "nbformat": 4,
 "nbformat_minor": 2
}
