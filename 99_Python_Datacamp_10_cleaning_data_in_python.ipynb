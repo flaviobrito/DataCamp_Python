{
 "cells": [
  {
   "cell_type": "markdown",
   "metadata": {},
   "source": [
    "# Cleaning Data in Python\n",
    "\n",
    "### 1 Exploring data\n",
    "Loading, Exploratory data analysis, summary stats,frequency counts, visual exploratory, single vas in histogram, multiple vars with boxplots, multiple vars with scatter plots\n",
    "\n",
    "### 2 Tidying data for analysis\n",
    "recognizing tidy data,reshaping data using melt (swapping columns and rows), customizing melted data, pivoting data (opposite of melt),resetting index of DataFrame, pivoting duplicate values,splitting column with .str, .split(), .get()\n",
    "### 3 Combining data for analysis\n",
    "concatenating data, combining rows of data, combining columns of data, finding and concatenating files, finding file that match a pattern, iterating and concatenating matches, merge data, 1 to 1 merge, many to 1 merge, many to many merge\n",
    "\n",
    "### 4 Cleaning data for analysis\n",
    "data types, converting data types, working with numerical data,using regular expressions to clean strings, string parsing with regular expressions, extracting numerical values from strings, pattern matching, using functions to clean data,custom functions to clean data,lambda fnctions, duplicate and missing data, dropping duplicate data, filling missing data, testing with asserts\n",
    "\n",
    "### 5 Case study\n",
    "exploratory analysis, visualizing data, assembling data, reshaping data, checking data types, mor cleaning and processing\n",
    "\n",
    "\n",
    "#### 1 exploring data\n",
    "##### Loading and viewing data"
   ]
  },
  {
   "cell_type": "code",
   "execution_count": 55,
   "metadata": {},
   "outputs": [
    {
     "name": "stdout",
     "output_type": "stream",
     "text": [
      "       Job #  Doc #    Borough House #                       Street Name  \\\n",
      "0  121577873      2  MANHATTAN     386  PARK AVENUE SOUTH                  \n",
      "\n",
      "   Block  Lot    Bin # Job Type Job Status           ...            \\\n",
      "0    857   38  1016890       A2          D           ...             \n",
      "\n",
      "                Owner's Last Name             Owner's Business Name  \\\n",
      "0  MIGLIORE                        MACKLOWE MANAGEMENT                \n",
      "\n",
      "  Owner's House Number          Owner'sHouse Street Name            City   \\\n",
      "0                  126  EAST 56TH STREET                  NEW YORK          \n",
      "\n",
      "  State    Zip Owner'sPhone #  \\\n",
      "0    NY  10222     2125545837   \n",
      "\n",
      "                                     Job Description              DOBRunDate  \n",
      "0  GENERAL MECHANICAL & PLUMBING MODIFICATIONS AS...  04/26/2013 12:00:00 AM  \n",
      "\n",
      "[1 rows x 82 columns]\n",
      "          Job #  Doc # Borough House #                       Street Name  \\\n",
      "3790  220288891      1   BRONX    1050  SOUNDVIEW AVENUE                   \n",
      "\n",
      "      Block  Lot    Bin # Job Type Job Status      ...        \\\n",
      "3790   3723    1  2092789       A2          P      ...         \n",
      "\n",
      "                   Owner's Last Name             Owner's Business Name  \\\n",
      "3790  GROOM                           NEW YORK CITY HOUSING AUTHORITY    \n",
      "\n",
      "     Owner's House Number          Owner'sHouse Street Name            City   \\\n",
      "3790                   90  CHURCH STREET                     NEW YORK          \n",
      "\n",
      "     State        Zip Owner'sPhone #  \\\n",
      "3790    NY  100072919     2123066936   \n",
      "\n",
      "                                        Job Description     DOBRunDate  \n",
      "3790  REPLACE GAS MAIN & 8 GAS RISERS. NO CHANGE IN ...  05-10-13 0:00  \n",
      "\n",
      "[1 rows x 82 columns]\n",
      "(3791, 82)\n"
     ]
    }
   ],
   "source": [
    "'''\n",
    "Loading and viewing data\n",
    "Import pandas as pd.\n",
    "-Read 'dob_job_application_filings_subset.csv' into a DataFrame called df.\n",
    "-Print the head and tail of df.\n",
    "-Print the shape of df and its columns. Note: .shape and .columns are attributes, not methods,\n",
    "so you don't need to follow these with parentheses ().\n",
    "-Hit 'Submit Answer' to view the results! Notice the suspicious number of 0 values. Perhaps these\n",
    "represent missing data.\n",
    "'''\n",
    "\n",
    "# Import pandas\n",
    "import pandas as pd\n",
    "\n",
    "# Read the file into a DataFrame: df\n",
    "df = pd.read_csv('dob_job_application_filings_sub.csv')\n",
    "\n",
    "# Print the head of df\n",
    "print(df.head(1))\n",
    "\n",
    "# Print the tail of df\n",
    "print(df.tail(1))\n",
    "\n",
    "# Print the shape of df\n",
    "print(df.shape)\n",
    "\n"
   ]
  },
  {
   "cell_type": "code",
   "execution_count": 4,
   "metadata": {},
   "outputs": [
    {
     "name": "stdout",
     "output_type": "stream",
     "text": [
      "<class 'pandas.core.frame.DataFrame'>\n",
      "RangeIndex: 3791 entries, 0 to 3790\n",
      "Data columns (total 82 columns):\n",
      "Job #                           3791 non-null int64\n",
      "Doc #                           3791 non-null int64\n",
      "Borough                         3791 non-null object\n",
      "House #                         3791 non-null object\n",
      "Street Name                     3791 non-null object\n",
      "Block                           3791 non-null int64\n",
      "Lot                             3791 non-null int64\n",
      "Bin #                           3791 non-null int64\n",
      "Job Type                        3791 non-null object\n",
      "Job Status                      3791 non-null object\n",
      "Job Status Descrp               3791 non-null object\n",
      "Latest Action Date              3791 non-null object\n",
      "Building Type                   3791 non-null object\n",
      "Community - Board               3791 non-null object\n",
      "Cluster                         0 non-null float64\n",
      "Landmarked                      632 non-null object\n",
      "Adult Estab                     1 non-null object\n",
      "Loft Board                      15 non-null object\n",
      "City Owned                      413 non-null object\n",
      "Little e                        95 non-null object\n",
      "PC Filed                        0 non-null float64\n",
      "eFiling Filed                   3791 non-null object\n",
      "Plumbing                        3791 non-null object\n",
      "Mechanical                      3791 non-null object\n",
      "Boiler                          3791 non-null object\n",
      "Fuel Burning                    3791 non-null object\n",
      "Fuel Storage                    3791 non-null object\n",
      "Standpipe                       3791 non-null object\n",
      "Sprinkler                       3791 non-null object\n",
      "Fire Alarm                      3791 non-null object\n",
      "Equipment                       3791 non-null object\n",
      "Fire Suppression                3791 non-null object\n",
      "Curb Cut                        3791 non-null object\n",
      "Other                           3791 non-null object\n",
      "Other Description               3791 non-null object\n",
      "Applicant's First Name          3791 non-null object\n",
      "Applicant's Last Name           3791 non-null object\n",
      "Applicant Professional Title    3791 non-null object\n",
      "Applicant License #             3791 non-null object\n",
      "Professional Cert               2090 non-null object\n",
      "Pre- Filing Date                3791 non-null object\n",
      "Paid                            3560 non-null object\n",
      "Fully Paid                      3560 non-null object\n",
      "Assigned                        1090 non-null object\n",
      "Approved                        1266 non-null object\n",
      "Fully Permitted                 475 non-null object\n",
      "Initial Cost                    3791 non-null object\n",
      "Total Est. Fee                  3791 non-null object\n",
      "Fee Status                      3791 non-null object\n",
      "Existing Zoning Sqft            3791 non-null int64\n",
      "Proposed Zoning Sqft            3791 non-null int64\n",
      "Horizontal Enlrgmt              74 non-null object\n",
      "Vertical Enlrgmt                42 non-null object\n",
      "Enlargement SQ Footage          3791 non-null int64\n",
      "Street Frontage                 3791 non-null int64\n",
      "ExistingNo. of Stories          3791 non-null int64\n",
      "Proposed No. of Stories         3791 non-null int64\n",
      "Existing Height                 3791 non-null int64\n",
      "Proposed Height                 3791 non-null int64\n",
      "Existing Dwelling Units         3791 non-null object\n",
      "Proposed Dwelling Units         3791 non-null object\n",
      "Existing Occupancy              3791 non-null object\n",
      "Proposed Occupancy              3791 non-null object\n",
      "Site Fill                       2566 non-null object\n",
      "Zoning Dist1                    3274 non-null object\n",
      "Zoning Dist2                    448 non-null object\n",
      "Zoning Dist3                    24 non-null object\n",
      "Special District 1              937 non-null object\n",
      "Special District 2              261 non-null object\n",
      "Owner Type                      0 non-null float64\n",
      "Non-Profit                      274 non-null object\n",
      "Owner's First Name              3791 non-null object\n",
      "Owner's Last Name               3791 non-null object\n",
      "Owner's Business Name           3791 non-null object\n",
      "Owner's House Number            3791 non-null object\n",
      "Owner'sHouse Street Name        3791 non-null object\n",
      "City                            3791 non-null object\n",
      "State                           3791 non-null object\n",
      "Zip                             3791 non-null int64\n",
      "Owner'sPhone #                  3791 non-null int64\n",
      "Job Description                 3746 non-null object\n",
      "DOBRunDate                      3791 non-null object\n",
      "dtypes: float64(3), int64(15), object(64)\n",
      "memory usage: 2.4+ MB\n",
      "None\n"
     ]
    }
   ],
   "source": [
    "### Further diagnostics\n",
    "'''\n",
    "The .info() method provides important information about a DataFrame, such as the number of rows,\n",
    "number of columns, number of non-missing values in each column, and the data type stored in each\n",
    "column. This is the kind of information that will allow you to confirm whether the 'Initial Cost'\n",
    "and 'Total Est. Fee' columns are numeric or strings. From the results, you'll also be able to see\n",
    "whether or not all columns have complete data in them.\n",
    "'''\n",
    "print(df.info())"
   ]
  },
  {
   "cell_type": "code",
   "execution_count": 5,
   "metadata": {},
   "outputs": [
    {
     "name": "stdout",
     "output_type": "stream",
     "text": [
      "Index(['Job #', 'Doc #', 'Borough', 'House #', 'Street Name', 'Block', 'Lot',\n",
      "       'Bin #', 'Job Type', 'Job Status', 'Job Status Descrp',\n",
      "       'Latest Action Date', 'Building Type', 'Community - Board', 'Cluster',\n",
      "       'Landmarked', 'Adult Estab', 'Loft Board', 'City Owned', 'Little e',\n",
      "       'PC Filed', 'eFiling Filed', 'Plumbing', 'Mechanical', 'Boiler',\n",
      "       'Fuel Burning', 'Fuel Storage', 'Standpipe', 'Sprinkler', 'Fire Alarm',\n",
      "       'Equipment', 'Fire Suppression', 'Curb Cut', 'Other',\n",
      "       'Other Description', 'Applicant's First Name', 'Applicant's Last Name',\n",
      "       'Applicant Professional Title', 'Applicant License #',\n",
      "       'Professional Cert', 'Pre- Filing Date', 'Paid', 'Fully Paid',\n",
      "       'Assigned', 'Approved', 'Fully Permitted', 'Initial Cost',\n",
      "       'Total Est. Fee', 'Fee Status', 'Existing Zoning Sqft',\n",
      "       'Proposed Zoning Sqft', 'Horizontal Enlrgmt', 'Vertical Enlrgmt',\n",
      "       'Enlargement SQ Footage', 'Street Frontage', 'ExistingNo. of Stories',\n",
      "       'Proposed No. of Stories', 'Existing Height', 'Proposed Height',\n",
      "       'Existing Dwelling Units', 'Proposed Dwelling Units',\n",
      "       'Existing Occupancy', 'Proposed Occupancy', 'Site Fill', 'Zoning Dist1',\n",
      "       'Zoning Dist2', 'Zoning Dist3', 'Special District 1',\n",
      "       'Special District 2', 'Owner Type', 'Non-Profit', 'Owner's First Name',\n",
      "       'Owner's Last Name', 'Owner's Business Name', 'Owner's House Number',\n",
      "       'Owner'sHouse Street Name', 'City ', 'State', 'Zip', 'Owner'sPhone #',\n",
      "       'Job Description', 'DOBRunDate'],\n",
      "      dtype='object')\n"
     ]
    }
   ],
   "source": [
    "# Print the columns of df\n",
    "print(df.columns)\n"
   ]
  },
  {
   "cell_type": "code",
   "execution_count": 8,
   "metadata": {},
   "outputs": [
    {
     "data": {
      "text/html": [
       "<div>\n",
       "<style scoped>\n",
       "    .dataframe tbody tr th:only-of-type {\n",
       "        vertical-align: middle;\n",
       "    }\n",
       "\n",
       "    .dataframe tbody tr th {\n",
       "        vertical-align: top;\n",
       "    }\n",
       "\n",
       "    .dataframe thead th {\n",
       "        text-align: right;\n",
       "    }\n",
       "</style>\n",
       "<table border=\"1\" class=\"dataframe\">\n",
       "  <thead>\n",
       "    <tr style=\"text-align: right;\">\n",
       "      <th></th>\n",
       "      <th>Job #</th>\n",
       "      <th>Doc #</th>\n",
       "      <th>Block</th>\n",
       "      <th>Lot</th>\n",
       "      <th>Bin #</th>\n",
       "      <th>Cluster</th>\n",
       "      <th>PC Filed</th>\n",
       "      <th>Existing Zoning Sqft</th>\n",
       "      <th>Proposed Zoning Sqft</th>\n",
       "      <th>Enlargement SQ Footage</th>\n",
       "      <th>Street Frontage</th>\n",
       "      <th>ExistingNo. of Stories</th>\n",
       "      <th>Proposed No. of Stories</th>\n",
       "      <th>Existing Height</th>\n",
       "      <th>Proposed Height</th>\n",
       "      <th>Owner Type</th>\n",
       "      <th>Zip</th>\n",
       "      <th>Owner'sPhone #</th>\n",
       "    </tr>\n",
       "  </thead>\n",
       "  <tbody>\n",
       "    <tr>\n",
       "      <th>count</th>\n",
       "      <td>3.791000e+03</td>\n",
       "      <td>3791.000000</td>\n",
       "      <td>3791.000000</td>\n",
       "      <td>3791.000000</td>\n",
       "      <td>3.791000e+03</td>\n",
       "      <td>0.0</td>\n",
       "      <td>0.0</td>\n",
       "      <td>3.791000e+03</td>\n",
       "      <td>3.791000e+03</td>\n",
       "      <td>3791.000000</td>\n",
       "      <td>3791.000000</td>\n",
       "      <td>3791.000000</td>\n",
       "      <td>3791.000000</td>\n",
       "      <td>3791.000000</td>\n",
       "      <td>3791.000000</td>\n",
       "      <td>0.0</td>\n",
       "      <td>3.791000e+03</td>\n",
       "      <td>3.791000e+03</td>\n",
       "    </tr>\n",
       "    <tr>\n",
       "      <th>mean</th>\n",
       "      <td>2.418390e+08</td>\n",
       "      <td>1.187022</td>\n",
       "      <td>2664.662622</td>\n",
       "      <td>577.264310</td>\n",
       "      <td>2.308348e+06</td>\n",
       "      <td>NaN</td>\n",
       "      <td>NaN</td>\n",
       "      <td>1.104458e+03</td>\n",
       "      <td>1.308648e+03</td>\n",
       "      <td>52.165919</td>\n",
       "      <td>2.963334</td>\n",
       "      <td>8.271169</td>\n",
       "      <td>8.324980</td>\n",
       "      <td>97.188868</td>\n",
       "      <td>97.752836</td>\n",
       "      <td>NaN</td>\n",
       "      <td>1.290086e+06</td>\n",
       "      <td>4.928145e+09</td>\n",
       "    </tr>\n",
       "    <tr>\n",
       "      <th>std</th>\n",
       "      <td>1.313071e+08</td>\n",
       "      <td>0.542252</td>\n",
       "      <td>3015.168066</td>\n",
       "      <td>1926.945678</td>\n",
       "      <td>1.400949e+06</td>\n",
       "      <td>NaN</td>\n",
       "      <td>NaN</td>\n",
       "      <td>2.263880e+04</td>\n",
       "      <td>2.339488e+04</td>\n",
       "      <td>973.020044</td>\n",
       "      <td>26.346573</td>\n",
       "      <td>12.241342</td>\n",
       "      <td>12.222709</td>\n",
       "      <td>161.998033</td>\n",
       "      <td>161.807886</td>\n",
       "      <td>NaN</td>\n",
       "      <td>1.142937e+07</td>\n",
       "      <td>2.722382e+09</td>\n",
       "    </tr>\n",
       "    <tr>\n",
       "      <th>min</th>\n",
       "      <td>1.036438e+08</td>\n",
       "      <td>1.000000</td>\n",
       "      <td>2.000000</td>\n",
       "      <td>1.000000</td>\n",
       "      <td>1.000003e+06</td>\n",
       "      <td>NaN</td>\n",
       "      <td>NaN</td>\n",
       "      <td>0.000000e+00</td>\n",
       "      <td>0.000000e+00</td>\n",
       "      <td>0.000000</td>\n",
       "      <td>0.000000</td>\n",
       "      <td>0.000000</td>\n",
       "      <td>0.000000</td>\n",
       "      <td>0.000000</td>\n",
       "      <td>0.000000</td>\n",
       "      <td>NaN</td>\n",
       "      <td>1.701000e+03</td>\n",
       "      <td>2.012205e+09</td>\n",
       "    </tr>\n",
       "    <tr>\n",
       "      <th>25%</th>\n",
       "      <td>1.216047e+08</td>\n",
       "      <td>1.000000</td>\n",
       "      <td>825.000000</td>\n",
       "      <td>10.000000</td>\n",
       "      <td>1.036082e+06</td>\n",
       "      <td>NaN</td>\n",
       "      <td>NaN</td>\n",
       "      <td>0.000000e+00</td>\n",
       "      <td>0.000000e+00</td>\n",
       "      <td>0.000000</td>\n",
       "      <td>0.000000</td>\n",
       "      <td>1.000000</td>\n",
       "      <td>1.000000</td>\n",
       "      <td>18.000000</td>\n",
       "      <td>20.000000</td>\n",
       "      <td>NaN</td>\n",
       "      <td>1.001900e+04</td>\n",
       "      <td>2.126831e+09</td>\n",
       "    </tr>\n",
       "    <tr>\n",
       "      <th>50%</th>\n",
       "      <td>2.202106e+08</td>\n",
       "      <td>1.000000</td>\n",
       "      <td>1386.000000</td>\n",
       "      <td>30.000000</td>\n",
       "      <td>2.002947e+06</td>\n",
       "      <td>NaN</td>\n",
       "      <td>NaN</td>\n",
       "      <td>0.000000e+00</td>\n",
       "      <td>0.000000e+00</td>\n",
       "      <td>0.000000</td>\n",
       "      <td>0.000000</td>\n",
       "      <td>4.000000</td>\n",
       "      <td>4.000000</td>\n",
       "      <td>45.000000</td>\n",
       "      <td>45.000000</td>\n",
       "      <td>NaN</td>\n",
       "      <td>1.031000e+04</td>\n",
       "      <td>5.164965e+09</td>\n",
       "    </tr>\n",
       "    <tr>\n",
       "      <th>75%</th>\n",
       "      <td>3.207576e+08</td>\n",
       "      <td>1.000000</td>\n",
       "      <td>3333.000000</td>\n",
       "      <td>57.000000</td>\n",
       "      <td>3.336703e+06</td>\n",
       "      <td>NaN</td>\n",
       "      <td>NaN</td>\n",
       "      <td>0.000000e+00</td>\n",
       "      <td>0.000000e+00</td>\n",
       "      <td>0.000000</td>\n",
       "      <td>0.000000</td>\n",
       "      <td>10.000000</td>\n",
       "      <td>10.000000</td>\n",
       "      <td>113.000000</td>\n",
       "      <td>114.000000</td>\n",
       "      <td>NaN</td>\n",
       "      <td>1.122100e+04</td>\n",
       "      <td>7.186309e+09</td>\n",
       "    </tr>\n",
       "    <tr>\n",
       "      <th>max</th>\n",
       "      <td>5.400225e+08</td>\n",
       "      <td>6.000000</td>\n",
       "      <td>16350.000000</td>\n",
       "      <td>9021.000000</td>\n",
       "      <td>5.864469e+06</td>\n",
       "      <td>NaN</td>\n",
       "      <td>NaN</td>\n",
       "      <td>1.100533e+06</td>\n",
       "      <td>1.100533e+06</td>\n",
       "      <td>50384.000000</td>\n",
       "      <td>777.000000</td>\n",
       "      <td>102.000000</td>\n",
       "      <td>102.000000</td>\n",
       "      <td>4200.000000</td>\n",
       "      <td>4200.000000</td>\n",
       "      <td>NaN</td>\n",
       "      <td>1.169118e+08</td>\n",
       "      <td>9.737684e+09</td>\n",
       "    </tr>\n",
       "  </tbody>\n",
       "</table>\n",
       "</div>"
      ],
      "text/plain": [
       "              Job #        Doc #         Block          Lot         Bin #  \\\n",
       "count  3.791000e+03  3791.000000   3791.000000  3791.000000  3.791000e+03   \n",
       "mean   2.418390e+08     1.187022   2664.662622   577.264310  2.308348e+06   \n",
       "std    1.313071e+08     0.542252   3015.168066  1926.945678  1.400949e+06   \n",
       "min    1.036438e+08     1.000000      2.000000     1.000000  1.000003e+06   \n",
       "25%    1.216047e+08     1.000000    825.000000    10.000000  1.036082e+06   \n",
       "50%    2.202106e+08     1.000000   1386.000000    30.000000  2.002947e+06   \n",
       "75%    3.207576e+08     1.000000   3333.000000    57.000000  3.336703e+06   \n",
       "max    5.400225e+08     6.000000  16350.000000  9021.000000  5.864469e+06   \n",
       "\n",
       "       Cluster  PC Filed  Existing Zoning Sqft  Proposed Zoning Sqft  \\\n",
       "count      0.0       0.0          3.791000e+03          3.791000e+03   \n",
       "mean       NaN       NaN          1.104458e+03          1.308648e+03   \n",
       "std        NaN       NaN          2.263880e+04          2.339488e+04   \n",
       "min        NaN       NaN          0.000000e+00          0.000000e+00   \n",
       "25%        NaN       NaN          0.000000e+00          0.000000e+00   \n",
       "50%        NaN       NaN          0.000000e+00          0.000000e+00   \n",
       "75%        NaN       NaN          0.000000e+00          0.000000e+00   \n",
       "max        NaN       NaN          1.100533e+06          1.100533e+06   \n",
       "\n",
       "       Enlargement SQ Footage  Street Frontage  ExistingNo. of Stories  \\\n",
       "count             3791.000000      3791.000000             3791.000000   \n",
       "mean                52.165919         2.963334                8.271169   \n",
       "std                973.020044        26.346573               12.241342   \n",
       "min                  0.000000         0.000000                0.000000   \n",
       "25%                  0.000000         0.000000                1.000000   \n",
       "50%                  0.000000         0.000000                4.000000   \n",
       "75%                  0.000000         0.000000               10.000000   \n",
       "max              50384.000000       777.000000              102.000000   \n",
       "\n",
       "       Proposed No. of Stories  Existing Height  Proposed Height  Owner Type  \\\n",
       "count              3791.000000      3791.000000      3791.000000         0.0   \n",
       "mean                  8.324980        97.188868        97.752836         NaN   \n",
       "std                  12.222709       161.998033       161.807886         NaN   \n",
       "min                   0.000000         0.000000         0.000000         NaN   \n",
       "25%                   1.000000        18.000000        20.000000         NaN   \n",
       "50%                   4.000000        45.000000        45.000000         NaN   \n",
       "75%                  10.000000       113.000000       114.000000         NaN   \n",
       "max                 102.000000      4200.000000      4200.000000         NaN   \n",
       "\n",
       "                Zip  Owner'sPhone #  \n",
       "count  3.791000e+03    3.791000e+03  \n",
       "mean   1.290086e+06    4.928145e+09  \n",
       "std    1.142937e+07    2.722382e+09  \n",
       "min    1.701000e+03    2.012205e+09  \n",
       "25%    1.001900e+04    2.126831e+09  \n",
       "50%    1.031000e+04    5.164965e+09  \n",
       "75%    1.122100e+04    7.186309e+09  \n",
       "max    1.169118e+08    9.737684e+09  "
      ]
     },
     "execution_count": 8,
     "metadata": {},
     "output_type": "execute_result"
    }
   ],
   "source": [
    "df.describe()"
   ]
  },
  {
   "cell_type": "code",
   "execution_count": 10,
   "metadata": {},
   "outputs": [
    {
     "name": "stdout",
     "output_type": "stream",
     "text": [
      "MANHATTAN        1876\n",
      "BROOKLYN          832\n",
      "QUEENS            629\n",
      "BRONX             285\n",
      "STATEN ISLAND     169\n",
      "Name: Borough, dtype: int64\n"
     ]
    }
   ],
   "source": [
    "### Frequency counts\n",
    "# Print the value counts for 'Borough'\n",
    "print(df['Borough'].value_counts(dropna=False))\n",
    "\n"
   ]
  },
  {
   "cell_type": "code",
   "execution_count": 11,
   "metadata": {},
   "outputs": [
    {
     "name": "stdout",
     "output_type": "stream",
     "text": [
      "NY    3660\n",
      "NJ      77\n",
      "PA      20\n",
      "CA       7\n",
      "VA       3\n",
      "CO       3\n",
      "TX       3\n",
      "MA       3\n",
      "DC       3\n",
      "UT       2\n",
      "MD       2\n",
      "IL       2\n",
      "OH       1\n",
      "FL       1\n",
      "CT       1\n",
      "NC       1\n",
      "TN       1\n",
      "GA       1\n",
      "Name: State, dtype: int64\n"
     ]
    }
   ],
   "source": [
    "# Print the value_counts for 'State'\n",
    "print(df['State'].value_counts(dropna=False))\n"
   ]
  },
  {
   "cell_type": "code",
   "execution_count": 12,
   "metadata": {},
   "outputs": [
    {
     "name": "stdout",
     "output_type": "stream",
     "text": [
      "NOT APPLICABLE                              2326\n",
      "NaN                                         1225\n",
      "ON-SITE                                      109\n",
      "OFF-SITE                                      81\n",
      "USE UNDER 300 CU.YD                           50\n",
      "Name: Site Fill, dtype: int64\n"
     ]
    }
   ],
   "source": [
    "# Print the value counts for 'Site Fill'\n",
    "print(df['Site Fill'].value_counts(dropna=False))"
   ]
  },
  {
   "cell_type": "markdown",
   "metadata": {},
   "source": [
    "### Visualiazing single variables with histograms"
   ]
  },
  {
   "cell_type": "code",
   "execution_count": 20,
   "metadata": {},
   "outputs": [
    {
     "data": {
      "image/png": "[encoded data removed]",
      "text/plain": [
       "<Figure size 432x288 with 1 Axes>"
      ]
     },
     "metadata": {
      "needs_background": "light"
     },
     "output_type": "display_data"
    }
   ],
   "source": [
    "### Visualiazing single variables with histograms\n",
    "#-Create a histogram of the 'Existing Zoning Sqft' column. Rotate the axis labels by 70 degrees\n",
    "#and use a log scale for both axes.\n",
    "#-Display the histogram using plt.show().\n",
    "\n",
    "# Import matplotlib.pyplot\n",
    "import matplotlib.pyplot as plt\n",
    "\n",
    "# Plot the histogram\n",
    "df['Existing Zoning Sqft'].plot(kind='hist', rot=70, logx=True, logy=True)\n",
    "\n",
    "# Display the histogram\n",
    "plt.show()"
   ]
  },
  {
   "cell_type": "code",
   "execution_count": 61,
   "metadata": {},
   "outputs": [
    {
     "name": "stderr",
     "output_type": "stream",
     "text": [
      "C:\\Users\\dave_\\Anaconda3_2\\lib\\site-packages\\ipykernel_launcher.py:2: FutureWarning: convert_objects is deprecated.  To re-infer data dtypes for object columns, use DataFrame.infer_objects()\n",
      "For all other conversions use the data-type specific converters pd.to_datetime, pd.to_timedelta and pd.to_numeric.\n",
      "  \n"
     ]
    },
    {
     "data": {
      "text/plain": [
       "Job #                         int64\n",
       "Doc #                         int64\n",
       "Borough                      object\n",
       "House #                     float64\n",
       "Street Name                  object\n",
       "Block                         int64\n",
       "Lot                           int64\n",
       "Bin #                         int64\n",
       "Job Type                     object\n",
       "Job Status                   object\n",
       "Job Status Descrp            object\n",
       "Latest Action Date           object\n",
       "Building Type                object\n",
       "Community - Board           float64\n",
       "Cluster                     float64\n",
       "Landmarked                   object\n",
       "Adult Estab                  object\n",
       "Loft Board                   object\n",
       "City Owned                   object\n",
       "Little e                     object\n",
       "PC Filed                    float64\n",
       "eFiling Filed                object\n",
       "Plumbing                     object\n",
       "Mechanical                   object\n",
       "Boiler                       object\n",
       "Fuel Burning                 object\n",
       "Fuel Storage                 object\n",
       "Standpipe                    object\n",
       "Sprinkler                    object\n",
       "Fire Alarm                   object\n",
       "                             ...   \n",
       "Vertical Enlrgmt             object\n",
       "Enlargement SQ Footage        int64\n",
       "Street Frontage               int64\n",
       "ExistingNo. of Stories        int64\n",
       "Proposed No. of Stories       int64\n",
       "Existing Height               int64\n",
       "Proposed Height               int64\n",
       "Existing Dwelling Units     float64\n",
       "Proposed Dwelling Units     float64\n",
       "Existing Occupancy           object\n",
       "Proposed Occupancy           object\n",
       "Site Fill                    object\n",
       "Zoning Dist1                 object\n",
       "Zoning Dist2                 object\n",
       "Zoning Dist3                 object\n",
       "Special District 1          float64\n",
       "Special District 2           object\n",
       "Owner Type                  float64\n",
       "Non-Profit                   object\n",
       "Owner's First Name           object\n",
       "Owner's Last Name           float64\n",
       "Owner's Business Name        object\n",
       "Owner's House Number        float64\n",
       "Owner'sHouse Street Name    float64\n",
       "City                         object\n",
       "State                        object\n",
       "Zip                           int64\n",
       "Owner'sPhone #                int64\n",
       "Job Description              object\n",
       "DOBRunDate                   object\n",
       "Length: 82, dtype: object"
      ]
     },
     "execution_count": 61,
     "metadata": {},
     "output_type": "execute_result"
    }
   ],
   "source": [
    "#convert objects from table to numeric\n",
    "df.convert_objects(convert_numeric=True).dtypes"
   ]
  },
  {
   "cell_type": "code",
   "execution_count": 65,
   "metadata": {},
   "outputs": [],
   "source": [
    "#a bit of changes to format of initial cost column from dollars to float64\n",
    "import numpy as np\n",
    "df=df.rename(columns={'Initial Cost':'initial_cost'})\n",
    "df.initial_cost = df.initial_cost.apply(lambda x: x.replace('$','')).apply(lambda x: x.replace(',','')).apply(lambda x: x.replace('.00','')).astype(np.int64)\n",
    "#df[df.initial_cost].replace('[\\$,]', '', regex=True).astype(float)\n",
    "#df.initial_cost=pd.to_numeric(df['initial_cost'].str.replace('$',''))"
   ]
  },
  {
   "cell_type": "code",
   "execution_count": 69,
   "metadata": {},
   "outputs": [
    {
     "data": {
      "text/plain": [
       "count    3.791000e+03\n",
       "mean     1.221025e+05\n",
       "std      5.560239e+05\n",
       "min      0.000000e+00\n",
       "25%      0.000000e+00\n",
       "50%      1.600000e+04\n",
       "75%      7.000000e+04\n",
       "max      1.359550e+07\n",
       "Name: initial_cost, dtype: float64"
      ]
     },
     "execution_count": 69,
     "metadata": {},
     "output_type": "execute_result"
    }
   ],
   "source": [
    "df.initial_cost.describe()"
   ]
  },
  {
   "cell_type": "code",
   "execution_count": 68,
   "metadata": {},
   "outputs": [
    {
     "data": {
      "text/plain": [
       "count    3.791000e+03\n",
       "mean     1.290086e+06\n",
       "std      1.142937e+07\n",
       "min      1.701000e+03\n",
       "25%      1.001900e+04\n",
       "50%      1.031000e+04\n",
       "75%      1.122100e+04\n",
       "max      1.169118e+08\n",
       "Name: Zip, dtype: float64"
      ]
     },
     "execution_count": 68,
     "metadata": {},
     "output_type": "execute_result"
    }
   ],
   "source": [
    "df.Zip.describe()"
   ]
  },
  {
   "cell_type": "markdown",
   "metadata": {},
   "source": [
    "### Visualiazing multiple variables with boxplot"
   ]
  },
  {
   "cell_type": "code",
   "execution_count": 71,
   "metadata": {},
   "outputs": [
    {
     "data": {
      "text/plain": [
       "<matplotlib.axes._subplots.AxesSubplot at 0x295c8dfe630>"
      ]
     },
     "execution_count": 71,
     "metadata": {},
     "output_type": "execute_result"
    },
    {
     "data": {
      "image/png": "[encoded data removed]",
      "text/plain": [
       "<Figure size 432x288 with 1 Axes>"
      ]
     },
     "metadata": {
      "needs_background": "light"
     },
     "output_type": "display_data"
    }
   ],
   "source": [
    "'''\n",
    "Visualizing multiple variables with boxplots\n",
    "Histograms are great ways of visualizing single variables. To visualize multiple variables,\n",
    "boxplots are useful, especially when one of the variables is categorical.\n",
    "\n",
    "-Using the .boxplot() method of df, create a boxplot of 'initial_cost' across the different\n",
    "values of 'Borough'.\n",
    "-Display the plot.\n",
    "'''\n",
    "\n",
    "\n",
    "import seaborn as sns\n",
    "\n",
    "# Create the boxplot\n",
    "\n",
    "#sns.boxplot(x='initial_cost', y='Borough', data=df, orient='h')\n",
    "#rot=90 means labels at 90 degrees on x axis\n",
    "df.boxplot(column='initial_cost', by='Borough', rot=90)\n",
    "\n",
    "# Display the plot\n",
    "#plt.show()\n"
   ]
  },
  {
   "cell_type": "markdown",
   "metadata": {},
   "source": [
    "### Visualiazing multiple variables with scatter plots"
   ]
  },
  {
   "cell_type": "code",
   "execution_count": 72,
   "metadata": {},
   "outputs": [
    {
     "data": {
      "text/plain": [
       "count         3791\n",
       "unique         956\n",
       "top       $160.00 \n",
       "freq           258\n",
       "Name: total_est_fee, dtype: object"
      ]
     },
     "execution_count": 72,
     "metadata": {},
     "output_type": "execute_result"
    }
   ],
   "source": [
    "df=df.rename(columns={'Total Est. Fee':'total_est_fee'})\n",
    "df.total_est_fee.describe()"
   ]
  },
  {
   "cell_type": "code",
   "execution_count": 89,
   "metadata": {},
   "outputs": [
    {
     "data": {
      "text/plain": [
       "count    3.791000e+03\n",
       "mean     4.163760e+05\n",
       "std      1.647659e+07\n",
       "min      0.000000e+00\n",
       "25%      2.250000e+04\n",
       "50%      4.195000e+04\n",
       "75%      9.345000e+04\n",
       "max      1.014000e+09\n",
       "Name: total_est_fee, dtype: float64"
      ]
     },
     "execution_count": 89,
     "metadata": {},
     "output_type": "execute_result"
    }
   ],
   "source": [
    "df.total_est_fee = df.total_est_fee.apply(lambda x: x.replace('$','')).apply(lambda x: x.replace('.','')).apply(lambda x: x.replace('.40','')).apply(lambda x: x.replace('.60','')).apply(lambda x: x.replace(',','')).apply(lambda x: x.replace('.90','')).apply(lambda x: x.replace('.30','')).apply(lambda x: x.replace('.80','')).apply(lambda x: x.replace('.25','')).apply(lambda x: x.replace('.70','')).apply(lambda x: x.replace('.10','')).apply(lambda x: x.replace('.00','')).astype(np.int64)\n",
    "#df[df.initial_cost].replace('[\\$,]', '', regex=True).astype(float)\n",
    "df.total_est_fee.describe()"
   ]
  },
  {
   "cell_type": "code",
   "execution_count": 90,
   "metadata": {},
   "outputs": [
    {
     "data": {
      "image/png": "[encoded data removed]",
      "text/plain": [
       "<Figure size 432x288 with 1 Axes>"
      ]
     },
     "metadata": {
      "needs_background": "light"
     },
     "output_type": "display_data"
    }
   ],
   "source": [
    "# Create and display the first scatter plot\n",
    "df.plot(kind='scatter', x='initial_cost', y='total_est_fee', rot=70)\n",
    "plt.show()\n",
    "\n"
   ]
  },
  {
   "cell_type": "markdown",
   "metadata": {},
   "source": [
    "#### 2 Tiding data for analysis\n",
    "##### Reshaping data using melt\n",
    "\n",
    "Melting - means tiding data, to have a table with one row per experiment, so it is easier to analyze"
   ]
  },
  {
   "cell_type": "code",
   "execution_count": 1,
   "metadata": {},
   "outputs": [
    {
     "name": "stdout",
     "output_type": "stream",
     "text": [
      "   Ozone  Solar.R  Wind  Temp  Month  Day\n",
      "0   41.0    190.0   7.4    67      5    1\n",
      "1   36.0    118.0   8.0    72      5    2\n",
      "2   12.0    149.0  12.6    74      5    3\n",
      "3   18.0    313.0  11.5    62      5    4\n",
      "4    NaN      NaN  14.3    56      5    5\n"
     ]
    }
   ],
   "source": [
    "'''\n",
    "Reshaping your data using melt\n",
    "Melting data is the process of turning columns of your data into rows of data. Consider the\n",
    "DataFrames from the previous exercise. In the tidy DataFrame, the variables Ozone, Solar.R,\n",
    "Wind, and Temp each had their own column. If, however, you wanted these variables to be in\n",
    "rows instead, you could melt the DataFrame. In doing so, however, you would make the data \n",
    "untidy! This is important to keep in mind: Depending on how your data is represented, you\n",
    "will have to reshape it differently.\n",
    "In this exercise, you will practice melting a DataFrame using pd.melt(). There are two parameters\n",
    "you should be aware of: id_vars and value_vars. The id_vars represent the columns of the data you\n",
    "do not want to melt (i.e., keep it in its current shape), while the value_vars represent the\n",
    "columns you do wish to melt into rows. By default, if no value_vars are provided, all columns\n",
    "not set in the id_vars will be melted. This could save a bit of typing, depending on the number\n",
    "of columns that need to be melted.\n",
    "The (tidy) DataFrame airquality has been pre-loaded. Your job is to melt its Ozone, Solar.R,\n",
    "Wind, and Temp columns into rows. Later in this chapter, you'll learn how to bring this melted\n",
    "DataFrame back into a tidy form.\n",
    "INSTRUCTIONS\n",
    "100XP\n",
    "-Print the head of airquality.\n",
    "-Use pd.melt() to melt the Ozone, Solar.R, Wind, and Temp columns of airquality into rows. Do\n",
    "this by using id_vars to specify the columns you do not wish to melt: 'Month' and 'Day'.\n",
    "-Print the head of airquality_melt.\n",
    "'''\n",
    "import pandas as pd\n",
    "\n",
    "airquality = pd.read_csv('airquality.csv')\n",
    "\n",
    "# Print the head of airquality\n",
    "print(airquality.head())\n",
    "\n"
   ]
  },
  {
   "cell_type": "code",
   "execution_count": 2,
   "metadata": {},
   "outputs": [
    {
     "name": "stdout",
     "output_type": "stream",
     "text": [
      "     Ozone  Solar.R  Wind  Temp  Month  Day\n",
      "148   30.0    193.0   6.9    70      9   26\n",
      "149    NaN    145.0  13.2    77      9   27\n",
      "150   14.0    191.0  14.3    75      9   28\n",
      "151   18.0    131.0   8.0    76      9   29\n",
      "152   20.0    223.0  11.5    68      9   30\n"
     ]
    }
   ],
   "source": [
    "print(airquality.tail())"
   ]
  },
  {
   "cell_type": "code",
   "execution_count": null,
   "metadata": {},
   "outputs": [],
   "source": [
    "### how to do melt treatment a and treatment b were separate columns, we want to have data\n",
    "#al longer table, but have only one column for each treatment\n",
    "### example of initial table:\n",
    "# name  treatment_a  treatment_b\n",
    "# 0 Daniel  12          25\n",
    "# 1 Max      43         23\n",
    " \n",
    "#melt would be \n",
    "#   name    treatment   value\n",
    "#0  Daniel treatment_a    12\n",
    "#1 Daniel   treament_b  25\n",
    "#2 Max        treatment_a  43\n",
    "#3 Max      treatment_b  23\n",
    "\n",
    "#to code this:\n",
    "\n",
    "pd.melt(frame=df, id_vars='name', \n",
    "        value_vars=['treatment_a','treatment_b'],\n",
    "        var_name='treatment', value_name='result')"
   ]
  },
  {
   "cell_type": "code",
   "execution_count": 3,
   "metadata": {},
   "outputs": [
    {
     "name": "stdout",
     "output_type": "stream",
     "text": [
      "   Month  Day variable  value\n",
      "0      5    1    Ozone   41.0\n",
      "1      5    2    Ozone   36.0\n",
      "2      5    3    Ozone   12.0\n",
      "3      5    4    Ozone   18.0\n",
      "4      5    5    Ozone    NaN\n"
     ]
    }
   ],
   "source": [
    "# Melt airquality: airquality_melt\n",
    "airquality_melt = pd.melt(frame=airquality, id_vars=['Month', 'Day'])\n",
    "\n",
    "# Print the head of airquality_melt\n",
    "print(airquality_melt.head())"
   ]
  },
  {
   "cell_type": "code",
   "execution_count": 4,
   "metadata": {},
   "outputs": [
    {
     "name": "stdout",
     "output_type": "stream",
     "text": [
      "     Month  Day variable  value\n",
      "607      9   26     Temp   70.0\n",
      "608      9   27     Temp   77.0\n",
      "609      9   28     Temp   75.0\n",
      "610      9   29     Temp   76.0\n",
      "611      9   30     Temp   68.0\n"
     ]
    }
   ],
   "source": [
    "print(airquality_melt.tail())"
   ]
  },
  {
   "cell_type": "code",
   "execution_count": 5,
   "metadata": {},
   "outputs": [
    {
     "name": "stdout",
     "output_type": "stream",
     "text": [
      "   Month  Day measurement  reading\n",
      "0      5    1       Ozone     41.0\n",
      "1      5    2       Ozone     36.0\n",
      "2      5    3       Ozone     12.0\n",
      "3      5    4       Ozone     18.0\n",
      "4      5    5       Ozone      NaN\n"
     ]
    }
   ],
   "source": [
    "## Customizing melted data\n",
    "'''\n",
    "Customizing melted data\n",
    "When melting DataFrames, it would be better to have column names more meaningful than variable\n",
    "and value.\n",
    "The default names may work in certain situations, but it's best to always have data that is self\n",
    "explanatory.\n",
    "You can rename the variable column by specifying an argument to the var_name parameter, and the\n",
    "value column by specifying an argument to the value_name parameter. You will now practice doing\n",
    "exactly this. The DataFrame airquality has been pre-loaded for you.\n",
    "INSTRUCTIONS\n",
    "100XP\n",
    "-Print the head of airquality.\n",
    "-Melt the Ozone, Solar.R, Wind, and Temp columns of airquality into rows, with the default\n",
    "variable column renamed to 'measurement' and the default value column renamed to 'reading'.\n",
    "You can do this by specifying, respectively, the var_name and value_name parameters.\n",
    "-Print the head of airquality_melt.\n",
    "'''\n",
    "\n",
    "# Melt airquality: airquality_melt\n",
    "airquality_melt = pd.melt(frame=airquality, id_vars=['Month', 'Day'], var_name='measurement', value_name='reading')\n",
    "\n",
    "# Print the head of airquality_melt\n",
    "print(airquality_melt.head())"
   ]
  },
  {
   "cell_type": "markdown",
   "metadata": {},
   "source": [
    "#### Pivot data\n",
    "\n",
    "Pivoting - opposite of melting, good to present results (turning columns into rows)\n",
    "Pivot data\n",
    "Pivoting data is the opposite of melting it. Remember the tidy form that the airquality DataFrame\n",
    "was in before you melted it? You'll now begin pivoting it back into that form using the\n",
    ".pivot_table() method!\n",
    "While melting takes a set of columns and turns it into a single column, pivoting will create a\n",
    "new column for each unique value in a specified column.\n",
    ".pivot_table() has an index parameter which you can use to specify the columns that you don't\n",
    "want pivoted: It is similar to the id_vars parameter of pd.melt(). Two other parameters that\n",
    "you have to specify are columns (the name of the column you want to pivot), and values (the\n",
    "values to be used when the column is pivoted). The melted DataFrame airquality_melt has been\n",
    "pre-loaded for you.\n",
    "INSTRUCTIONS\n",
    "100XP\n",
    "-Print the head of airquality_melt.\n",
    "-Pivot airquality_melt by using .pivot_table() with the rows indexed by 'Month' and 'Day', the columns indexed by 'measurement', and the values populated with 'reading'.\n",
    "-Print the head of airquality_pivot.\n",
    "'''"
   ]
  },
  {
   "cell_type": "code",
   "execution_count": 6,
   "metadata": {},
   "outputs": [
    {
     "name": "stdout",
     "output_type": "stream",
     "text": [
      "measurement  Ozone  Solar.R  Temp  Wind\n",
      "Month Day                              \n",
      "5     1       41.0    190.0  67.0   7.4\n",
      "      2       36.0    118.0  72.0   8.0\n",
      "      3       12.0    149.0  74.0  12.6\n",
      "      4       18.0    313.0  62.0  11.5\n",
      "      5        NaN      NaN  56.0  14.3\n"
     ]
    }
   ],
   "source": [
    "# Pivot airquality_melt: airquality_pivot\n",
    "airquality_pivot = airquality_melt.pivot_table(index=['Month', 'Day'], columns='measurement', values='reading')\n",
    "\n",
    "# Print the head of airquality_pivot\n",
    "print(airquality_pivot.head())"
   ]
  },
  {
   "cell_type": "markdown",
   "metadata": {},
   "source": [
    "#### Resetting the index of data frame\n",
    "After pivoting airquality_melt in the previous exercise, you didn't quite get back the original\n",
    "DataFrame.\n",
    "What you got back instead was a pandas DataFrame with a hierarchical index (also known as a\n",
    "MultiIndex).\n",
    "Hierarchical indexes are covered in depth in Manipulating DataFrames with pandas. In essence,\n",
    "they allow you to group columns or rows by another variable - in this case, by 'Month' as\n",
    "well as 'Day'.\n",
    "There's a very simple method you can use to get back the original DataFrame from the pivoted\n",
    "DataFrame: .reset_index(). Dan didn't show you how to use this method in the video, but you're\n",
    "now going to practice using it in this exercise to get back the original DataFrame from\n",
    "airquality_pivot, which has been pre-loaded.\n",
    "INSTRUCTIONS\n",
    "100XP\n",
    "-Print the index of airquality_pivot by accessing its .index attribute. This has been done for you.\n",
    "-Reset the index of airquality_pivot using its .reset_index() method.\n",
    "-Print the new index of airquality_pivot.\n",
    "-Print the head of airquality_pivot.\n",
    "'''"
   ]
  },
  {
   "cell_type": "code",
   "execution_count": 8,
   "metadata": {},
   "outputs": [
    {
     "name": "stdout",
     "output_type": "stream",
     "text": [
      "measurement  Month  Day  Ozone  Solar.R  Temp  Wind\n",
      "0                5    1   41.0    190.0  67.0   7.4\n",
      "1                5    2   36.0    118.0  72.0   8.0\n",
      "2                5    3   12.0    149.0  74.0  12.6\n",
      "3                5    4   18.0    313.0  62.0  11.5\n",
      "4                5    5    NaN      NaN  56.0  14.3\n",
      "   Ozone  Solar.R  Wind  Temp  Month  Day\n",
      "0   41.0    190.0   7.4    67      5    1\n",
      "1   36.0    118.0   8.0    72      5    2\n",
      "2   12.0    149.0  12.6    74      5    3\n",
      "3   18.0    313.0  11.5    62      5    4\n",
      "4    NaN      NaN  14.3    56      5    5\n"
     ]
    }
   ],
   "source": [
    "import numpy as np\n",
    "# Pivot airquality_dup: airquality_pivot\n",
    "airquality_pivot = airquality_melt.pivot_table(index=['Month', 'Day'], columns='measurement', values='reading', aggfunc=np.mean)\n",
    "\n",
    "# Reset the index of airquality_pivot\n",
    "airquality_pivot = airquality_pivot.reset_index()\n",
    "\n",
    "# Print the head of airquality_pivot\n",
    "print(airquality_pivot.head())\n",
    "\n",
    "# Print the head of airquality\n",
    "print(airquality.head())"
   ]
  },
  {
   "cell_type": "markdown",
   "metadata": {},
   "source": [
    "### Pivoting duplicate values\n",
    "pivot has a parameter that specifies how to deal with duplicate values\n",
    "example:' can aggregate the duplicate values by taking their average\n",
    "\n",
    "So far, you've used the .pivot_table() method when there are multiple index values you want to\n",
    "hold constant during a pivot. In the video, Dan showed you how you can also use pivot tables to\n",
    "deal with duplicate values by providing an aggregation function through the aggfunc parameter.\n",
    "Here, you're going to combine both these uses of pivot tables.\n",
    "Let's say your data collection method accidentally duplicated your dataset. Such a dataset, in\n",
    "which each row is duplicated, has been pre-loaded as airquality_dup. In addition, the\n",
    "airquality_melt DataFrame from the previous exercise has been pre-loaded. Explore their shapes\n",
    "in the IPython Shell by accessing their .shape attributes to confirm the duplicate rows present\n",
    "in airquality_dup.\n",
    "You'll see that by using .pivot_table() and the aggfunc parameter, you can not only reshape your\n",
    "data, but also remove duplicates. Finally, you can then flatten the columns of the pivoted\n",
    "DataFrame using .reset_index().\n",
    "NumPy and pandas have been imported as np and pd respectively.\n",
    "INSTRUCTIONS\n",
    "100XP\n",
    "-Pivot airquality_dup by using .pivot_table() with the rows indexed by 'Month' and 'Day', the columns indexed by 'measurement', and the values populated with 'reading'. Use np.mean for the aggregation function.\n",
    "-Flatten airquality_pivot by resetting its index.\n",
    "-Print the head of airquality_pivot and then the original airquality DataFrame to compare their structure.\n",
    "'''"
   ]
  },
  {
   "cell_type": "code",
   "execution_count": null,
   "metadata": {},
   "outputs": [],
   "source": [
    "weather2_tidy=weather.pivot_table(values='value',\n",
    "                                 index='date',\n",
    "                                 columns='elements',\n",
    "                                 aggfunc=np.mean)"
   ]
  },
  {
   "cell_type": "markdown",
   "metadata": {},
   "source": [
    "### Melting and parsing\n",
    "str[0]  would copy first symbol from one column and add it as a separate column\n",
    "for example:\n",
    "initial column variable has a value of m014, we want another column called sex\n",
    "with value m in it\n",
    "code it like this:\n",
    "tb_melt['sex'] = tb_melt.variable.str[0]\n",
    "\n",
    "\n",
    "#### spliting columns with str()"
   ]
  },
  {
   "cell_type": "code",
   "execution_count": null,
   "metadata": {},
   "outputs": [],
   "source": [
    "'''\n",
    "Splitting a column with .str\n",
    "The dataset you saw in the video, consisting of case counts of tuberculosis by country, \n",
    "year, gender, and age group, has been pre-loaded into a DataFrame as tb.\n",
    "In this exercise, you're going to tidy the 'm014' column, which represents\n",
    "males aged 0-14 years of age. In order to parse this value, you need to extract\n",
    "the first letter into a new column for gender, and the rest into a column for age_group. Here, since you can parse values by position, you can take advantage of pandas' vectorized string slicing by using the str attribute of columns of type object.\n",
    "Begin by printing the columns of tb in the IPython Shell using its .columns attribute, \n",
    "and take note of the problematic column.\n",
    "INSTRUCTIONS\n",
    "100XP\n",
    "Melt tb keeping 'country' and 'year' fixed.\n",
    "Create a 'gender' column by slicing the first letter of the variable column of tb_melt.\n",
    "Create an 'age_group' column by slicing the rest of the variable column of tb_melt.\n",
    "Print the head of tb_melt. This has been done for you, so hit 'Submit Answer' to see the results!\n",
    "'''\n",
    "# Melt tb: tb_melt\n",
    "tb_melt = pd.melt(frame=tb, id_vars=['country', 'year'])\n",
    "\n",
    "# Create the 'gender' column\n",
    "tb_melt['gender'] = tb_melt.variable.str[0]\n",
    "\n",
    "# Create the 'age_group' column\n",
    "tb_melt['age_group'] = tb_melt.variable.str[1:]\n",
    "\n",
    "# Print the head of tb_melt\n",
    "print(tb_melt.head())"
   ]
  },
  {
   "cell_type": "markdown",
   "metadata": {},
   "source": [
    "### Splitting column with split() and get()\n",
    "\n",
    "Another common way multiple variables are stored in columns is with a delimiter. You'll learn how\n",
    "to deal with such cases in this exercise, using a dataset consisting of Ebola cases and death\n",
    "counts by state and country. It has been pre-loaded into a DataFrame as ebola.\n",
    "Print the columns of ebola in the IPython Shell using ebola.columns. Notice that the data has\n",
    "column names such as Cases_Guinea and Deaths_Guinea. Here, the underscore _ serves as a delimiter\n",
    "between the first part (cases or deaths), and the second part (country).\n",
    "This time, you cannot directly slice the variable by position as in the previous exercise. You\n",
    "now need to use Python's built-in string method called .split(). By default, this method will\n",
    "split a string into parts separated by a space. However, in this case you want it to split by\n",
    "an underscore. You can do this on Cases_Guinea, for example, using Cases_Guinea.split('_'),\n",
    "which returns the list ['Cases', 'Guinea'].\n",
    "The next challenge is to extract the first element of this list and assign it to a type variable,\n",
    "and the second element of the list to a country variable. You can accomplish this by accessing\n",
    "the str attribute of the column and using the .get() method to retrieve the 0 or 1 index, depending\n",
    "on the part you want.\n",
    "\n",
    "\n",
    "INSTRUCTIONS\n",
    "100XP\n",
    "-Melt ebola using 'Date' and 'Day' as the id_vars, 'type_country' as the var_name, and 'counts'\n",
    "as the value_name.\n",
    "-Create a column called 'str_split' by splitting the 'type_country' column of ebola_melt on '_'.\n",
    "Note that you will first have to access the str attribute of type_country before you can use .split().\n",
    "-Create a column called 'type' by using the .get() method to retrieve index 0 of the 'str_split'\n",
    "column of ebola_melt.\n",
    "-Create a column called 'country' by using the .get() method to retrieve index 1 of the 'str_split'\n",
    "column of ebola_melt.\n",
    "-Print the head of ebola. This has been done for you, so hit 'Submit Answer' to view the results!"
   ]
  },
  {
   "cell_type": "code",
   "execution_count": 9,
   "metadata": {},
   "outputs": [
    {
     "name": "stdout",
     "output_type": "stream",
     "text": [
      "         Date  Day  Cases_Guinea  Cases_Liberia  Cases_SierraLeone  \\\n",
      "0    01-05-15  289        2776.0            NaN            10030.0   \n",
      "1    01-04-15  288        2775.0            NaN             9780.0   \n",
      "2    01-03-15  287        2769.0         8166.0             9722.0   \n",
      "3    01-02-15  286           NaN         8157.0                NaN   \n",
      "4  12/31/2014  284        2730.0         8115.0             9633.0   \n",
      "\n",
      "   Cases_Nigeria  Cases_Senegal  Cases_UnitedStates  Cases_Spain  Cases_Mali  \\\n",
      "0            NaN            NaN                 NaN          NaN         NaN   \n",
      "1            NaN            NaN                 NaN          NaN         NaN   \n",
      "2            NaN            NaN                 NaN          NaN         NaN   \n",
      "3            NaN            NaN                 NaN          NaN         NaN   \n",
      "4            NaN            NaN                 NaN          NaN         NaN   \n",
      "\n",
      "   Deaths_Guinea  Deaths_Liberia  Deaths_SierraLeone  Deaths_Nigeria  \\\n",
      "0         1786.0             NaN              2977.0             NaN   \n",
      "1         1781.0             NaN              2943.0             NaN   \n",
      "2         1767.0          3496.0              2915.0             NaN   \n",
      "3            NaN          3496.0                 NaN             NaN   \n",
      "4         1739.0          3471.0              2827.0             NaN   \n",
      "\n",
      "   Deaths_Senegal  Deaths_UnitedStates  Deaths_Spain  Deaths_Mali  \n",
      "0             NaN                  NaN           NaN          NaN  \n",
      "1             NaN                  NaN           NaN          NaN  \n",
      "2             NaN                  NaN           NaN          NaN  \n",
      "3             NaN                  NaN           NaN          NaN  \n",
      "4             NaN                  NaN           NaN          NaN  \n"
     ]
    }
   ],
   "source": [
    "#read ebola\n",
    "import pandas as pd\n",
    "\n",
    "ebola = pd.read_csv('ebola.csv')\n",
    "\n",
    "# Print the head of airquality\n",
    "print(ebola.head())"
   ]
  },
  {
   "cell_type": "code",
   "execution_count": 10,
   "metadata": {},
   "outputs": [
    {
     "data": {
      "text/html": [
       "<div>\n",
       "<style scoped>\n",
       "    .dataframe tbody tr th:only-of-type {\n",
       "        vertical-align: middle;\n",
       "    }\n",
       "\n",
       "    .dataframe tbody tr th {\n",
       "        vertical-align: top;\n",
       "    }\n",
       "\n",
       "    .dataframe thead th {\n",
       "        text-align: right;\n",
       "    }\n",
       "</style>\n",
       "<table border=\"1\" class=\"dataframe\">\n",
       "  <thead>\n",
       "    <tr style=\"text-align: right;\">\n",
       "      <th></th>\n",
       "      <th>Date</th>\n",
       "      <th>Day</th>\n",
       "      <th>type_country</th>\n",
       "      <th>counts</th>\n",
       "    </tr>\n",
       "  </thead>\n",
       "  <tbody>\n",
       "    <tr>\n",
       "      <th>0</th>\n",
       "      <td>01-05-15</td>\n",
       "      <td>289</td>\n",
       "      <td>Cases_Guinea</td>\n",
       "      <td>2776.0</td>\n",
       "    </tr>\n",
       "    <tr>\n",
       "      <th>1</th>\n",
       "      <td>01-04-15</td>\n",
       "      <td>288</td>\n",
       "      <td>Cases_Guinea</td>\n",
       "      <td>2775.0</td>\n",
       "    </tr>\n",
       "    <tr>\n",
       "      <th>2</th>\n",
       "      <td>01-03-15</td>\n",
       "      <td>287</td>\n",
       "      <td>Cases_Guinea</td>\n",
       "      <td>2769.0</td>\n",
       "    </tr>\n",
       "  </tbody>\n",
       "</table>\n",
       "</div>"
      ],
      "text/plain": [
       "       Date  Day  type_country  counts\n",
       "0  01-05-15  289  Cases_Guinea  2776.0\n",
       "1  01-04-15  288  Cases_Guinea  2775.0\n",
       "2  01-03-15  287  Cases_Guinea  2769.0"
      ]
     },
     "execution_count": 10,
     "metadata": {},
     "output_type": "execute_result"
    }
   ],
   "source": [
    "# Melt ebola: ebola_melt\n",
    "#-Melt ebola using 'Date' and 'Day' as the id_vars, 'type_country' as the var_name, and 'counts'\n",
    "#as the value_name.\n",
    "ebola_melt = pd.melt(ebola, id_vars=['Date', 'Day'], var_name='type_country', value_name='counts')\n",
    "\n",
    "ebola_melt.head(3)"
   ]
  },
  {
   "cell_type": "code",
   "execution_count": 11,
   "metadata": {},
   "outputs": [
    {
     "data": {
      "text/html": [
       "<div>\n",
       "<style scoped>\n",
       "    .dataframe tbody tr th:only-of-type {\n",
       "        vertical-align: middle;\n",
       "    }\n",
       "\n",
       "    .dataframe tbody tr th {\n",
       "        vertical-align: top;\n",
       "    }\n",
       "\n",
       "    .dataframe thead th {\n",
       "        text-align: right;\n",
       "    }\n",
       "</style>\n",
       "<table border=\"1\" class=\"dataframe\">\n",
       "  <thead>\n",
       "    <tr style=\"text-align: right;\">\n",
       "      <th></th>\n",
       "      <th>Date</th>\n",
       "      <th>Day</th>\n",
       "      <th>type_country</th>\n",
       "      <th>counts</th>\n",
       "      <th>str_split</th>\n",
       "    </tr>\n",
       "  </thead>\n",
       "  <tbody>\n",
       "    <tr>\n",
       "      <th>0</th>\n",
       "      <td>01-05-15</td>\n",
       "      <td>289</td>\n",
       "      <td>Cases_Guinea</td>\n",
       "      <td>2776.0</td>\n",
       "      <td>[Cases, Guinea]</td>\n",
       "    </tr>\n",
       "    <tr>\n",
       "      <th>1</th>\n",
       "      <td>01-04-15</td>\n",
       "      <td>288</td>\n",
       "      <td>Cases_Guinea</td>\n",
       "      <td>2775.0</td>\n",
       "      <td>[Cases, Guinea]</td>\n",
       "    </tr>\n",
       "    <tr>\n",
       "      <th>2</th>\n",
       "      <td>01-03-15</td>\n",
       "      <td>287</td>\n",
       "      <td>Cases_Guinea</td>\n",
       "      <td>2769.0</td>\n",
       "      <td>[Cases, Guinea]</td>\n",
       "    </tr>\n",
       "  </tbody>\n",
       "</table>\n",
       "</div>"
      ],
      "text/plain": [
       "       Date  Day  type_country  counts        str_split\n",
       "0  01-05-15  289  Cases_Guinea  2776.0  [Cases, Guinea]\n",
       "1  01-04-15  288  Cases_Guinea  2775.0  [Cases, Guinea]\n",
       "2  01-03-15  287  Cases_Guinea  2769.0  [Cases, Guinea]"
      ]
     },
     "execution_count": 11,
     "metadata": {},
     "output_type": "execute_result"
    }
   ],
   "source": [
    "# Create the 'str_split' column\n",
    "#-Create a column called 'str_split' by splitting the 'type_country' column of ebola_melt\n",
    "#on '_'.\n",
    "#Note that you will first have to access the str attribute of type_country before you \n",
    "#can use .split().\n",
    "ebola_melt['str_split'] = ebola_melt.type_country.str.split('_')\n",
    "ebola_melt.head(3)"
   ]
  },
  {
   "cell_type": "code",
   "execution_count": 12,
   "metadata": {},
   "outputs": [
    {
     "data": {
      "text/html": [
       "<div>\n",
       "<style scoped>\n",
       "    .dataframe tbody tr th:only-of-type {\n",
       "        vertical-align: middle;\n",
       "    }\n",
       "\n",
       "    .dataframe tbody tr th {\n",
       "        vertical-align: top;\n",
       "    }\n",
       "\n",
       "    .dataframe thead th {\n",
       "        text-align: right;\n",
       "    }\n",
       "</style>\n",
       "<table border=\"1\" class=\"dataframe\">\n",
       "  <thead>\n",
       "    <tr style=\"text-align: right;\">\n",
       "      <th></th>\n",
       "      <th>Date</th>\n",
       "      <th>Day</th>\n",
       "      <th>type_country</th>\n",
       "      <th>counts</th>\n",
       "      <th>str_split</th>\n",
       "      <th>type</th>\n",
       "    </tr>\n",
       "  </thead>\n",
       "  <tbody>\n",
       "    <tr>\n",
       "      <th>0</th>\n",
       "      <td>01-05-15</td>\n",
       "      <td>289</td>\n",
       "      <td>Cases_Guinea</td>\n",
       "      <td>2776.0</td>\n",
       "      <td>[Cases, Guinea]</td>\n",
       "      <td>Cases</td>\n",
       "    </tr>\n",
       "    <tr>\n",
       "      <th>1</th>\n",
       "      <td>01-04-15</td>\n",
       "      <td>288</td>\n",
       "      <td>Cases_Guinea</td>\n",
       "      <td>2775.0</td>\n",
       "      <td>[Cases, Guinea]</td>\n",
       "      <td>Cases</td>\n",
       "    </tr>\n",
       "    <tr>\n",
       "      <th>2</th>\n",
       "      <td>01-03-15</td>\n",
       "      <td>287</td>\n",
       "      <td>Cases_Guinea</td>\n",
       "      <td>2769.0</td>\n",
       "      <td>[Cases, Guinea]</td>\n",
       "      <td>Cases</td>\n",
       "    </tr>\n",
       "  </tbody>\n",
       "</table>\n",
       "</div>"
      ],
      "text/plain": [
       "       Date  Day  type_country  counts        str_split   type\n",
       "0  01-05-15  289  Cases_Guinea  2776.0  [Cases, Guinea]  Cases\n",
       "1  01-04-15  288  Cases_Guinea  2775.0  [Cases, Guinea]  Cases\n",
       "2  01-03-15  287  Cases_Guinea  2769.0  [Cases, Guinea]  Cases"
      ]
     },
     "execution_count": 12,
     "metadata": {},
     "output_type": "execute_result"
    }
   ],
   "source": [
    "# Create the 'type' column\n",
    "#-Create a column called 'type' by using the .get() method to retrieve index 0 \n",
    "#of the 'str_split' column of ebola_melt.\n",
    "ebola_melt['type'] = ebola_melt.str_split.str.get(0)\n",
    "ebola_melt.head(3)\n"
   ]
  },
  {
   "cell_type": "code",
   "execution_count": 13,
   "metadata": {},
   "outputs": [
    {
     "name": "stdout",
     "output_type": "stream",
     "text": [
      "         Date  Day  type_country  counts        str_split   type country\n",
      "0    01-05-15  289  Cases_Guinea  2776.0  [Cases, Guinea]  Cases  Guinea\n",
      "1    01-04-15  288  Cases_Guinea  2775.0  [Cases, Guinea]  Cases  Guinea\n",
      "2    01-03-15  287  Cases_Guinea  2769.0  [Cases, Guinea]  Cases  Guinea\n",
      "3    01-02-15  286  Cases_Guinea     NaN  [Cases, Guinea]  Cases  Guinea\n",
      "4  12/31/2014  284  Cases_Guinea  2730.0  [Cases, Guinea]  Cases  Guinea\n"
     ]
    }
   ],
   "source": [
    "# Create the 'country' column\n",
    "ebola_melt['country'] = ebola_melt.str_split.str.get(1)\n",
    "\n",
    "# Print the head of ebola_melt\n",
    "print(ebola_melt.head())"
   ]
  },
  {
   "cell_type": "markdown",
   "metadata": {},
   "source": [
    "## Combining data for analysis\n",
    "\n",
    "### concatenating data\n",
    "could be 1 huge file, 5 million row dataset maybe broken into 5 separate datasets, easier to store and share, may have new data for each day, importnat to be eble to combine then clean\n",
    "\n",
    "#### pandas concat"
   ]
  },
  {
   "cell_type": "code",
   "execution_count": null,
   "metadata": {},
   "outputs": [],
   "source": [
    "concatenated = pd.concat([weather_p1, weather_p2])\n",
    "###################\n",
    "\n",
    "pd.concat([weather_p1, weather_p2], ignore_index=True)"
   ]
  },
  {
   "cell_type": "code",
   "execution_count": null,
   "metadata": {},
   "outputs": [],
   "source": [
    "'''\n",
    "Combining rows of data\n",
    "The dataset you'll be working with here relates to NYC Uber data. The original dataset has all\n",
    "the originating Uber pickup locations by time and latitude and longitude. For didactic purposes,\n",
    "you'll be working with a very small portion of the actual data.\n",
    "Three DataFrames have been pre-loaded: uber1, which contains data for April 2014, uber2, which\n",
    "contains data for May 2014, and uber3, which contains data for June 2014. Your job in this exercise\n",
    "is to concatenate these DataFrames together such that the resulting DataFrame has the data for all\n",
    "three months.\n",
    "Begin by exploring the structure of these three DataFrames in the IPython Shell using methods such\n",
    "as .head().\n",
    "INSTRUCTIONS\n",
    "100XP\n",
    "-Concatenate uber1, uber2, and uber3 together using pd.concat(). You'll have to pass the DataFrames\n",
    "in as a list.\n",
    "-Print the shape and then the head of the concatenated DataFrame, row_concat.\n",
    "'''\n",
    "# Concatenate uber1, uber2, and uber3: row_concat\n",
    "row_concat = pd.concat([uber1,uber2,uber3])\n",
    "\n",
    "# Print the shape of row_concat\n",
    "print(row_concat.shape)\n",
    "\n",
    "# Print the head of row_concat\n",
    "print(row_concat.head())"
   ]
  },
  {
   "cell_type": "code",
   "execution_count": null,
   "metadata": {},
   "outputs": [],
   "source": [
    "'''\n",
    "Combining columns of data\n",
    "Think of column-wise concatenation of data as stitching data together from the sides instead of\n",
    "the top and bottom. To perform this action, you use the same pd.concat() function, but this time\n",
    "with the keyword argument axis=1. The default, axis=0, is for a row-wise concatenation.\n",
    "You'll return to the Ebola dataset you worked with briefly in the last chapter. It has been\n",
    "pre-loaded into a DataFrame called ebola_melt. In this DataFrame, the status and country of a\n",
    "patient is contained in a single column. This column has been parsed into a new DataFrame,\n",
    "status_country, where there are separate columns for status and country.\n",
    "Explore the ebola_melt and status_country DataFrames in the IPython Shell. Your job is to\n",
    "concatenate them column-wise in order to obtain a final, clean DataFrame.\n",
    "INSTRUCTIONS\n",
    "100XP\n",
    "-Concatenate ebola_melt and status_country column-wise into a single DataFrame called\n",
    "ebola_tidy. Be sure to specify axis=1 and to pass the two DataFrames in as a list.\n",
    "-Print the shape and then the head of the concatenated DataFrame, ebola_tidy.\n",
    "'''\n",
    "# Concatenate ebola_melt and status_country column-wise: ebola_tidy\n",
    "ebola_tidy = pd.concat([ebola_melt, status_country], axis=1)\n",
    "\n",
    "# Print the shape of ebola_tidy\n",
    "print(ebola_tidy.shape)\n",
    "\n",
    "# Print the head of ebola_tidy\n",
    "print(ebola_tidy.head())"
   ]
  },
  {
   "cell_type": "markdown",
   "metadata": {},
   "source": [
    "### Concatenating many files\n",
    "what if there are thousands of files\n",
    "glob function to find files based on a pattern\n",
    "\n",
    "#### Globbing\n",
    "any cisv file: *.csv\n",
    "any single character file_?.csv\n",
    "returns a list of file names\n",
    "can use this list to load into separate data frames\n",
    "\n",
    "##### Plan\n",
    "Load files from globbing into pandas\n",
    "add the dataframes into a list\n",
    "concatenate multiple datasets at once"
   ]
  },
  {
   "cell_type": "code",
   "execution_count": 15,
   "metadata": {},
   "outputs": [
    {
     "name": "stdout",
     "output_type": "stream",
     "text": [
      "['2008_swing_states.csv', 'airquality.csv', 'assets.csv', 'assets2.csv', 'Boston_predicted_price.csv', 'boston_test.csv', 'creditcard.csv', 'diabetes.csv', 'digits.csv', 'digits2.csv', 'dob_job_application_filings_sub.csv', 'ebola.csv', 'finch_beaks_1975.csv', 'finch_beaks_2012.csv', 'fortis_beak_depth_heredity.csv', 'gbm_predict.csv', 'gbm_predict2.csv', 'gdp.csv', 'google.csv', 'google1.csv', 'knn_predict.csv', 'michelson_speed_of_light.csv', 'mnist_test.csv', 'nyse.csv', 'ozone.csv', 'pca.csv', 'pca2.csv', 'PredictedPriceDT.csv', 'PredictedPriceGBM.csv', 'PredictedPriceKNN.csv', 'predictions_boost.csv', 'Prostate_Cancer.csv', 'pulsar_stars.csv', 'sales.csv', 'SampleSubmission_TmnO39y.csv', 'scandens_beak_depth_heredity.csv', 'SP500.csv', 'stocks.csv', 'stock_4.csv', 'stock_data.csv', 'submit_file_8.csv', 'Test_bCtAN1w.csv', 'Test_u94Q5KV.csv', 'train_modified.csv', 'Train_UWu5bXk.csv', 'unrate.csv', 'weather_csv.csv', 'weather_csv2.csv', 'winequality-red.csv', 'world_ind_pop_data.csv']\n"
     ]
    }
   ],
   "source": [
    "import glob\n",
    "csv_files=glob.glob('*.csv')\n",
    "print(csv_files)"
   ]
  },
  {
   "cell_type": "code",
   "execution_count": null,
   "metadata": {},
   "outputs": [],
   "source": [
    "### using loops\n",
    "list_data=[]\n",
    "for filename in csv_files:\n",
    "    data=pd.read_csv(filename)\n",
    "    list_data.append(data)\n",
    "    \n",
    "pd.concat(list_data)"
   ]
  },
  {
   "cell_type": "code",
   "execution_count": 16,
   "metadata": {},
   "outputs": [
    {
     "name": "stdout",
     "output_type": "stream",
     "text": [
      "['2008_swing_states.csv', 'airquality.csv', 'assets.csv', 'assets2.csv', 'Boston_predicted_price.csv', 'boston_test.csv', 'creditcard.csv', 'diabetes.csv', 'digits.csv', 'digits2.csv', 'dob_job_application_filings_sub.csv', 'ebola.csv', 'finch_beaks_1975.csv', 'finch_beaks_2012.csv', 'fortis_beak_depth_heredity.csv', 'gbm_predict.csv', 'gbm_predict2.csv', 'gdp.csv', 'google.csv', 'google1.csv', 'knn_predict.csv', 'michelson_speed_of_light.csv', 'mnist_test.csv', 'nyse.csv', 'ozone.csv', 'pca.csv', 'pca2.csv', 'PredictedPriceDT.csv', 'PredictedPriceGBM.csv', 'PredictedPriceKNN.csv', 'predictions_boost.csv', 'Prostate_Cancer.csv', 'pulsar_stars.csv', 'sales.csv', 'SampleSubmission_TmnO39y.csv', 'scandens_beak_depth_heredity.csv', 'SP500.csv', 'stocks.csv', 'stock_4.csv', 'stock_data.csv', 'submit_file_8.csv', 'Test_bCtAN1w.csv', 'Test_u94Q5KV.csv', 'train_modified.csv', 'Train_UWu5bXk.csv', 'unrate.csv', 'weather_csv.csv', 'weather_csv2.csv', 'winequality-red.csv', 'world_ind_pop_data.csv']\n",
      "   Ozone  Solar.R  Wind  Temp  Month  Day\n",
      "0   41.0    190.0   7.4    67      5    1\n",
      "1   36.0    118.0   8.0    72      5    2\n",
      "2   12.0    149.0  12.6    74      5    3\n",
      "3   18.0    313.0  11.5    62      5    4\n",
      "4    NaN      NaN  14.3    56      5    5\n"
     ]
    }
   ],
   "source": [
    "#practice\n",
    "'''\n",
    "Finding files that match a pattern\n",
    "You're now going to practice using the glob module to find all csv \n",
    "files in the workspace.\n",
    "In the next exercise, you'll programmatically load them into DataFrames.\n",
    "As Dan showed you in the video, the glob module has a function \n",
    "called glob that takes a\n",
    "pattern and returns a list of the files in the working directory\n",
    "that match that pattern.\n",
    "For example, if you know the pattern is part_ single digit number \n",
    ".csv, you can write the\n",
    "pattern as 'part_?.csv' (which would match part_1.csv, \n",
    "part_2.csv, part_3.csv, etc.)\n",
    "Similarly, you can find all .csv files with '*.csv', \n",
    "or all parts with 'part_*'. The ?\n",
    "wildcard represents any 1 character, and the * \n",
    "wildcard represents any number of characters.\n",
    "INSTRUCTIONS\n",
    "100XP\n",
    "-Import the glob module along with pandas (as its usual alias pd).\n",
    "-Write a pattern to match all .csv files.\n",
    "-Save all files that match the pattern using the glob() function \n",
    "within the glob module. That is, by using glob.glob().\n",
    "-Print the list of file names. This has been done for you.\n",
    "-Read the second file in csv_files (i.e., index 1) into a DataFrame \n",
    "called csv2.\n",
    "-Hit 'Submit Answer' to print the head of csv2. Does it look familiar?\n",
    "'''\n",
    "\n",
    "# Import necessary modules\n",
    "import glob\n",
    "import pandas as pd\n",
    "\n",
    "# Write the pattern: pattern\n",
    "pattern = '*.csv'\n",
    "\n",
    "# Save all file matches: csv_files\n",
    "csv_files = glob.glob(pattern)\n",
    "\n",
    "# Print the file names\n",
    "print(csv_files)\n",
    "\n",
    "# Load the second file into a DataFrame: csv2\n",
    "csv2 = pd.read_csv(csv_files[1])\n",
    "\n",
    "# Print the head of csv2\n",
    "print(csv2.head())"
   ]
  },
  {
   "cell_type": "code",
   "execution_count": null,
   "metadata": {},
   "outputs": [],
   "source": [
    "'''\n",
    "Iterating and concatenating all matches\n",
    "Now that you have a list of filenames to load, you can load all the files into a list of DataFrames that can then be concatenated.\n",
    "You'll start with an empty list called frames. Your job is to use a for loop to iterate through each of the filenames, read each filename into a DataFrame, and then append it to the frames list.\n",
    "You can then concatenate this list of DataFrames using pd.concat(). Go for it!\n",
    "INSTRUCTIONS\n",
    "100XP\n",
    "-Write a for loop to iterate though csv_files:\n",
    "-In each iteration of the loop, read csv into a DataFrame called df.\n",
    "-After creating df, append it to the list frames using the .append() method.\n",
    "-Concatenate frames into a single DataFrame called uber.\n",
    "-Hit 'Submit Answer' to see the head and shape of the concatenated DataFrame!\n",
    "'''\n",
    "# Create an empty list: frames\n",
    "frames = []\n",
    "\n",
    "#  Iterate over csv_files\n",
    "for csv in csv_files:\n",
    "\n",
    "    #  Read csv into a DataFrame: df\n",
    "    df = pd.read_csv(csv)\n",
    "    \n",
    "    # Append df to frames\n",
    "    frames.append(df)\n",
    "\n",
    "# Concatenate frames into a single DataFrame: uber\n",
    "uber = pd.concat(frames)\n",
    "\n",
    "# Print the shape of uber\n",
    "print(uber.shape)\n",
    "\n",
    "# Print the head of uber\n",
    "print(uber.head())"
   ]
  },
  {
   "cell_type": "markdown",
   "metadata": {},
   "source": [
    "### Merge data\n",
    "concatenation is not the only way to combine data\n",
    "Merging data - similar to SQL, combine disparate datasets based on common columns\n",
    "\n",
    "types or merges: one to one, many to one, one to many. many to many\n",
    "all use the same function\n",
    "only difference is the dataframes you are merging"
   ]
  },
  {
   "cell_type": "code",
   "execution_count": null,
   "metadata": {},
   "outputs": [],
   "source": [
    "pd.merge(left=state_populations, right=state_codes, on=None,\n",
    "         left_on='state', right_one='names')"
   ]
  },
  {
   "cell_type": "code",
   "execution_count": null,
   "metadata": {},
   "outputs": [],
   "source": [
    "# ONE TO ONE MERGE\n",
    "'''\n",
    "1-to-1 data merge\n",
    "Merging data allows you to combine disparate datasets into a single dataset to do more complex analysis.\n",
    "Here, you'll be using survey data that contains readings that William Dyer, Frank Pabodie, and Valentina Roerich took in the late 1920 and 1930 while they were on an expedition towards Antarctica. The dataset was taken from a sqlite database from the Software Carpentry SQL lesson.\n",
    "Two DataFrames have been pre-loaded: site and visited. Explore them in the IPython Shell and take note of their structure and column names. Your task is to perform a 1-to-1 merge of these two DataFrames using the 'name' column of site and the 'site' column of visited.\n",
    "INSTRUCTIONS\n",
    "100XP\n",
    "Merge the site and visited DataFrames on the 'name' column of site and 'site' column of visited.\n",
    "Print the merged DataFrame o2o.\n",
    "'''\n",
    "# Merge the DataFrames: m2o\n",
    "m2o = pd.merge(left=site, right=visited, left_on='name', right_on='site')\n",
    "\n",
    "# Print m2o\n",
    "print(m2o)"
   ]
  },
  {
   "cell_type": "code",
   "execution_count": null,
   "metadata": {},
   "outputs": [],
   "source": [
    "# MANY TO ONE MERGE\n",
    "'''\n",
    "Many-to-1 data merge\n",
    "In a many-to-one (or one-to-many) merge, one of the values will be duplicated and recycled in the output. That is, one of the keys in the merge is not unique.\n",
    "Here, the two DataFrames site and visited have been pre-loaded once again. Note that this time, visited has multiple entries for the site column. Confirm this by exploring it in the IPython Shell.\n",
    "The .merge() method call is the same as the 1-to-1 merge from the previous exercise, but the data and output will be different.\n",
    "INSTRUCTIONS\n",
    "100XP\n",
    "-Merge the site and visited DataFrames on the 'name' column of site and 'site' column of visited, exactly as you did in the previous exercise.\n",
    "-Print the merged DataFrame and then hit 'Submit Answer' to see the different output produced by this merge!\n",
    "'''\n",
    "# Merge the DataFrames: m2o\n",
    "m2o = pd.merge(left=site, right=visited, left_on='name', right_on='site')\n",
    "\n",
    "# Print m2o\n",
    "print(m2o)"
   ]
  },
  {
   "cell_type": "code",
   "execution_count": null,
   "metadata": {},
   "outputs": [],
   "source": [
    "# MANY TO MANY MERGE\n",
    "'''\n",
    "Many-to-many data merge\n",
    "The final merging scenario occurs when both DataFrames do not have unique keys for a merge. What happens here is that for each duplicated key, every pairwise combination will be created.\n",
    "Two example DataFrames that share common key values have been pre-loaded: df1 and df2. Another DataFrame df3, which is the result of df1 merged with df2, has been pre-loaded. All three DataFrames have been printed - look at the output and notice how pairwise combinations have been created. This example is to help you develop your intuition for many-to-many merges.\n",
    "Here, you'll work with the site and visited DataFrames from before, and a new survey DataFrame. Your task is to merge site and visited as you did in the earlier exercises. You will then merge this merged DataFrame with survey.\n",
    "Begin by exploring the site, visited, and survey DataFrames in the IPython Shell.\n",
    "INSTRUCTIONS\n",
    "100XP\n",
    "-Merge the site and visited DataFrames on the 'name' column of site and 'site' column of visited, exactly as you did in the previous two exercises. Save the result as m2m.\n",
    "-Merge the m2m and survey DataFrames on the 'ident' column of m2m and 'taken' column of survey.\n",
    "-Hit 'Submit Answer' to print the first 20 lines of the merged DataFrame!\n",
    "'''\n",
    "# Merge site and visited: m2m\n",
    "m2o = pd.merge(left=site, right=visited, left_on='name', right_on='site')\n",
    "\n",
    "# Merge m2m and survey: m2m\n",
    "m2m = pd.merge(left=m2o, right=survey, left_on='ident', right_on='taken')\n",
    "\n",
    "# Print the first 20 lines of m2m\n",
    "print(m2m.head(20))"
   ]
  },
  {
   "cell_type": "markdown",
   "metadata": {},
   "source": [
    "### Data types\n",
    "prepare and clean data\n",
    "numeric columns can be converted to strings,or vice versa"
   ]
  },
  {
   "cell_type": "code",
   "execution_count": 18,
   "metadata": {},
   "outputs": [
    {
     "name": "stdout",
     "output_type": "stream",
     "text": [
      "Ozone      float64\n",
      "Solar.R    float64\n",
      "Wind       float64\n",
      "Temp         int64\n",
      "Month        int64\n",
      "Day          int64\n",
      "dtype: object\n"
     ]
    }
   ],
   "source": [
    "print(csv2.dtypes)"
   ]
  },
  {
   "cell_type": "code",
   "execution_count": 19,
   "metadata": {},
   "outputs": [
    {
     "name": "stdout",
     "output_type": "stream",
     "text": [
      "Ozone      float64\n",
      "Solar.R    float64\n",
      "Wind       float64\n",
      "Temp         int64\n",
      "Month        int64\n",
      "Day         object\n",
      "dtype: object\n"
     ]
    }
   ],
   "source": [
    "#converting data types\n",
    "csv2['Day'] = csv2['Day'].astype(str)\n",
    "print(csv2.dtypes)"
   ]
  },
  {
   "cell_type": "code",
   "execution_count": 20,
   "metadata": {},
   "outputs": [
    {
     "name": "stdout",
     "output_type": "stream",
     "text": [
      "Ozone       float64\n",
      "Solar.R     float64\n",
      "Wind        float64\n",
      "Temp          int64\n",
      "Month      category\n",
      "Day          object\n",
      "dtype: object\n"
     ]
    }
   ],
   "source": [
    "csv2['Month'] = csv2['Month'].astype('category')\n",
    "print(csv2.dtypes)"
   ]
  },
  {
   "cell_type": "markdown",
   "metadata": {},
   "source": [
    "#convertring categorical data to 'category'  dtype\n",
    "can make the dataframe smaller in memory\n",
    "can make them be utilized by other python libraries for analysis"
   ]
  },
  {
   "cell_type": "markdown",
   "metadata": {},
   "source": [
    "#### cleaning data\n",
    "numerical data loaded as a string, so convert to numeric"
   ]
  },
  {
   "cell_type": "code",
   "execution_count": 22,
   "metadata": {},
   "outputs": [
    {
     "data": {
      "text/plain": [
       "Ozone      float64\n",
       "Solar.R    float64\n",
       "Wind       float64\n",
       "Temp         int64\n",
       "Month        int64\n",
       "Day         object\n",
       "dtype: object"
      ]
     },
     "execution_count": 22,
     "metadata": {},
     "output_type": "execute_result"
    }
   ],
   "source": [
    "csv2['Month'] = pd.to_numeric(csv2['Month'], errors='coerce')\n",
    "csv2.dtypes"
   ]
  },
  {
   "cell_type": "markdown",
   "metadata": {},
   "source": [
    "### Practice: concerting data types"
   ]
  },
  {
   "cell_type": "code",
   "execution_count": 23,
   "metadata": {},
   "outputs": [
    {
     "data": {
      "text/plain": [
       "total_bill    float64\n",
       "tip           float64\n",
       "sex            object\n",
       "smoker         object\n",
       "day            object\n",
       "time           object\n",
       "size            int64\n",
       "Unnamed: 7    float64\n",
       "dtype: object"
      ]
     },
     "execution_count": 23,
     "metadata": {},
     "output_type": "execute_result"
    }
   ],
   "source": [
    "'''\n",
    "Converting data types\n",
    "In this exercise, you'll see how ensuring all categorical variables in a DataFrame are of type category reduces memory usage.\n",
    "The tips dataset has been loaded into a DataFrame called tips. This data contains information about how much a customer tipped, whether the customer was male or female, a smoker or not, etc.\n",
    "Look at the output of tips.info() in the IPython Shell. You'll note that two columns that should be categorical - sex and smoker - are instead of type object, which is pandas' way of storing arbitrary strings. Your job is to convert these two columns to type category and note the reduced memory usage.\n",
    "INSTRUCTIONS\n",
    "100XP\n",
    "-Convert the sex column of the tips DataFrame to type 'category' using the .astype() method.\n",
    "-Convert the smoker column of the tips DataFrame.\n",
    "-Print the memory usage of tips after converting the data types of the columns. Use the .info() method to do this.\n",
    "'''\n",
    "import pandas as pd\n",
    "\n",
    "tips = pd.read_csv('tips.csv')\n",
    "\n",
    "tips.dtypes\n"
   ]
  },
  {
   "cell_type": "code",
   "execution_count": 24,
   "metadata": {},
   "outputs": [
    {
     "name": "stdout",
     "output_type": "stream",
     "text": [
      "<class 'pandas.core.frame.DataFrame'>\n",
      "RangeIndex: 244 entries, 0 to 243\n",
      "Data columns (total 8 columns):\n",
      "total_bill    244 non-null float64\n",
      "tip           244 non-null float64\n",
      "sex           244 non-null category\n",
      "smoker        244 non-null category\n",
      "day           244 non-null object\n",
      "time          244 non-null object\n",
      "size          244 non-null int64\n",
      "Unnamed: 7    0 non-null float64\n",
      "dtypes: category(2), float64(3), int64(1), object(2)\n",
      "memory usage: 12.2+ KB\n",
      "None\n"
     ]
    }
   ],
   "source": [
    "# Convert the sex column to type 'category'\n",
    "tips.sex = tips.sex.astype('category')\n",
    "\n",
    "# Convert the smoker column to type 'category'\n",
    "tips.smoker = tips.smoker.astype('category')\n",
    "\n",
    "# Print the info of tips\n",
    "print(tips.info())"
   ]
  },
  {
   "cell_type": "markdown",
   "metadata": {},
   "source": [
    "#### to_numeric"
   ]
  },
  {
   "cell_type": "markdown",
   "metadata": {},
   "source": [
    "'''\n",
    "Working with numeric data\n",
    "If you expect the data type of a column to be numeric (int or float), but instead it is of type\n",
    "object, this typically means that there is a non numeric value in the column, which also signifies\n",
    "bad data.\n",
    "You can use the pd.to_numeric() function to convert a column into a numeric data type. If the\n",
    "function raises an error, you can be sure that there is a bad value within the column. You can\n",
    "either use the techniques you learned in Chapter 1 to do some exploratory data analysis and find\n",
    "the bad value, or you can choose to ignore or coerce the value into a missing value, NaN.\n",
    "A modified version of the tips dataset has been pre-loaded into a DataFrame called tips. For\n",
    "instructional purposes, it has been pre-processed to introduce some 'bad' data for you to clean.\n",
    "Use the .info() method to explore this. You'll note that the total_bill and tip columns, which\n",
    "should be numeric, are instead of type object. Your job is to fix this.\n",
    "INSTRUCTIONS\n",
    "100XP\n",
    "-Use pd.to_numeric() to convert the 'total_bill' column of tips to a numeric data type.\n",
    "Coerce the errors to NaN by specifying the keyword argument errors='coerce'.\n",
    "-Convert the 'tip' column of 'tips' to a numeric data type exactly as you did for the\n",
    "'total_bill' column.\n",
    "-Print the info of tips to confirm that the data types of 'total_bill' and 'tips' are numeric.\n",
    "'''"
   ]
  },
  {
   "cell_type": "code",
   "execution_count": 25,
   "metadata": {},
   "outputs": [
    {
     "name": "stdout",
     "output_type": "stream",
     "text": [
      "<class 'pandas.core.frame.DataFrame'>\n",
      "RangeIndex: 244 entries, 0 to 243\n",
      "Data columns (total 8 columns):\n",
      "total_bill    244 non-null float64\n",
      "tip           244 non-null float64\n",
      "sex           244 non-null category\n",
      "smoker        244 non-null category\n",
      "day           244 non-null object\n",
      "time          244 non-null object\n",
      "size          244 non-null int64\n",
      "Unnamed: 7    0 non-null float64\n",
      "dtypes: category(2), float64(3), int64(1), object(2)\n",
      "memory usage: 12.2+ KB\n",
      "None\n"
     ]
    }
   ],
   "source": [
    "print(tips.info())"
   ]
  },
  {
   "cell_type": "code",
   "execution_count": 26,
   "metadata": {},
   "outputs": [
    {
     "name": "stdout",
     "output_type": "stream",
     "text": [
      "<class 'pandas.core.frame.DataFrame'>\n",
      "RangeIndex: 244 entries, 0 to 243\n",
      "Data columns (total 8 columns):\n",
      "total_bill    244 non-null float64\n",
      "tip           244 non-null float64\n",
      "sex           244 non-null category\n",
      "smoker        244 non-null category\n",
      "day           244 non-null object\n",
      "time          244 non-null object\n",
      "size          244 non-null int64\n",
      "Unnamed: 7    0 non-null float64\n",
      "dtypes: category(2), float64(3), int64(1), object(2)\n",
      "memory usage: 12.2+ KB\n",
      "None\n"
     ]
    }
   ],
   "source": [
    "# Convert 'total_bill' to a numeric dtype\n",
    "tips['total_bill'] = pd.to_numeric(tips['total_bill'], errors='coerce')\n",
    "\n",
    "# Convert 'tip' to a numeric dtype\n",
    "tips['tip'] = pd.to_numeric(tips['tip'], errors='coerce')\n",
    "\n",
    "# Print the info of tips\n",
    "print(tips.info())"
   ]
  },
  {
   "cell_type": "markdown",
   "metadata": {},
   "source": [
    "### Using regular expressions to clean strings\n",
    "\n",
    "#### String manipulation\n",
    "Many built-in and external libraries\n",
    "'re' library for regular expressions\n",
    "#### Example match\n",
    "17  - \\d*\n",
    "$17  - \\$\\d*\n",
    "$17.00 - \\$\\d*\\.\\d*\n",
    "$17.89  - \\$\\d*\\.\\d{2}\n",
    "\n",
    "\n",
    "#### Using regular expressions\n"
   ]
  },
  {
   "cell_type": "code",
   "execution_count": null,
   "metadata": {},
   "outputs": [],
   "source": [
    "import re\n",
    "pattern = re.compile('\\$\\d*\\.\\d{2}')\n",
    "result=pattern.match('$17.89')\n",
    "bool(result)"
   ]
  },
  {
   "cell_type": "code",
   "execution_count": 27,
   "metadata": {},
   "outputs": [
    {
     "name": "stdout",
     "output_type": "stream",
     "text": [
      "True\n",
      "False\n"
     ]
    }
   ],
   "source": [
    "'''\n",
    "String parsing with regular expressions\n",
    "In the video, Dan introduced you to the basics of regular expressions, which are powerful ways of\n",
    "defining patterns to match strings. This exercise will get you started with writing them.\n",
    "When working with data, it is sometimes necessary to write a regular expression to look for\n",
    "properly entered values. Phone numbers in a dataset is a common field that needs to be checked\n",
    "for validity. Your job in this exercise is to define a regular expression to match US phone\n",
    "numbers that fit the pattern of xxx-xxx-xxxx.\n",
    "The regular expression module in python is re. When performing pattern matching on data,\n",
    "since the pattern will be used for a match across multiple rows, it's better to compile the\n",
    "pattern first using re.compile(), and then use the compiled pattern to match values.\n",
    "INSTRUCTIONS\n",
    "100XP\n",
    "Import re.\n",
    "-Compile a pattern that matches a phone number of the format xxx-xxx-xxxx.\n",
    "-Use \\d{x} to match x digits. Here you'll need to use it three times: twice to match 3 digits,\n",
    "and once to match 4 digits.\n",
    "-Place the regular expression inside re.compile().\n",
    "-Using the .match() method on prog, check whether the pattern matches the string '123-456-7890'.\n",
    "-Using the same approach, now check whether the pattern matches the string '1123-456-7890'.\n",
    "'''\n",
    "# Import the regular expression module\n",
    "import re\n",
    "\n",
    "# Compile the pattern: prog\n",
    "#-Compile a pattern that matches a phone number of the format xxx-xxx-xxxx.\n",
    "#-Use \\d{x} to match x digits. Here you'll need to use it three times:\n",
    "#twice to match 3 digits,and once to match 4 digits.\n",
    "\n",
    "prog = re.compile('\\d{3}-\\d{3}-\\d{4}')\n",
    "\n",
    "# See if the pattern matches\n",
    "result = prog.match('123-456-7890')\n",
    "print(bool(result))\n",
    "\n",
    "# See if the pattern matches\n",
    "result = prog.match('1123-456-7890')\n",
    "print(bool(result))"
   ]
  },
  {
   "cell_type": "code",
   "execution_count": 28,
   "metadata": {},
   "outputs": [
    {
     "name": "stdout",
     "output_type": "stream",
     "text": [
      "['10', '1']\n"
     ]
    }
   ],
   "source": [
    "### EXTRACTING NUMERICAL VALUES FROM STRINGS\n",
    "'''\n",
    "-Import re.\n",
    "-Write a pattern that will find all the numbers in the following string:\n",
    "'the recipe calls for 10 strawberries and 1 banana'. To do this:\n",
    "    -Use the re.findall() function and pass it two arguments: the pattern,\n",
    "    followed by the string.\n",
    "    -\\d is the pattern required to find digits. This should be followed \n",
    "    with a + so that the previous element is matched one or more times.\n",
    "    This ensures that 10 is viewed as one number and not as 1 and 0.\n",
    "-Print the matches to confirm that your regular expression found \n",
    "the values 10 and 1.\n",
    "'''\n",
    "# Import the regular expression module\n",
    "import re\n",
    "\n",
    "# Find the numeric values: matches\n",
    "#-\\d is the pattern required to find digits. \n",
    "matches = re.findall('\\d+', 'the recipe calls for 10 strawberries and 1 banana')\n",
    "\n",
    "# Print the matches\n",
    "print(matches)"
   ]
  },
  {
   "cell_type": "code",
   "execution_count": 29,
   "metadata": {},
   "outputs": [
    {
     "name": "stdout",
     "output_type": "stream",
     "text": [
      "True\n",
      "True\n",
      "True\n"
     ]
    }
   ],
   "source": [
    "'''\n",
    "Pattern matching\n",
    "In this exercise, you'll continue practicing your regular expression skills. For each provided string, your job is to write the appropriate pattern to match it.\n",
    "INSTRUCTIONS\n",
    "100XP\n",
    "INSTRUCTIONS\n",
    "100XP\n",
    "-Write patterns to match:\n",
    "    -A telephone number of the format xxx-xxx-xxxx. You already did \n",
    "    this in a previous exercise.\n",
    "    -A string of the format: A dollar sign, an arbitrary number \n",
    "    of digits, a decimal point, 2 digits.\n",
    "        -Use \\$ to match the dollar sign, \\d* to match an arbitrary\n",
    "        number of digits, \\. to match the decimal point, and \\d{x} to match x number of digits.\n",
    "-A capital letter, followed by an arbitrary number of alphanumeric \n",
    "characters.\n",
    "    -Use [A-Z] to match any capital letter followed by \\w* to match\n",
    "    an arbitrary number of alphanumeric characters.\n",
    "'''\n",
    "import re\n",
    "\n",
    "# Write the first pattern\n",
    "pattern1 = bool(re.match(pattern='\\d{3}-\\d{3}-\\d{4}', string='123-456-7890'))\n",
    "print(pattern1)\n",
    "\n",
    "# Write the second pattern\n",
    "pattern2 = bool(re.match(pattern='^\\$\\d*\\.\\d{2}$', string='$123.45'))\n",
    "print(pattern2)\n",
    "\n",
    "# Write the third pattern\n",
    "pattern3 = bool(re.match(pattern='w*', string='Australia'))\n",
    "print(pattern3)"
   ]
  },
  {
   "cell_type": "markdown",
   "metadata": {},
   "source": [
    "### Custom functions to clean data\n",
    "cleaning step requires multiple steps: extract number from string, perform transformation on extracted number, python function"
   ]
  },
  {
   "cell_type": "code",
   "execution_count": null,
   "metadata": {},
   "outputs": [],
   "source": [
    "#apply\n",
    "print(df)\n",
    "df.apply(nm.mean,axis=0)  #mean verticaly across in table\n",
    "\n",
    "#or\n",
    "df.apply(nm.mean,axis=1) #mean horizontaly across in table\n",
    "\n",
    "import re\n",
    "from numpy inmport NaN\n",
    "pattern=re.compile('^\\$\\d*\\.\\d{2}$')\n",
    "\n",
    "\n",
    "\n",
    "#writing a function\n",
    "def my_function(inout1,input2):\n",
    "    #function  body\n",
    "    return value\n",
    "\n",
    "\n",
    "#write the function\n",
    "def diff_money(row,pattern):\n",
    "    icost=row['Initial Cost']\n",
    "    tef=row['Total Est. Fee']\n",
    "    if bool(pattern.match(icost) and bool(pattern.match(tef)):\n",
    "            icost=icost.replace(\"$\",\"\")\n",
    "            tef=tef.replace(\"$\",\"\")\n",
    "            \n",
    "            icost=float(icost)\n",
    "            tef=float(tef)\n",
    "            return icost-tef\n",
    "    else:\n",
    "            return(NaN)\n",
    "\n",
    "\n",
    "            \n",
    "            \n",
    "#applying function\n",
    "df_subset['diff'] = df_subset.apply(diff_money, axis=1, pattern=pattern)\n",
    "print(df_subset.head())"
   ]
  },
  {
   "cell_type": "code",
   "execution_count": 1,
   "metadata": {},
   "outputs": [
    {
     "data": {
      "text/html": [
       "<div>\n",
       "<style scoped>\n",
       "    .dataframe tbody tr th:only-of-type {\n",
       "        vertical-align: middle;\n",
       "    }\n",
       "\n",
       "    .dataframe tbody tr th {\n",
       "        vertical-align: top;\n",
       "    }\n",
       "\n",
       "    .dataframe thead th {\n",
       "        text-align: right;\n",
       "    }\n",
       "</style>\n",
       "<table border=\"1\" class=\"dataframe\">\n",
       "  <thead>\n",
       "    <tr style=\"text-align: right;\">\n",
       "      <th></th>\n",
       "      <th>total_bill</th>\n",
       "      <th>tip</th>\n",
       "      <th>sex</th>\n",
       "      <th>smoker</th>\n",
       "      <th>day</th>\n",
       "      <th>time</th>\n",
       "      <th>size</th>\n",
       "      <th>Unnamed: 7</th>\n",
       "    </tr>\n",
       "  </thead>\n",
       "  <tbody>\n",
       "    <tr>\n",
       "      <th>0</th>\n",
       "      <td>16.99</td>\n",
       "      <td>1.01</td>\n",
       "      <td>Female</td>\n",
       "      <td>No</td>\n",
       "      <td>Sun</td>\n",
       "      <td>Dinner</td>\n",
       "      <td>2</td>\n",
       "      <td>NaN</td>\n",
       "    </tr>\n",
       "    <tr>\n",
       "      <th>1</th>\n",
       "      <td>10.34</td>\n",
       "      <td>1.66</td>\n",
       "      <td>Male</td>\n",
       "      <td>No</td>\n",
       "      <td>Sun</td>\n",
       "      <td>Dinner</td>\n",
       "      <td>3</td>\n",
       "      <td>NaN</td>\n",
       "    </tr>\n",
       "    <tr>\n",
       "      <th>2</th>\n",
       "      <td>21.01</td>\n",
       "      <td>3.50</td>\n",
       "      <td>Male</td>\n",
       "      <td>No</td>\n",
       "      <td>Sun</td>\n",
       "      <td>Dinner</td>\n",
       "      <td>3</td>\n",
       "      <td>NaN</td>\n",
       "    </tr>\n",
       "  </tbody>\n",
       "</table>\n",
       "</div>"
      ],
      "text/plain": [
       "   total_bill   tip     sex smoker  day    time  size  Unnamed: 7\n",
       "0       16.99  1.01  Female     No  Sun  Dinner     2         NaN\n",
       "1       10.34  1.66    Male     No  Sun  Dinner     3         NaN\n",
       "2       21.01  3.50    Male     No  Sun  Dinner     3         NaN"
      ]
     },
     "execution_count": 1,
     "metadata": {},
     "output_type": "execute_result"
    }
   ],
   "source": [
    "#custom function to clean data exercise\n",
    "'''\n",
    "Custom functions to clean data\n",
    "You'll now practice writing functions to clean data.\n",
    "The tips dataset has been pre-loaded into a DataFrame called tips. It has a 'sex' column that contains the \n",
    "values 'Male' or 'Female'. Your job is to write a function that will recode 'Male' to 1, 'Female' to 0, and \n",
    "return np.nan for all entries of 'sex' that are neither 'Male' nor 'Female'.\n",
    "Recoding variables like this is a common data cleaning task. Functions provide a mechanism for you to abstract\n",
    "away complex bits of code as well as reuse code. This makes your code more readable and less error prone.\n",
    "As Dan showed you in the videos, you can use the .apply() method to apply a function across entire rows or \n",
    "columns of DataFrames. However, note that each column of a DataFrame is a pandas Series. Functions can also be\n",
    "applied across Series. Here, you will apply your function over the 'sex' column.\n",
    "\n",
    "\n",
    "INSTRUCTIONS\n",
    "\n",
    "-Define a function named recode_sex() that has one parameter: sex_value.\n",
    "    -If sex_value equals 'Male', return 1.\n",
    "    -Else, if sex_value equals 'Female', return 0.\n",
    "    -If sex_value does not equal 'Male' or 'Female', return np.nan. NumPy has been pre-imported for you.\n",
    "-Apply your recode_sex() function over tips.sex using the .apply() method to create a new column: 'sex_recode'. \n",
    "Note that when passing in a function inside the .apply() method, you don't need to specify the parentheses after\n",
    "the function name.\n",
    "-Hit 'Submit Answer' and take note of the new 'sex_recode' column in the tips DataFrame!\n",
    "'''\n",
    "import pandas as pd\n",
    "import re\n",
    "\n",
    "tips = pd.read_csv('tips.csv')\n",
    "tips.head(3)\n"
   ]
  },
  {
   "cell_type": "code",
   "execution_count": 2,
   "metadata": {},
   "outputs": [
    {
     "name": "stdout",
     "output_type": "stream",
     "text": [
      "   total_bill   tip     sex smoker  day    time  size  Unnamed: 7  sex_recode\n",
      "0       16.99  1.01  Female     No  Sun  Dinner     2         NaN           0\n",
      "1       10.34  1.66    Male     No  Sun  Dinner     3         NaN           1\n",
      "2       21.01  3.50    Male     No  Sun  Dinner     3         NaN           1\n"
     ]
    }
   ],
   "source": [
    "# Define recode_sex()\n",
    "def recode_sex(sex_value):\n",
    "\n",
    "    # Return 1 if sex_value is 'Male'\n",
    "    if sex_value == 'Male':\n",
    "        return 1\n",
    "    \n",
    "    # Return 0 if sex_value is 'Female'    \n",
    "    elif sex_value == 'Female':\n",
    "        return 0\n",
    "    \n",
    "    # Return np.nan    \n",
    "    else:\n",
    "        return np.nan\n",
    "\n",
    "# Apply the function to the sex column\n",
    "tips['sex_recode'] = tips.sex.apply(recode_sex)\n",
    "\n",
    "# Print the first five rows of tips\n",
    "print(tips.head(3))"
   ]
  },
  {
   "cell_type": "markdown",
   "metadata": {},
   "source": [
    "### Duplicate and missing data\n",
    "\n",
    "#### duplicate data\n",
    "use .drop_duplicates() method"
   ]
  },
  {
   "cell_type": "code",
   "execution_count": null,
   "metadata": {},
   "outputs": [],
   "source": [
    "df=df.drop_duplicates()"
   ]
  },
  {
   "cell_type": "markdown",
   "metadata": {},
   "source": [
    "#### missing data\n",
    "leave as-is, drop them, fill missing value\n",
    "\n",
    "#### count missing values"
   ]
  },
  {
   "cell_type": "code",
   "execution_count": null,
   "metadata": {},
   "outputs": [],
   "source": [
    "#### couunt missing values\n",
    "tips_nan.info()\n",
    "\n",
    "#drop missing values\n",
    "tips_dropped = tips_nan_dropna()\n",
    "\n",
    "\n",
    "### fill missing values with .fillna()\n",
    "tips_nan['sex'] = tips_nan['sex'].fillna('missing')\n",
    "\n",
    "tips_nan[['total_bill','size']]=tips_nan[['total_bill','size']].fillna(0)"
   ]
  },
  {
   "cell_type": "markdown",
   "metadata": {},
   "source": [
    "#### fill missing values with a test statistic\n",
    "careful when using test statistics to fill\n",
    "have to make sure the value you are filling makes sense\n",
    "median is better statistics in the presence of outliers\n",
    "\n",
    "#### example of filling"
   ]
  },
  {
   "cell_type": "code",
   "execution_count": null,
   "metadata": {},
   "outputs": [],
   "source": [
    "mean_value = tips_nan['tip'].mean()\n",
    "\n",
    "tips_nan['tip'] = tips_nan['tip'].fillna(mean_value)"
   ]
  },
  {
   "cell_type": "code",
   "execution_count": 3,
   "metadata": {},
   "outputs": [
    {
     "name": "stdout",
     "output_type": "stream",
     "text": [
      "<class 'pandas.core.frame.DataFrame'>\n",
      "RangeIndex: 153 entries, 0 to 152\n",
      "Data columns (total 6 columns):\n",
      "Ozone      116 non-null float64\n",
      "Solar.R    146 non-null float64\n",
      "Wind       153 non-null float64\n",
      "Temp       153 non-null int64\n",
      "Month      153 non-null int64\n",
      "Day        153 non-null int64\n",
      "dtypes: float64(3), int64(3)\n",
      "memory usage: 7.2 KB\n",
      "None\n",
      "<class 'pandas.core.frame.DataFrame'>\n",
      "RangeIndex: 153 entries, 0 to 152\n",
      "Data columns (total 6 columns):\n",
      "Ozone      153 non-null float64\n",
      "Solar.R    146 non-null float64\n",
      "Wind       153 non-null float64\n",
      "Temp       153 non-null int64\n",
      "Month      153 non-null int64\n",
      "Day        153 non-null int64\n",
      "dtypes: float64(3), int64(3)\n",
      "memory usage: 7.2 KB\n",
      "None\n"
     ]
    }
   ],
   "source": [
    "#missing values exercise\n",
    "'''\n",
    "INSTRUCTIONS\n",
    "100XP\n",
    "-Calculate the mean of the Ozone column of airquality using the .mean() method on airquality.Ozone.\n",
    "-Use the .fillna() method to replace all the missing values in the Ozone column of airquality with the mean, oz_mean.\n",
    "-Hit 'Submit Answer' to see the result of filling in the missing values!\n",
    "'''\n",
    "import pandas as pd\n",
    "\n",
    "airquality = pd.read_csv('airquality.csv')\n",
    "print(airquality.info())\n",
    "\n",
    "# Calculate the mean of the Ozone column: oz_mean\n",
    "oz_mean = airquality.Ozone.mean()\n",
    "\n",
    "# Replace all the missing values in the Ozone column with the mean\n",
    "airquality['Ozone'] = airquality.Ozone.fillna(oz_mean)\n",
    "\n",
    "# Print the info of airquality\n",
    "print(airquality.info())"
   ]
  },
  {
   "cell_type": "code",
   "execution_count": null,
   "metadata": {},
   "outputs": [],
   "source": [
    "### dropping duplicate data\n",
    "# Create the new DataFrame: tracks\n",
    "tracks = billboard[['year','artist','track','time']]\n",
    "\n",
    "# Print info of tracks\n",
    "print(tracks.info())\n",
    "\n",
    "# Drop the duplicates: tracks_no_duplicates\n",
    "tracks_no_duplicates = tracks.drop_duplicates()\n",
    "\n",
    "# Print info of tracks\n",
    "print(tracks_no_duplicates.info())"
   ]
  },
  {
   "cell_type": "markdown",
   "metadata": {},
   "source": [
    "### Lambda functions"
   ]
  },
  {
   "cell_type": "code",
   "execution_count": null,
   "metadata": {},
   "outputs": [],
   "source": [
    "'''\n",
    "Lambda functions\n",
    "You'll now be introduced to a powerful Python feature that will help you clean your data more effectively: lambda functions. Instead of using the def syntax that you used in the previous exercise, lambda functions let you make simple, one-line functions.\n",
    "For example, here's a function that squares a variable used in an .apply() method:\n",
    "def my_square(x):\n",
    "    return x ** 2\n",
    "df.apply(my_square)\n",
    "The equivalent code using a lambda function is:\n",
    "df.apply(lambda x: x ** 2)\n",
    "The lambda function takes one parameter - the variable x. The function itself just squares x and returns the result, which is whatever the one line of code evaluates to. In this way, lambda functions can make your code concise and Pythonic.\n",
    "The tips dataset has been pre-loaded into a DataFrame called tips. Your job is to clean its 'total_dollar' column by removing the dollar sign. You'll do this using two different methods: With the .replace() method, and with regular expressions. The regular expression module re has been pre-imported.\n",
    "INSTRUCTIONS\n",
    "100XP\n",
    "INSTRUCTIONS\n",
    "100XP\n",
    "-Use the .replace() method inside a lambda function to remove the dollar sign from the \n",
    "'total_dollar' column of tips.\n",
    "    -You need to specify two arguments to the .replace() method: The string to be replaced\n",
    "    ('$'), and the string to replace it by ('').\n",
    "    -Apply the lambda function over the 'total_dollar' column of tips.\n",
    "-Use a regular expression to remove the dollar sign from the 'total_dollar' column of tips.\n",
    "    -The pattern has been provided for you: It is the first argument of the re.findall() \n",
    "    function.\n",
    "    -Complete the rest of the lambda function and apply it over the 'total_dollar'\n",
    "    column of tips. Notice that because re.findall() returns a list, you have to slice \n",
    "    it in order to access the actual value.\n",
    "Hit 'Submit Answer' to verify that you have removed the dollar sign from the column.\n",
    "'''\n",
    "import pandas as pd\n",
    "import re\n",
    "\n",
    "tips = pd.read_csv('tips.csv')\n",
    "\n",
    "# Write the lambda function using replace\n",
    "tips['total_dollar_replace'] = tips.total_dollar.apply(lambda x: x.replace('$', ''))\n",
    "\n",
    "# Write the lambda function using regular expressions\n",
    "tips['total_dollar_re'] = tips.total_dollar.apply(lambda x: re.findall('\\d+\\.\\d+', x)[0])\n",
    "\n",
    "# Print the head of tips\n",
    "print(tips.head())"
   ]
  },
  {
   "cell_type": "markdown",
   "metadata": {},
   "source": [
    "### Testing with asserts\n"
   ]
  },
  {
   "cell_type": "code",
   "execution_count": 6,
   "metadata": {},
   "outputs": [
    {
     "ename": "AssertionError",
     "evalue": "",
     "output_type": "error",
     "traceback": [
      "\u001b[1;31m---------------------------------------------------------------------------\u001b[0m",
      "\u001b[1;31mAssertionError\u001b[0m                            Traceback (most recent call last)",
      "\u001b[1;32m<ipython-input-6-eccd763ef5d8>\u001b[0m in \u001b[0;36m<module>\u001b[1;34m\u001b[0m\n\u001b[0;32m     28\u001b[0m \u001b[1;33m\u001b[0m\u001b[0m\n\u001b[0;32m     29\u001b[0m \u001b[1;31m# Assert that there are no missing values\u001b[0m\u001b[1;33m\u001b[0m\u001b[1;33m\u001b[0m\u001b[1;33m\u001b[0m\u001b[0m\n\u001b[1;32m---> 30\u001b[1;33m \u001b[1;32massert\u001b[0m \u001b[0mebola\u001b[0m\u001b[1;33m.\u001b[0m\u001b[0mnotnull\u001b[0m\u001b[1;33m(\u001b[0m\u001b[1;33m)\u001b[0m\u001b[1;33m.\u001b[0m\u001b[0mall\u001b[0m\u001b[1;33m(\u001b[0m\u001b[1;33m)\u001b[0m\u001b[1;33m.\u001b[0m\u001b[0mall\u001b[0m\u001b[1;33m(\u001b[0m\u001b[1;33m)\u001b[0m\u001b[1;33m\u001b[0m\u001b[1;33m\u001b[0m\u001b[0m\n\u001b[0m\u001b[0;32m     31\u001b[0m \u001b[1;33m\u001b[0m\u001b[0m\n\u001b[0;32m     32\u001b[0m \u001b[1;31m# Assert that all values are >= 0\u001b[0m\u001b[1;33m\u001b[0m\u001b[1;33m\u001b[0m\u001b[1;33m\u001b[0m\u001b[0m\n",
      "\u001b[1;31mAssertionError\u001b[0m: "
     ]
    }
   ],
   "source": [
    "'''\n",
    "Testing your data with asserts\n",
    "Here, you'll practice writing assert statements using the Ebola dataset from previous chapters\n",
    "to programmatically check for missing values and to confirm that all values are positive.\n",
    "The dataset has been pre-loaded into a DataFrame called ebola.\n",
    "In the video, you saw Dan use the .all() method together with the .notnull() DataFrame \n",
    "method to check for missing values in a column. The .all() method returns True if all\n",
    "values are True. When used on a DataFrame, it returns a Series of Booleans - one for each\n",
    "column in the DataFrame. So if you are using it on a DataFrame, like in this exercise,\n",
    "you need to chain another .all() method so that you return only one True or False value. \n",
    "When using these within an assert statement, nothing will be returned if the assert \n",
    "statement is true: This is how you can confirm that the data you are checking are valid.\n",
    "Note: You can use pd.notnull(df) as an alternative to df.notnull().\n",
    "INSTRUCTIONS\n",
    "100XP\n",
    "INSTRUCTIONS\n",
    "100XP\n",
    "-Write an assert statement to confirm that there are no missing values in ebola.\n",
    "    -Use the pd.notnull() function on ebola (or the .notnull() method of ebola) and chain\n",
    "    two .all() methods (that is, .all().all()). The first .all() method will return a True \n",
    "    or False for each column, while the second .all() method will return a single True or False.\n",
    "-Write an assert statement to confirm that all values in ebola are greater than or equal to 0.\n",
    "    -Chain two all() methods to the Boolean condition (ebola >= 0).\n",
    "'''\n",
    "import pandas as pd\n",
    "\n",
    "ebola = pd.read_csv('ebola.csv')\n",
    "\n",
    "# Assert that there are no missing values\n",
    "assert ebola.notnull().all().all()\n",
    "\n",
    "# Assert that all values are >= 0\n",
    "assert (ebola >= 0).all().all()"
   ]
  },
  {
   "cell_type": "markdown",
   "metadata": {},
   "source": [
    "## Case study\n",
    "\n",
    "#### useful methods for exploration"
   ]
  },
  {
   "cell_type": "code",
   "execution_count": null,
   "metadata": {},
   "outputs": [],
   "source": [
    "import pandas as pd\n",
    "df=pf.read_csv('my_data.csv')\n",
    "df.head()\n",
    "df.info()\n",
    "df.columns\n",
    "df.describe()\n",
    "df.column.value_counts()\n",
    "df.column_plot('hist')\n"
   ]
  },
  {
   "cell_type": "markdown",
   "metadata": {},
   "source": [
    "### visualizing data"
   ]
  },
  {
   "cell_type": "code",
   "execution_count": 8,
   "metadata": {},
   "outputs": [
    {
     "data": {
      "text/plain": [
       "(20, 55)"
      ]
     },
     "execution_count": 8,
     "metadata": {},
     "output_type": "execute_result"
    },
    {
     "data": {
      "image/png": "[encoded data removed]",
      "text/plain": [
       "<Figure size 432x288 with 1 Axes>"
      ]
     },
     "metadata": {
      "needs_background": "light"
     },
     "output_type": "display_data"
    }
   ],
   "source": [
    "'''\n",
    "Visualizing your data\n",
    "Since 1800, life expectancy around the globe has been steadily going up. You would expect the \n",
    "Gapminder data to confirm this.\n",
    "The DataFrame g1800s has been pre-loaded. Your job in this exercise is to create a scatter\n",
    "plot with life expectancy in '1800' on the x-axis and life expectancy in '1899'\n",
    "on the y-axis.\n",
    "Here, the goal is to visually check the data for insights as well as errors.\n",
    "When looking at the plot, pay attention to whether the scatter plot takes the form of\n",
    "a diagonal line, and which points fall below or above the diagonal line. This will inform\n",
    "how life expectancy in 1899 changed (or did not change) compared to 1800 for different \n",
    "countries. If points fall on a diagonal line, it means that life expectancy remained the same!\n",
    "INSTRUCTIONS\n",
    "100XP\n",
    "INSTRUCTIONS\n",
    "100XP\n",
    "-Import matplotlib.pyplot as plt.\n",
    "-Use the .plot() method on g1800s with kind='scatter' to create a scatter plot with \n",
    "'1800' on the x-axis and '1899' on the y-axis.\n",
    "-Display the plot.\n",
    "'''\n",
    "import pandas as pd\n",
    "\n",
    "g1800s = pd.read_csv('g1800s.csv')\n",
    "\n",
    "# Import matplotlib.pyplot\n",
    "import matplotlib.pyplot as plt\n",
    "\n",
    "# Create the scatter plot\n",
    "g1800s.plot(kind='scatter', x='1800', y='1899')\n",
    "\n",
    "# Specify axis labels\n",
    "plt.xlabel('Life Expectancy by Country in 1800')\n",
    "plt.ylabel('Life Expectancy by Country in 1899')\n",
    "\n",
    "# Specify axis limits\n",
    "plt.xlim(20, 55)\n",
    "plt.ylim(20, 55)"
   ]
  },
  {
   "cell_type": "code",
   "execution_count": 10,
   "metadata": {},
   "outputs": [
    {
     "ename": "AssertionError",
     "evalue": "",
     "output_type": "error",
     "traceback": [
      "\u001b[1;31m---------------------------------------------------------------------------\u001b[0m",
      "\u001b[1;31mAssertionError\u001b[0m                            Traceback (most recent call last)",
      "\u001b[1;32m<ipython-input-10-bbbd1456b628>\u001b[0m in \u001b[0;36m<module>\u001b[1;34m\u001b[0m\n\u001b[0;32m     49\u001b[0m \u001b[1;33m\u001b[0m\u001b[0m\n\u001b[0;32m     50\u001b[0m \u001b[1;31m# Check that there is only one instance of each country\u001b[0m\u001b[1;33m\u001b[0m\u001b[1;33m\u001b[0m\u001b[1;33m\u001b[0m\u001b[0m\n\u001b[1;32m---> 51\u001b[1;33m \u001b[1;32massert\u001b[0m \u001b[0mg1800s\u001b[0m\u001b[1;33m[\u001b[0m\u001b[1;34m'Life expectancy'\u001b[0m\u001b[1;33m]\u001b[0m\u001b[1;33m.\u001b[0m\u001b[0mvalue_counts\u001b[0m\u001b[1;33m(\u001b[0m\u001b[1;33m)\u001b[0m\u001b[1;33m[\u001b[0m\u001b[1;36m0\u001b[0m\u001b[1;33m]\u001b[0m \u001b[1;33m==\u001b[0m \u001b[1;36m1\u001b[0m\u001b[1;33m\u001b[0m\u001b[1;33m\u001b[0m\u001b[0m\n\u001b[0m",
      "\u001b[1;31mAssertionError\u001b[0m: "
     ]
    }
   ],
   "source": [
    "'''\n",
    "Thinking about the question at hand\n",
    "Since you are given life expectancy level data by country and year, you could ask questions\n",
    "about how much the average life expectancy changes over each year.\n",
    "Before continuing, however, it's important to make sure that the following assumptions\n",
    "about the data are true:\n",
    "'Life expectancy' is the first column (index 0) of the DataFrame.\n",
    "The other columns contain either null or numeric values.\n",
    "The numeric values are all greater than or equal to 0.\n",
    "There is only one instance of each country.\n",
    "You can write a function that you can apply over the entire DataFrame to verify \n",
    "some of these assumptions. Note that spending the time to write such a script will \n",
    "help you when working with other datasets as well.\n",
    "INSTRUCTIONS\n",
    "100XP\n",
    "INSTRUCTIONS\n",
    "100XP\n",
    "-Define a function called check_null_or_valid() that takes in one argument: row_data.\n",
    "-Inside the function, convert no_na to a numeric data type using pd.to_numeric().\n",
    "-Write an assert statement to make sure the first column (index 0) of the g1800s\n",
    "DataFrame is 'Life expectancy'.\n",
    "-Write an assert statement to test that all the values are valid for the g1800s DataFrame. \n",
    "Use the check_null_or_valid() function placed inside the .apply() method for this.\n",
    "Note that because you're applying it over the entire DataFrame, and not just one column,\n",
    "you'll have to chain the .all() method twice, and remember that you don't have to use ()\n",
    "for functions placed inside .apply().\n",
    "-Write an assert statement to make sure that each country occurs only once in the data. \n",
    "Use the .value_counts() method on the 'Life expectancy' column for this. Specifically, \n",
    "index 0 of .value_counts() will contain the most frequently occuring value. If this is \n",
    "equal to 1 for the 'Life expectancy' column, then you can be certain that no country \n",
    "appears more than once in the data.\n",
    "'''\n",
    "def check_null_or_valid(row_data):\n",
    "    \"\"\"Function that takes a row of data,\n",
    "    drops all missing values,\n",
    "    and checks if all remaining values are greater than or equal to 0\n",
    "    \"\"\"\n",
    "    # convert no_na to a numeric data type using pd.to_numeric()\n",
    "    no_na = row_data.dropna()[1:-1]\n",
    "    numeric = pd.to_numeric(no_na)\n",
    "    ge0 = numeric >= 0\n",
    "    return ge0\n",
    "\n",
    "# Check whether the first column is 'Life expectancy'\n",
    "assert g1800s.columns[0] == 'Life expectancy'\n",
    "\n",
    "# Check whether the values in the row are valid\n",
    "assert g1800s.iloc[:, 1:].apply(check_null_or_valid, axis=1).all().all()\n",
    "\n",
    "# Check that there is only one instance of each country\n",
    "assert g1800s['Life expectancy'].value_counts()[0] == 1"
   ]
  },
  {
   "cell_type": "code",
   "execution_count": 11,
   "metadata": {},
   "outputs": [
    {
     "name": "stdout",
     "output_type": "stream",
     "text": [
      "(780, 102)\n",
      "   Unnamed: 0        Life expectancy   1800  1801   1802   1803   1804   1805  \\\n",
      "0           0               Abkhazia    NaN   NaN    NaN    NaN    NaN    NaN   \n",
      "1           1            Afghanistan  28.21  28.2  28.19  28.18  28.17  28.16   \n",
      "2           2  Akrotiri and Dhekelia    NaN   NaN    NaN    NaN    NaN    NaN   \n",
      "\n",
      "    1806   1807  ...    1890   1891   1892   1893   1894   1895   1896   1897  \\\n",
      "0    NaN    NaN  ...     NaN    NaN    NaN    NaN    NaN    NaN    NaN    NaN   \n",
      "1  28.15  28.14  ...   27.29  27.28  27.27  27.26  27.25  27.24  27.23  27.22   \n",
      "2    NaN    NaN  ...     NaN    NaN    NaN    NaN    NaN    NaN    NaN    NaN   \n",
      "\n",
      "    1898  1899  \n",
      "0    NaN   NaN  \n",
      "1  27.21  27.2  \n",
      "2    NaN   NaN  \n",
      "\n",
      "[3 rows x 102 columns]\n"
     ]
    }
   ],
   "source": [
    "### Assembling data\n",
    "#gapminder=pd.concat([g1800s, g1900s, g2000s])\n",
    "gapminder=g1800s\n",
    "print(gapminder.shape)\n",
    "print(gapminder.head(3))"
   ]
  },
  {
   "cell_type": "code",
   "execution_count": 12,
   "metadata": {},
   "outputs": [
    {
     "name": "stdout",
     "output_type": "stream",
     "text": [
      "                 country        year  life_expectancy\n",
      "0               Abkhazia  Unnamed: 0              0.0\n",
      "1            Afghanistan  Unnamed: 0              1.0\n",
      "2  Akrotiri and Dhekelia  Unnamed: 0              2.0\n",
      "3                Albania  Unnamed: 0              3.0\n",
      "4                Algeria  Unnamed: 0              4.0\n"
     ]
    }
   ],
   "source": [
    "#reshaping data\n",
    "'''\n",
    "Reshaping your data\n",
    "Now that you have all the data combined into a single DataFrame, the next step is to reshape\n",
    "it into a tidy data format.\n",
    "Currently, the gapminder DataFrame has a separate column for each year. What you want\n",
    "instead is a single column that contains the year, and a single column that represents\n",
    "the average life expectancy for each year and country. By having year in its own column, \n",
    "you can use it as a predictor variable in a later analysis.\n",
    "You can convert the DataFrame into the desired tidy format by melting it.\n",
    "INSTRUCTIONS\n",
    "100XP\n",
    "Reshape gapminder by melting it. Keep 'Life expectancy' fixed by specifying it as an\n",
    "argument to the id_vars parameter.\n",
    "Rename the three columns of the melted DataFrame to 'country', 'year', and 'life_expectancy'\n",
    "by passing them in as a list to gapminder_melt.columns.\n",
    "Print the head of the melted DataFrame.\n",
    "'''\n",
    "# Melt gapminder: gapminder_melt\n",
    "gapminder_melt = pd.melt(frame=gapminder, id_vars='Life expectancy')\n",
    "\n",
    "# Rename the columns\n",
    "gapminder_melt.columns = ['country', 'year', 'life_expectancy']\n",
    "\n",
    "# Print the head of gapminder_melt\n",
    "print(gapminder_melt.head())"
   ]
  },
  {
   "cell_type": "code",
   "execution_count": 13,
   "metadata": {},
   "outputs": [
    {
     "name": "stdout",
     "output_type": "stream",
     "text": [
      "           country  year  life_expectancy\n",
      "78775   Yugoslavia  1899              NaN\n",
      "78776       Zambia  1899              NaN\n",
      "78777     Zimbabwe  1899              NaN\n",
      "78778       ÌÉland  1899              NaN\n",
      "78779  South Sudan  1899              NaN\n"
     ]
    }
   ],
   "source": [
    "print(gapminder_melt.tail())"
   ]
  },
  {
   "cell_type": "code",
   "execution_count": 17,
   "metadata": {},
   "outputs": [
    {
     "data": {
      "text/html": [
       "<div>\n",
       "<style scoped>\n",
       "    .dataframe tbody tr th:only-of-type {\n",
       "        vertical-align: middle;\n",
       "    }\n",
       "\n",
       "    .dataframe tbody tr th {\n",
       "        vertical-align: top;\n",
       "    }\n",
       "\n",
       "    .dataframe thead th {\n",
       "        text-align: right;\n",
       "    }\n",
       "</style>\n",
       "<table border=\"1\" class=\"dataframe\">\n",
       "  <thead>\n",
       "    <tr style=\"text-align: right;\">\n",
       "      <th></th>\n",
       "      <th>country</th>\n",
       "      <th>year</th>\n",
       "      <th>life_expectancy</th>\n",
       "    </tr>\n",
       "  </thead>\n",
       "  <tbody>\n",
       "    <tr>\n",
       "      <th>0</th>\n",
       "      <td>Abkhazia</td>\n",
       "      <td>Unnamed: 0</td>\n",
       "      <td>0.0</td>\n",
       "    </tr>\n",
       "    <tr>\n",
       "      <th>1</th>\n",
       "      <td>Afghanistan</td>\n",
       "      <td>Unnamed: 0</td>\n",
       "      <td>1.0</td>\n",
       "    </tr>\n",
       "    <tr>\n",
       "      <th>2</th>\n",
       "      <td>Akrotiri and Dhekelia</td>\n",
       "      <td>Unnamed: 0</td>\n",
       "      <td>2.0</td>\n",
       "    </tr>\n",
       "  </tbody>\n",
       "</table>\n",
       "</div>"
      ],
      "text/plain": [
       "                 country        year  life_expectancy\n",
       "0               Abkhazia  Unnamed: 0              0.0\n",
       "1            Afghanistan  Unnamed: 0              1.0\n",
       "2  Akrotiri and Dhekelia  Unnamed: 0              2.0"
      ]
     },
     "execution_count": 17,
     "metadata": {},
     "output_type": "execute_result"
    }
   ],
   "source": [
    "gapminder_melt.head(3)"
   ]
  },
  {
   "cell_type": "code",
   "execution_count": 18,
   "metadata": {},
   "outputs": [
    {
     "name": "stdout",
     "output_type": "stream",
     "text": [
      "<class 'pandas.core.frame.DataFrame'>\n",
      "RangeIndex: 78780 entries, 0 to 78779\n",
      "Data columns (total 3 columns):\n",
      "country            78780 non-null object\n",
      "year               78780 non-null object\n",
      "life_expectancy    20880 non-null float64\n",
      "dtypes: float64(1), object(2)\n",
      "memory usage: 1.8+ MB\n"
     ]
    }
   ],
   "source": [
    "gapminder_melt.info()"
   ]
  },
  {
   "cell_type": "code",
   "execution_count": 22,
   "metadata": {},
   "outputs": [
    {
     "name": "stdout",
     "output_type": "stream",
     "text": [
      "<class 'pandas.core.frame.DataFrame'>\n",
      "RangeIndex: 78780 entries, 0 to 78779\n",
      "Data columns (total 3 columns):\n",
      "country            78780 non-null object\n",
      "year               78000 non-null float64\n",
      "life_expectancy    20880 non-null float64\n",
      "dtypes: float64(2), object(1)\n",
      "memory usage: 1.8+ MB\n"
     ]
    }
   ],
   "source": [
    "#Checking data types\n",
    "'''\n",
    "Checking the data types\n",
    "Now that your data is in the proper shape, you need to ensure that the columns are of the proper data type. That is, you need to ensure that country is of type object, year is of type int64, and life_expectancy is of type float64.\n",
    "The tidy DataFrame has been pre-loaded as gapminder. Explore it in the IPython Shell using the .info() method. Notice that the column 'year' is of type object. This is incorrect, so you'll need to use the pd.to_numeric() function to convert it to a numeric data type.\n",
    "NumPy and pandas have been pre-imported as np and pd.\n",
    "INSTRUCTIONS\n",
    "100XP\n",
    "-Convert the year column of gapminder using pd.to_numeric().\n",
    "-Assert that the country column is of type np.object. This has been done for you.\n",
    "-Assert that the year column is of type np.int64.\n",
    "-Assert that the life_expectancy column is of type np.float64.\n",
    "'''\n",
    "import numpy as np\n",
    "# Convert the year column to numeric\n",
    "gapminder_melt.year = pd.to_numeric(gapminder_melt['year'], errors='coerce')\n",
    "\n",
    "# Test if country is of type object\n",
    "assert gapminder_melt.country.dtypes == np.object\n",
    "\n",
    "gapminder_melt.info()\n"
   ]
  },
  {
   "cell_type": "code",
   "execution_count": 23,
   "metadata": {},
   "outputs": [],
   "source": [
    "# Test if year is of type int64\n",
    "#will fail\n",
    "#assert gapminder_melt.year.dtypes == np.int64\n",
    "\n",
    "# Test if life_expectancy is of type float64\n",
    "assert gapminder_melt.life_expectancy.dtypes == np.float64\n"
   ]
  },
  {
   "cell_type": "code",
   "execution_count": 24,
   "metadata": {},
   "outputs": [
    {
     "name": "stdout",
     "output_type": "stream",
     "text": [
      "49           Congo, Dem. Rep.\n",
      "50                Congo, Rep.\n",
      "53              Cote d'Ivoire\n",
      "73     Falkland Is (Malvinas)\n",
      "93              Guinea-Bissau\n",
      "98           Hong Kong, China\n",
      "118     United Korea (former)\n",
      "131              Macao, China\n",
      "132            Macedonia, FYR\n",
      "145     Micronesia, Fed. Sts.\n",
      "161           Ngorno-Karabakh\n",
      "187           St. BarthÌ©lemy\n",
      "193    St.-Pierre-et-Miquelon\n",
      "225               Timor-Leste\n",
      "251     Virgin Islands (U.S.)\n",
      "252      North Yemen (former)\n",
      "253      South Yemen (former)\n",
      "258                    ÌÉland\n",
      "Name: country, dtype: object\n"
     ]
    }
   ],
   "source": [
    "'''\n",
    "Looking at country spellings\n",
    "Having tidied your DataFrame and checked the data types, your next task in the data cleaning\n",
    "process is to look at the 'country' column to see if there are any special or invalid\n",
    "characters you may need to deal with.\n",
    "It is reasonable to assume that country names will contain:\n",
    "The set of lower and upper case letters.\n",
    "Whitespace between words.\n",
    "Periods for any abbreviations.\n",
    "To confirm that this is the case, you can leverage the power of regular expressions again.\n",
    "For common operations like this, Python has a built-in string method - str.contains() - which \n",
    "takes a regular expression pattern, and applies it to the Series, returning True if there \n",
    "is a match, and False otherwise.\n",
    "Since here you want to find the values that do not match, you have to invert the boolean,\n",
    "which can be done using ~. This Boolean series can then be used to get the Series of\n",
    "countries that have invalid names.\n",
    "INSTRUCTIONS\n",
    "100XP\n",
    "INSTRUCTIONS\n",
    "100XP\n",
    "Create a Series called countries consisting of the 'country' column of gapminder.\n",
    "Drop all duplicates from countries using the .drop_duplicates() method.\n",
    "Write a regular expression that tests your assumptions of what characters belong \n",
    "in countries:\n",
    "Anchor the pattern to match exactly what you want by placing a ^ in the beginning and\n",
    "$ in the end.\n",
    "Use A-Za-z to match the set of lower and upper case letters, \\. to match periods, and \n",
    "\\s to match whitespace between words.\n",
    "Use str.contains() to create a Boolean vector representing values that match the pattern.\n",
    "Invert the mask by placing a ~ before it.\n",
    "Subset the countries series using the .loc[] accessor and mask_inverse. Then hit 'Submit\n",
    "Answer' to see the invalid country names!\n",
    "'''\n",
    "# Create the series of countries: countries\n",
    "countries = gapminder_melt['country']\n",
    "\n",
    "# Drop all the duplicates from countries\n",
    "countries = countries.drop_duplicates()\n",
    "\n",
    "# Write the regular expression: pattern\n",
    "pattern = '^[A-Za-z\\.\\s]*$'\n",
    "\n",
    "# Create the Boolean vector: mask\n",
    "mask = countries.str.contains(pattern)\n",
    "\n",
    "# Invert the mask: mask_inverse\n",
    "mask_inverse = ~countries.str.contains(pattern)\n",
    "\n",
    "# Subset countries using mask_inverse: invalid_countries\n",
    "invalid_countries = countries.loc[mask_inverse]\n",
    "\n",
    "# Print invalid_countries\n",
    "print(invalid_countries)"
   ]
  },
  {
   "cell_type": "code",
   "execution_count": 28,
   "metadata": {},
   "outputs": [
    {
     "name": "stdout",
     "output_type": "stream",
     "text": [
      "(78780, 3)\n"
     ]
    }
   ],
   "source": [
    "'''\n",
    "More data cleaning and processing\n",
    "It's now time to deal with the missing data. There are several strategies for this: You can drop them, fill them in using the mean of the column or row that the missing value is in (also known as imputation), or, if you are dealing with time series data, use a forward fill or backward fill, in which you replace missing values in a column with the most recent known value in the column. See pandas Foundations for more on forward fill and backward fill.\n",
    "In general, it is not the best idea to drop missing values, because in doing so you may end up throwing away useful information. In this data, the missing values refer to years where no estimate for life expectancy is available for a given country. You could fill in, or guess what these life expectancies could be by looking at the average life expectancies for other countries in that year, for example. Whichever strategy you go with, it is important to carefully consider all options and understand how they will affect your data.\n",
    "In this exercise, you'll practice dropping missing values. Your job is to drop all the rows that have NaN in the life_expectancy column. Before doing so, it would be valuable to use assert statements to confirm that year and country do not have any missing values.\n",
    "Begin by printing the shape of gapminder in the IPython Shell prior to dropping the missing values. Complete the exercise to find out what its shape will be after dropping the missing values!\n",
    "INSTRUCTIONS\n",
    "100XP\n",
    "INSTRUCTIONS\n",
    "100XP\n",
    "-Assert that country and year do not contain any missing values. The first assert statement has been written for you. Note the chaining of the .all() method to pd.notnull() to confirm that all values in the column are not null.\n",
    "-Drop the rows in the data where any observation in life_expectancy is missing. As you confirmed that country and year don't have missing values, you can use the .dropna() method on the entire gapminder DataFrame, because any missing values would have to be in the life_expectancy column. The .dropna() method has the default keyword arguments axis=0 and how='any', which specify that rows with any missing values should be dropped.\n",
    "-Print the shape of gapminder.\n",
    "'''\n",
    "# Assert that country does not contain any missing values\n",
    "assert pd.notnull(gapminder_melt.country).all()\n",
    "\n",
    "# Assert that year does not contain any missing values\n",
    "#assert pd.notnull(gapminder_melt.year).all()\n",
    "\n",
    "# Drop the missing values\n",
    "gapminder = gapminder_melt.dropna()\n",
    "\n",
    "# Print the shape of gapminder\n",
    "print(gapminder_melt.shape)"
   ]
  },
  {
   "cell_type": "code",
   "execution_count": 29,
   "metadata": {},
   "outputs": [
    {
     "name": "stdout",
     "output_type": "stream",
     "text": [
      "year\n",
      "1800.0    31.486020\n",
      "1801.0    31.448905\n",
      "1802.0    31.463483\n",
      "1803.0    31.377413\n",
      "1804.0    31.446318\n",
      "Name: life_expectancy, dtype: float64\n",
      "year\n",
      "1895.0    32.811841\n",
      "1896.0    32.895224\n",
      "1897.0    32.964279\n",
      "1898.0    32.994080\n",
      "1899.0    32.962985\n",
      "Name: life_expectancy, dtype: float64\n"
     ]
    },
    {
     "data": {
      "image/png": "[encoded data removed]",
      "text/plain": [
       "<Figure size 432x288 with 2 Axes>"
      ]
     },
     "metadata": {
      "needs_background": "light"
     },
     "output_type": "display_data"
    }
   ],
   "source": [
    "'''\n",
    "Wrapping up\n",
    "Now that you have a clean and tidy dataset, you can do a bit of visualization and aggregation.\n",
    "In this exercise, you'll begin by creating a histogram of the life_expectancy column. \n",
    "You should not get any values under 0 and you should see something reasonable on the \n",
    "higher end of the life_expectancy age range.\n",
    "Your next task is to investigate how average life expectancy changed over the years.\n",
    "To do this, you need to subset the data by each year, get the life_expectancy column\n",
    "from each subset, and take an average of the values. You can achieve this using the \n",
    ".groupby() method. This .groupby() method is covered in greater depth in Manipulating \n",
    "DataFrames with pandas.\n",
    "Finally, you can save your tidy and summarized DataFrame to a file using the .to_csv()\n",
    "method.\n",
    "Matplotlib and pandas have been pre-imported as plt and pd. Go for it!\n",
    "INSTRUCTIONS\n",
    "100XP\n",
    "INSTRUCTIONS\n",
    "100XP\n",
    "-Create a histogram of the life_expectancy column using the .plot() method of gapminder. \n",
    "Specify kind='hist'.\n",
    "    -Group gapminder by 'year' and aggregate 'life_expectancy' by the mean. To do this:\n",
    "        -Use the .groupby() method on gapminder with 'year' as the argument. Then select \n",
    "        'life_expectancy' and chain the .mean() method to it.\n",
    "-Print the head and tail of gapminder_agg. This has been done for you.\n",
    "-Create a line plot of average life expectancy per year by using the .plot() method \n",
    "(without any arguments) on gapminder_agg.\n",
    "-Save gapminder and gapminder_agg to csv files called 'gapminder.csv' and \n",
    "'gapminder_agg.csv', respectively, using the .to_csv() method.\n",
    "'''\n",
    "# Add first subplot\n",
    "plt.subplot(2, 1, 1) \n",
    "\n",
    "# Create a histogram of life_expectancy\n",
    "gapminder_melt.life_expectancy.plot(kind='hist')\n",
    "\n",
    "# Group gapminder: gapminder_agg\n",
    "gapminder_agg = gapminder_melt.groupby('year')['life_expectancy'].mean()\n",
    "\n",
    "# Print the head of gapminder_agg\n",
    "print(gapminder_agg.head())\n",
    "\n",
    "# Print the tail of gapminder_agg\n",
    "print(gapminder_agg.tail())\n",
    "\n",
    "# Add second subplot\n",
    "plt.subplot(2, 1, 2)\n",
    "\n",
    "# Create a line plot of life expectancy per year\n",
    "gapminder_agg.plot()\n",
    "\n",
    "# Add title and specify axis labels\n",
    "plt.title('Life expectancy over the years')\n",
    "plt.ylabel('Life expectancy')\n",
    "plt.xlabel('Year')\n",
    "\n",
    "# Display the plots\n",
    "plt.tight_layout()\n",
    "plt.show()\n",
    "\n",
    "# Save both DataFrames to csv files\n",
    "gapminder_melt.to_csv('gapminder.csv')\n",
    "gapminder_agg.to_csv('gapminder_agg.csv')"
   ]
  }
 ],
 "metadata": {
  "kernelspec": {
   "display_name": "Python 3",
   "language": "python",
   "name": "python3"
  },
  "language_info": {
   "codemirror_mode": {
    "name": "ipython",
    "version": 3
   },
   "file_extension": ".py",
   "mimetype": "text/x-python",
   "name": "python",
   "nbconvert_exporter": "python",
   "pygments_lexer": "ipython3",
   "version": "3.7.1"
  }
 },
 "nbformat": 4,
 "nbformat_minor": 2
}
