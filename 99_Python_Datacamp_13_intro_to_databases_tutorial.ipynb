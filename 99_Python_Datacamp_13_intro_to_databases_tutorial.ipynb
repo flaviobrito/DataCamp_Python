{
 "cells": [
  {
   "cell_type": "markdown",
   "metadata": {},
   "source": [
    "# Introduction to DataBases in Python\n",
    "\n",
    "1 <b> Intro to databases </b>, relational model, connecting to database, engines and connection strings, autoloading tables from database, viewing table details, intro to SQL, selecting data from table(raw SQL), selecting data from table with SQLAlchemy\n",
    "<br>\n",
    "2 <b>Applying Filtering</b>, Ordering and Grouping to Queries\n",
    "filtering and targeting data, connecting to PostreSQL DB, filter data selected from table, ordering by single column, descending order, ordering bt multiple columns, counting, summing, grouping,counting distinct data,use pandas and matplotlib to visialize our data, SQLAlchemy ResultsProxy and Pandas DataFrame, From SQLAlchemu results to a Graph\n",
    "<br>\n",
    "3 <b>ADVANCED SQLAlchemy</b> querries\n",
    "calculing values  in query, connecting to MySQL DataBase, calculating difference between two columns, determening percentage, SQL relationships, automatic joins, joins,hierarchical tables, leveraging functions and Group_bys\n",
    "<br>\n",
    "4 <b>Creating and Manipulating your own database</b>\n",
    "creating databases and tables, creating tables with SQLAlchemy, Inserting data to table, inserting a single row with an insert() statement, inserting multiple records at once, Loading CSV into Table,\n",
    "Updating data in dataBase, updating individual records, updating multiple records, correlated updates, removing data from database, deleting all records from table, deleting specific records, deleting table completely\n",
    "<br>\n",
    "5 <b>Putting it all together - Census Case Study</b> <br>\n",
    "Setup the engine and MetaData, create the table to the database, populating the database,\n",
    "reading the data from csv, load data from list into the table, example querries,\n",
    "build a query to determine  the average age by population, determine percentage of population by gender and state, determine the difference by state from the 2000 and 2008 censuses\n",
    "In separate file:\n",
    "99_Python_Datacamp_13_intro_to_databases_casestudy_census.ipynb\n",
    "All other exercises in:\n",
    "99_Python_Datacamp_13_intro_to_databases_exercises_sqlalchemy.ipynb"
   ]
  },
  {
   "cell_type": "markdown",
   "metadata": {},
   "source": [
    "###  SQLAlchemy vs SQL\n",
    "\n",
    "<b>WHERE </b>\n",
    "\n",
    "SQL: \n",
    "SELECT * FROM census WHERE sex= F\n",
    "\n",
    "SQLAlchemy:\n",
    "db.select([census]).where(census.columns.sex == 'F')\n",
    "\n",
    "\n",
    "<b>IN </b>\n",
    "SQL :\n",
    "SELECT state, sex\n",
    "FROM census\n",
    "WHERE state IN (Texas, New York)\n",
    "SQLAlchemy :\n",
    "db.select([census.columns.state, census.columns.sex]).where(census.columns.state.in_(['Texas', 'New York']))\n",
    "\n",
    "<b>AND, OR, NOT</b>\n",
    "SQL :\n",
    "SELECT * FROM census\n",
    "WHERE state = 'California' AND NOT sex = 'M'\n",
    "SQLAlchemy :\n",
    "db.select([census]).where(db.and_(census.columns.state == 'California', census.columns.sex != 'M'))\n",
    "\n",
    "<b>ODER BY</b>\n",
    "\n",
    "SQL :\n",
    "SELECT * FROM census\n",
    "ORDER BY State DESC, pop2000\n",
    "SQLAlchemy :\n",
    "db.select([census]).order_by(db.desc(census.columns.state), census.columns.pop2000)\n",
    "\n",
    "<b>Functions</b>\n",
    "SQL :\n",
    "SELECT SUM(pop2008)\n",
    "FROM census\n",
    "SQLAlchemy :\n",
    "db.select([db.func.sum(census.columns.pop2008)])\n",
    "\n",
    "<b>GROUP BY</b>\n",
    "SQL :\n",
    "SELECT SUM(pop2008) AS pop2008, sex\n",
    "FROM census\n",
    "SQLAlchemy :\n",
    "db.select([db.func.sum(census.columns.pop2008).label('pop2008'), census.columns.sex]).group_by(census.columns.sex)\n",
    "\n",
    "<b>distinct </b>\n",
    "SQL :\n",
    "SELECT DISTINCT state\n",
    "FROM census\n",
    "SQLAlchemy :\n",
    "db.select([census.columns.state.distinct()])\n",
    "\n",
    "case & cast\n",
    "\n",
    "The case() expression accepts a list of conditions to match and the column to return if the condition matches, followed by an else_ if none of the conditions match.\n",
    "\n",
    "cast() function to convert an expression to a particular type\n",
    "\n",
    "example\n",
    "import sqlalchemy as db\n",
    "In [3]:\n",
    "engine = db.create_engine('sqlite:///census.sqlite')\n",
    "connection = engine.connect()\n",
    "metadata = db.MetaData()\n",
    "census = db.Table('census', metadata, autoload=True, autoload_with=engine)\n",
    "In [6]:\n",
    "female_pop = db.func.sum(db.case([(census.columns.sex == 'F', census.columns.pop2000)],else_=0))\n",
    "In [7]:\n",
    "total_pop = db.cast(db.func.sum(census.columns.pop2000), db.Float)\n",
    "In [8]:\n",
    "query = db.select([female_pop/total_pop * 100])\n",
    "In [9]:\n",
    "result = connection.execute(query).scalar()\n",
    "print(result)\n",
    "51.09467432293413\n",
    "\n",
    "<b>joins</b>\n",
    "\n",
    "If you have two tables that already have an established relationship, you can automatically use that relationship by just adding the columns we want from each table to the select statement.\n",
    "\n",
    "select([census.columns.pop2008, state_fact.columns.abbreviation])\n",
    "import sqlalchemy as db\n",
    "import pandas as pd\n",
    "\n",
    "engine = db.create_engine('sqlite:///census.sqlite')\n",
    "connection = engine.connect()\n",
    "metadata = db.MetaData()\n",
    "\n",
    "census = db.Table('census', metadata, autoload=True, autoload_with=engine)\n",
    "state_fact = db.Table('state_fact', metadata, autoload=True, autoload_with=engine)\n",
    "\n",
    "<b>Automatic Join</b>\n",
    "query = db.select([census.columns.pop2008, state_fact.columns.abbreviation])\n",
    "result = connection.execute(query).fetchall()\n",
    "df = pd.DataFrame(results)\n",
    "df.columns = results[0].keys()\n",
    "df.head(5)\n",
    "\n",
    "<b>Manual Join</b>\n",
    "query = db.select([census, state_fact])\n",
    "query = query.select_from(census.join(state_fact, census.columns.state == state_fact.columns.name))\n",
    "results = connection.execute(query).fetchall()\n",
    "df = pd.DataFrame(results)\n",
    "df.columns = results[0].keys()\n",
    "df.head(5)\n",
    "\n",
    "\n",
    "## Creating and Inserting data into Tables\n"
   ]
  },
  {
   "cell_type": "code",
   "execution_count": 21,
   "metadata": {},
   "outputs": [],
   "source": [
    "import sqlalchemy as db\n",
    "import pandas as pd\n",
    "\n",
    "#creating database and table\n",
    "engine = db.create_engine('sqlite:///test.sqlite') #Create test.sqlite automatically\n",
    "connection = engine.connect()\n",
    "metadata = db.MetaData()\n",
    "\n",
    "emp = db.Table('emp', metadata,\n",
    "              db.Column('Id', db.Integer()),\n",
    "              db.Column('name', db.String(255), nullable=False),\n",
    "              db.Column('salary', db.Float(), default=100.0),\n",
    "              db.Column('active', db.Boolean(), default=True)\n",
    "              )\n",
    "\n",
    "metadata.create_all(engine) #Creates the table"
   ]
  },
  {
   "cell_type": "code",
   "execution_count": 22,
   "metadata": {},
   "outputs": [],
   "source": [
    "#inserting data\n",
    "#Inserting record one by one\n",
    "query = db.insert(emp).values(Id=1, name='naveen', salary=60000.00, active=True) \n",
    "ResultProxy = connection.execute(query)"
   ]
  },
  {
   "cell_type": "code",
   "execution_count": 23,
   "metadata": {},
   "outputs": [],
   "source": [
    "#inserting many records at ones\n",
    "query = db.insert(emp) \n",
    "values_list = [{'Id':'2', 'name':'ram', 'salary':80000, 'active':False},\n",
    "               {'Id':'3', 'name':'ramesh', 'salary':70000, 'active':True}]\n",
    "ResultProxy = connection.execute(query,values_list)"
   ]
  },
  {
   "cell_type": "code",
   "execution_count": 24,
   "metadata": {},
   "outputs": [
    {
     "data": {
      "text/html": [
       "<div>\n",
       "<style scoped>\n",
       "    .dataframe tbody tr th:only-of-type {\n",
       "        vertical-align: middle;\n",
       "    }\n",
       "\n",
       "    .dataframe tbody tr th {\n",
       "        vertical-align: top;\n",
       "    }\n",
       "\n",
       "    .dataframe thead th {\n",
       "        text-align: right;\n",
       "    }\n",
       "</style>\n",
       "<table border=\"1\" class=\"dataframe\">\n",
       "  <thead>\n",
       "    <tr style=\"text-align: right;\">\n",
       "      <th></th>\n",
       "      <th>Id</th>\n",
       "      <th>name</th>\n",
       "      <th>salary</th>\n",
       "      <th>active</th>\n",
       "    </tr>\n",
       "  </thead>\n",
       "  <tbody>\n",
       "    <tr>\n",
       "      <th>0</th>\n",
       "      <td>1</td>\n",
       "      <td>naveen</td>\n",
       "      <td>60000.0</td>\n",
       "      <td>True</td>\n",
       "    </tr>\n",
       "    <tr>\n",
       "      <th>1</th>\n",
       "      <td>2</td>\n",
       "      <td>ram</td>\n",
       "      <td>80000.0</td>\n",
       "      <td>False</td>\n",
       "    </tr>\n",
       "    <tr>\n",
       "      <th>2</th>\n",
       "      <td>3</td>\n",
       "      <td>ramesh</td>\n",
       "      <td>70000.0</td>\n",
       "      <td>True</td>\n",
       "    </tr>\n",
       "  </tbody>\n",
       "</table>\n",
       "</div>"
      ],
      "text/plain": [
       "   Id    name   salary  active\n",
       "0   1  naveen  60000.0    True\n",
       "1   2     ram  80000.0   False\n",
       "2   3  ramesh  70000.0    True"
      ]
     },
     "execution_count": 24,
     "metadata": {},
     "output_type": "execute_result"
    }
   ],
   "source": [
    "results = connection.execute(db.select([emp])).fetchall()\n",
    "df = pd.DataFrame(results)\n",
    "df.columns = results[0].keys()\n",
    "df.head(4)"
   ]
  },
  {
   "cell_type": "markdown",
   "metadata": {},
   "source": [
    "### Updating data in DataBases\n",
    "db.update(table_name).values(attribute = new_value).where(condition)"
   ]
  },
  {
   "cell_type": "code",
   "execution_count": 25,
   "metadata": {},
   "outputs": [
    {
     "data": {
      "text/html": [
       "<div>\n",
       "<style scoped>\n",
       "    .dataframe tbody tr th:only-of-type {\n",
       "        vertical-align: middle;\n",
       "    }\n",
       "\n",
       "    .dataframe tbody tr th {\n",
       "        vertical-align: top;\n",
       "    }\n",
       "\n",
       "    .dataframe thead th {\n",
       "        text-align: right;\n",
       "    }\n",
       "</style>\n",
       "<table border=\"1\" class=\"dataframe\">\n",
       "  <thead>\n",
       "    <tr style=\"text-align: right;\">\n",
       "      <th></th>\n",
       "      <th>Id</th>\n",
       "      <th>name</th>\n",
       "      <th>salary</th>\n",
       "      <th>active</th>\n",
       "    </tr>\n",
       "  </thead>\n",
       "  <tbody>\n",
       "    <tr>\n",
       "      <th>0</th>\n",
       "      <td>1</td>\n",
       "      <td>naveen</td>\n",
       "      <td>60000.0</td>\n",
       "      <td>True</td>\n",
       "    </tr>\n",
       "    <tr>\n",
       "      <th>1</th>\n",
       "      <td>2</td>\n",
       "      <td>ram</td>\n",
       "      <td>80000.0</td>\n",
       "      <td>False</td>\n",
       "    </tr>\n",
       "    <tr>\n",
       "      <th>2</th>\n",
       "      <td>3</td>\n",
       "      <td>ramesh</td>\n",
       "      <td>70000.0</td>\n",
       "      <td>True</td>\n",
       "    </tr>\n",
       "  </tbody>\n",
       "</table>\n",
       "</div>"
      ],
      "text/plain": [
       "   Id    name   salary  active\n",
       "0   1  naveen  60000.0    True\n",
       "1   2     ram  80000.0   False\n",
       "2   3  ramesh  70000.0    True"
      ]
     },
     "execution_count": 25,
     "metadata": {},
     "output_type": "execute_result"
    }
   ],
   "source": [
    "engine = db.create_engine('sqlite:///test.sqlite')\n",
    "metadata = db.MetaData()\n",
    "connection = engine.connect()\n",
    "emp = db.Table('emp', metadata, autoload=True, autoload_with=engine)\n",
    "\n",
    "results = connection.execute(db.select([emp])).fetchall()\n",
    "df = pd.DataFrame(results)\n",
    "df.columns = results[0].keys()\n",
    "df.head(4)"
   ]
  },
  {
   "cell_type": "code",
   "execution_count": 26,
   "metadata": {},
   "outputs": [
    {
     "data": {
      "text/html": [
       "<div>\n",
       "<style scoped>\n",
       "    .dataframe tbody tr th:only-of-type {\n",
       "        vertical-align: middle;\n",
       "    }\n",
       "\n",
       "    .dataframe tbody tr th {\n",
       "        vertical-align: top;\n",
       "    }\n",
       "\n",
       "    .dataframe thead th {\n",
       "        text-align: right;\n",
       "    }\n",
       "</style>\n",
       "<table border=\"1\" class=\"dataframe\">\n",
       "  <thead>\n",
       "    <tr style=\"text-align: right;\">\n",
       "      <th></th>\n",
       "      <th>Id</th>\n",
       "      <th>name</th>\n",
       "      <th>salary</th>\n",
       "      <th>active</th>\n",
       "    </tr>\n",
       "  </thead>\n",
       "  <tbody>\n",
       "    <tr>\n",
       "      <th>0</th>\n",
       "      <td>1</td>\n",
       "      <td>naveen</td>\n",
       "      <td>100000.0</td>\n",
       "      <td>True</td>\n",
       "    </tr>\n",
       "    <tr>\n",
       "      <th>1</th>\n",
       "      <td>2</td>\n",
       "      <td>ram</td>\n",
       "      <td>80000.0</td>\n",
       "      <td>False</td>\n",
       "    </tr>\n",
       "    <tr>\n",
       "      <th>2</th>\n",
       "      <td>3</td>\n",
       "      <td>ramesh</td>\n",
       "      <td>70000.0</td>\n",
       "      <td>True</td>\n",
       "    </tr>\n",
       "  </tbody>\n",
       "</table>\n",
       "</div>"
      ],
      "text/plain": [
       "   Id    name    salary  active\n",
       "0   1  naveen  100000.0    True\n",
       "1   2     ram   80000.0   False\n",
       "2   3  ramesh   70000.0    True"
      ]
     },
     "execution_count": 26,
     "metadata": {},
     "output_type": "execute_result"
    }
   ],
   "source": [
    "# Build a statement to update the salary to 100000\n",
    "query = db.update(emp).values(salary = 100000)\n",
    "query = query.where(emp.columns.Id == 1)\n",
    "results = connection.execute(query)\n",
    "\n",
    "results = connection.execute(db.select([emp])).fetchall()\n",
    "df = pd.DataFrame(results)\n",
    "df.columns = results[0].keys()\n",
    "df.head(4)"
   ]
  },
  {
   "cell_type": "markdown",
   "metadata": {},
   "source": [
    "### delete table\n",
    "db.delete(table_name).where(condition)"
   ]
  },
  {
   "cell_type": "code",
   "execution_count": 27,
   "metadata": {},
   "outputs": [
    {
     "data": {
      "text/html": [
       "<div>\n",
       "<style scoped>\n",
       "    .dataframe tbody tr th:only-of-type {\n",
       "        vertical-align: middle;\n",
       "    }\n",
       "\n",
       "    .dataframe tbody tr th {\n",
       "        vertical-align: top;\n",
       "    }\n",
       "\n",
       "    .dataframe thead th {\n",
       "        text-align: right;\n",
       "    }\n",
       "</style>\n",
       "<table border=\"1\" class=\"dataframe\">\n",
       "  <thead>\n",
       "    <tr style=\"text-align: right;\">\n",
       "      <th></th>\n",
       "      <th>Id</th>\n",
       "      <th>name</th>\n",
       "      <th>salary</th>\n",
       "      <th>active</th>\n",
       "    </tr>\n",
       "  </thead>\n",
       "  <tbody>\n",
       "    <tr>\n",
       "      <th>0</th>\n",
       "      <td>1</td>\n",
       "      <td>naveen</td>\n",
       "      <td>100000.0</td>\n",
       "      <td>True</td>\n",
       "    </tr>\n",
       "    <tr>\n",
       "      <th>1</th>\n",
       "      <td>2</td>\n",
       "      <td>ram</td>\n",
       "      <td>80000.0</td>\n",
       "      <td>False</td>\n",
       "    </tr>\n",
       "    <tr>\n",
       "      <th>2</th>\n",
       "      <td>3</td>\n",
       "      <td>ramesh</td>\n",
       "      <td>70000.0</td>\n",
       "      <td>True</td>\n",
       "    </tr>\n",
       "  </tbody>\n",
       "</table>\n",
       "</div>"
      ],
      "text/plain": [
       "   Id    name    salary  active\n",
       "0   1  naveen  100000.0    True\n",
       "1   2     ram   80000.0   False\n",
       "2   3  ramesh   70000.0    True"
      ]
     },
     "execution_count": 27,
     "metadata": {},
     "output_type": "execute_result"
    }
   ],
   "source": [
    "engine = db.create_engine('sqlite:///test.sqlite')\n",
    "metadata = db.MetaData()\n",
    "connection = engine.connect()\n",
    "emp = db.Table('emp', metadata, autoload=True, autoload_with=engine)\n",
    "\n",
    "results = connection.execute(db.select([emp])).fetchall()\n",
    "df = pd.DataFrame(results)\n",
    "df.columns = results[0].keys()\n",
    "df.head(4)"
   ]
  },
  {
   "cell_type": "code",
   "execution_count": 28,
   "metadata": {},
   "outputs": [
    {
     "data": {
      "text/html": [
       "<div>\n",
       "<style scoped>\n",
       "    .dataframe tbody tr th:only-of-type {\n",
       "        vertical-align: middle;\n",
       "    }\n",
       "\n",
       "    .dataframe tbody tr th {\n",
       "        vertical-align: top;\n",
       "    }\n",
       "\n",
       "    .dataframe thead th {\n",
       "        text-align: right;\n",
       "    }\n",
       "</style>\n",
       "<table border=\"1\" class=\"dataframe\">\n",
       "  <thead>\n",
       "    <tr style=\"text-align: right;\">\n",
       "      <th></th>\n",
       "      <th>Id</th>\n",
       "      <th>name</th>\n",
       "      <th>salary</th>\n",
       "      <th>active</th>\n",
       "    </tr>\n",
       "  </thead>\n",
       "  <tbody>\n",
       "    <tr>\n",
       "      <th>0</th>\n",
       "      <td>1</td>\n",
       "      <td>naveen</td>\n",
       "      <td>100000.0</td>\n",
       "      <td>True</td>\n",
       "    </tr>\n",
       "  </tbody>\n",
       "</table>\n",
       "</div>"
      ],
      "text/plain": [
       "   Id    name    salary  active\n",
       "0   1  naveen  100000.0    True"
      ]
     },
     "execution_count": 28,
     "metadata": {},
     "output_type": "execute_result"
    }
   ],
   "source": [
    "# Build a statement to delete where salary < 100000\n",
    "query = db.delete(emp)\n",
    "query = query.where(emp.columns.salary < 100000)\n",
    "results = connection.execute(query)\n",
    "\n",
    "results = connection.execute(db.select([emp])).fetchall()\n",
    "df = pd.DataFrame(results)\n",
    "df.columns = results[0].keys()\n",
    "df.head(4)\n"
   ]
  },
  {
   "cell_type": "code",
   "execution_count": null,
   "metadata": {},
   "outputs": [],
   "source": [
    "#Convert to DATA FRAME\n",
    "query = db.select([census.columns.state.distinct()])\n",
    "result = connection.execute(query).fetchall()\n",
    "result[:3]\n",
    "\n",
    "df = pd.DataFrame(result)\n",
    "df.columns = result[0].keys()\n",
    "df.head(2)"
   ]
  },
  {
   "cell_type": "code",
   "execution_count": null,
   "metadata": {},
   "outputs": [],
   "source": [
    "### FROM DATACAMP"
   ]
  },
  {
   "cell_type": "code",
   "execution_count": null,
   "metadata": {},
   "outputs": [],
   "source": [
    "from sqlalchemy import create_engine\n",
    "engine = create_engine('sqlite://census_nyc.sqlite')\n",
    "connection = engine.connect()"
   ]
  },
  {
   "cell_type": "code",
   "execution_count": null,
   "metadata": {},
   "outputs": [],
   "source": [
    "#what is in your database\n",
    "print(engine.table_names())"
   ]
  },
  {
   "cell_type": "code",
   "execution_count": null,
   "metadata": {},
   "outputs": [],
   "source": [
    "#reflection reads database and builds SQLAlchemy Table object\n",
    "from sqlalchemy import MetaData, Table\n",
    "metadata = MetaData()\n",
    "census = Table('census')\n",
    "print(repr(census))"
   ]
  },
  {
   "cell_type": "code",
   "execution_count": null,
   "metadata": {},
   "outputs": [],
   "source": [
    "#Basic SQL querying\n",
    "SELECT column_name FROM table_name\n",
    "SELECT pop2008 FROM people\n",
    "SELECT * FROM People"
   ]
  },
  {
   "cell_type": "code",
   "execution_count": null,
   "metadata": {},
   "outputs": [],
   "source": [
    "from sqlalchemy import create_engine\n",
    "engine = create_engine('sqlite://census_nyc.sqlite')\n",
    "connection = engine.connect()\n",
    "stmt = 'SELECT * FROM people'\n",
    "result_proxy = connection.execute(stmt)\n",
    "result=result_proxy.fetchall()"
   ]
  },
  {
   "cell_type": "code",
   "execution_count": null,
   "metadata": {},
   "outputs": [],
   "source": [
    "#handling resultSets\n",
    "first_row = results[0]\n",
    "print(first_row)\n",
    "\n",
    "print(first_row.keys())\n",
    "\n",
    "print(first_row.state)"
   ]
  },
  {
   "cell_type": "code",
   "execution_count": null,
   "metadata": {},
   "outputs": [],
   "source": [
    "\n",
    "metadata = MetaData()\n",
    "census = Table('census', metadata, autoload = True, autoload_with = engine)\n",
    "census = Table('census', metadata, autoload = True, autoload_with = engine)\n",
    "stmt = select([census])\n",
    "results = connection.execute(stmt).fetchall()\n",
    "\n",
    "print(stmt)"
   ]
  },
  {
   "cell_type": "markdown",
   "metadata": {},
   "source": [
    "### Filtering and Targeting Data\n",
    "\n",
    "\n",
    "Where Clauses\n"
   ]
  },
  {
   "cell_type": "code",
   "execution_count": null,
   "metadata": {},
   "outputs": [],
   "source": [
    "stmt = select([census])\n",
    "stmt = stmt.where(census.columns.state == 'California')\n",
    "\n",
    "results = connection.execute(stmt).fetchall()\n",
    "\n",
    "for result in results:\n",
    "    print(result.state, result.age)"
   ]
  },
  {
   "cell_type": "code",
   "execution_count": null,
   "metadata": {},
   "outputs": [],
   "source": [
    "stmt = select([census])\n",
    "stmt = stmt.where(census.columns.state.startswith('New'))\n",
    "\n",
    "for result in connection.execute(stmt):\n",
    "    print(result.state, result,pop2000)"
   ]
  },
  {
   "cell_type": "code",
   "execution_count": null,
   "metadata": {},
   "outputs": [],
   "source": [
    "from sqlalchemy import or_\n",
    "stmt = select([census])\n",
    "stmt = stmt.where(\n",
    "    or_(census.columns.state == 'California',\n",
    "       census.columns.state == 'New York'))\n",
    "\n",
    "for result in connection.execute(stmt):\n",
    "    print(result.state, result.sex)"
   ]
  },
  {
   "cell_type": "markdown",
   "metadata": {},
   "source": [
    "### Ordering Query Results\n",
    "\n",
    "Order by clauses allows us to control the order in which records are returned in the query results\n",
    "Available as a method on statements order_by()\n",
    "\n",
    "#### Order by Ascending"
   ]
  },
  {
   "cell_type": "code",
   "execution_count": null,
   "metadata": {},
   "outputs": [],
   "source": [
    "print(results[:10])\n",
    "\n",
    "stmt = select([census.columns.state])\n",
    "stmt = stmt.order_by(census.columns.state)\n",
    "\n",
    "results = connection.execute(stmt).fetchall()\n",
    "\n",
    "print(results[:10])"
   ]
  },
  {
   "cell_type": "markdown",
   "metadata": {},
   "source": [
    "#### Order by Descending\n",
    "wrap the column with desc() in order_by() clause\n",
    "\n",
    "#### Order by Multiple\n",
    "just separate multiple columns with a comma\n",
    "orders completely by the first column\n",
    "then if there are duplicates in the first column, orders by the second column\n",
    "repeat until all columns are ordered"
   ]
  },
  {
   "cell_type": "code",
   "execution_count": null,
   "metadata": {},
   "outputs": [],
   "source": [
    "#order by multiple\n",
    "\n",
    "stmt = select([census.columns.state, census.columns.sex])\n",
    "\n",
    "stmt = stmt.order_by(census.columns.state, census.columns.sex)\n",
    "\n",
    "results = connection.execute(stmt).first()\n",
    "print(results)"
   ]
  },
  {
   "cell_type": "markdown",
   "metadata": {},
   "source": [
    "#### Counting Summing and Grouping data\n",
    "SQL FUnctions\n",
    "COunt,Sum, from sqlalchemy import func\n",
    "more efficient than processing in Python\n",
    "aggregate data"
   ]
  },
  {
   "cell_type": "code",
   "execution_count": null,
   "metadata": {},
   "outputs": [],
   "source": [
    "#sum example\n",
    "from sqlalchemy import func\n",
    "stmt = select([func.sum(census.columns.pop2008)])\n",
    "results = connection.execute(stmt).scalar()\n",
    "print(results)"
   ]
  },
  {
   "cell_type": "code",
   "execution_count": null,
   "metadata": {},
   "outputs": [],
   "source": [
    "#groupby example  single\n",
    "stmt = select([census.columns.sex, func.sum(census.columns.pop2008)])\n",
    "stmt = stmt.group_by(census.columns.sex)\n",
    "results = connection.execute(stmt).fetchall()\n",
    "\n",
    "print(results)"
   ]
  },
  {
   "cell_type": "code",
   "execution_count": null,
   "metadata": {},
   "outputs": [],
   "source": [
    "#groupby example  single\n",
    "stmt = select([census.columns.sex,\n",
    "               census.columns.age,\n",
    "               func.sum(census.columns.pop2008)])\n",
    "stmt = stmt.group_by(census.columns.sex,\n",
    "                    census.columns.age)\n",
    "results = connection.execute(stmt).fetchall()\n",
    "\n",
    "print(results)"
   ]
  },
  {
   "cell_type": "markdown",
   "metadata": {},
   "source": [
    "#### label()\n",
    "SQLAlchemu auto generates 'column names' for functions in the ResultSet\n",
    "The column names are often func_# such as count_1\n",
    "replace them with the label() method"
   ]
  },
  {
   "cell_type": "code",
   "execution_count": null,
   "metadata": {},
   "outputs": [],
   "source": [
    "#using label()\n",
    "print(results[0].keys())\n",
    "\n",
    "#result will look like\n",
    "['sex', u'sum_1']\n",
    "\n",
    "\n",
    "stmt = select([census.columns.sex,\n",
    "              func.sum(census.columns.pop2008).label(\n",
    "              'pop2008_sum')])\n",
    "\n",
    "stmt=stmt.group_by(census.columns.sex)\n",
    "results = connection.execute(stmt).fetchall()\n",
    "\n",
    "print(results[0]).keys())\n",
    "#result will look like\n",
    "['sex', ' pop2008_sum']\n"
   ]
  },
  {
   "cell_type": "markdown",
   "metadata": {},
   "source": [
    "## SQLAlchemy and Pandas for Visualization"
   ]
  },
  {
   "cell_type": "code",
   "execution_count": null,
   "metadata": {},
   "outputs": [],
   "source": [
    "#graphing example\n",
    "import matplotlib.pyplot as plt\n",
    "df[10:20].plot.barh()  #bar graphs\n",
    "plt.show()"
   ]
  },
  {
   "cell_type": "markdown",
   "metadata": {},
   "source": [
    "##   ADVANCED SQLALCHEMY queries\n",
    "Calculating values in a quary\n",
    "math operators: addition, subtraction, multiplication, division, modulus %"
   ]
  },
  {
   "cell_type": "code",
   "execution_count": null,
   "metadata": {},
   "outputs": [],
   "source": [
    "#calculating difference\n",
    "\n",
    "stmt= select([census.columns.age,\n",
    "             (census.columns.pop2008-\n",
    "             census.columns.pop2000).label('pop_change')])\n",
    "\n",
    "stmt = stmt.groupby(census.columns.age)\n",
    "stmt = stmt.order_by(desc('pop_change'))\n",
    "stmt = stmt.limit(5)\n",
    "results = conection.execute(stmt).fetchall\n",
    "\n",
    "print(results)"
   ]
  },
  {
   "cell_type": "code",
   "execution_count": null,
   "metadata": {},
   "outputs": [],
   "source": [
    "#case statement example\n",
    "from sqlalchemy import case\n",
    "stmt = select([func.sum(\n",
    "                  case([\n",
    "                      (census.columns.state == 'New York',\n",
    "                      census.columns.pop2008)\n",
    "                  ], else_=0))])\n",
    "results = connection.execute(stmt).fetchall()\n",
    "print(results)"
   ]
  },
  {
   "cell_type": "markdown",
   "metadata": {},
   "source": [
    "### Cast statement\n",
    "converts data to another type\n",
    "useful for converting\n",
    "integers to floats for division\n",
    "strings to dates and times\n",
    "\n",
    "accepts a column or expression and the target Type\n",
    "\n",
    "\n",
    "#### Percentage example\n",
    "\n",
    "\n",
    "https://github.com/wblakecannon/DataCamp/blob/master/13-introduction-to-databases-in-python/03-advanced-sqlalchemy-queries/ch3_slides.pdf"
   ]
  },
  {
   "cell_type": "code",
   "execution_count": null,
   "metadata": {},
   "outputs": [],
   "source": [
    "#percentage example\n",
    "from sqlalchemy import case,cast,Float\n",
    "\n",
    "stmt = select([\n",
    "    (func.sum(\n",
    "    case([\n",
    "        (census.columns.state == 'New York',\n",
    "        census.columns.pop2008)\n",
    "    ], else_=0)) /\n",
    "     cast(func.sum(census.columns.pop2008),\n",
    "         Float)*100).label('ny_percent')])\n",
    "results = connection.execute(stmt).fetchall()\n",
    "print(results)"
   ]
  },
  {
   "cell_type": "markdown",
   "metadata": {},
   "source": [
    "### SQL Relationships\n",
    "allow us to avoid duplicate data\n",
    "make it easy to change things in one place\n",
    "useful to break out information from table we dont need very often\n",
    "\n",
    "### Automatic joins"
   ]
  },
  {
   "cell_type": "code",
   "execution_count": null,
   "metadata": {},
   "outputs": [],
   "source": [
    "stmt = select([census.columns.pop2008,\n",
    "              state_fact.columns.abbreviation])\n",
    "results = connection.execute(stmt).fetchall()\n",
    "print(results)"
   ]
  },
  {
   "cell_type": "markdown",
   "metadata": {},
   "source": [
    "#### join\n",
    "accepts a Table and an optional expression that explains how the two tables are related\n",
    "The expression is not needed if the relationship is predefined and available via reflection\n",
    "COmes immediately after the select() clause and priorto any where(), order_by or group_by() clauses\n",
    "\n",
    "\n",
    "#### select_from\n",
    "used to replace the default, derived FROM clause with a join, wraps the join() clause"
   ]
  },
  {
   "cell_type": "code",
   "execution_count": null,
   "metadata": {},
   "outputs": [],
   "source": [
    "# select_from example\n",
    "stmt = select([func.sum(census.columns.pop2000)])\n",
    "\n",
    "stmt = stmt.select_from(census.join(state_fact))\n",
    "stmt = stmt.where(state_fact.columns.circuit_court == '10')\n",
    "result = connection.execute(stmt).scalar()\n",
    "print(result)"
   ]
  },
  {
   "cell_type": "markdown",
   "metadata": {},
   "source": [
    "#### joining tables without predefined relationship\n",
    "\n",
    "Join accepts a Table and an optional expression that explains how the two tables are related\n",
    "Will only join on data that match between the two columns\n",
    "Avoid joining on columns of different types"
   ]
  },
  {
   "cell_type": "code",
   "execution_count": null,
   "metadata": {},
   "outputs": [],
   "source": [
    "#select from example\n",
    "stmt = select([func.sum(census.columns.pop2000)])\n",
    "\n",
    "stmt = stmt.select_from(\n",
    "        census.join(state_fact,census.columns.state\n",
    "                   == state_fact.columns.name))\n",
    "\n",
    "stmt = stmt.where(\n",
    "        state_fact.columns.census_division_name ==\n",
    "        'East South Central')\n",
    "\n",
    "result = connection.execute(stmt).scalar()\n",
    "print(result)"
   ]
  },
  {
   "cell_type": "markdown",
   "metadata": {},
   "source": [
    "### Working with Hierarchical Tables\n",
    "#### Hierarchical Tables\n",
    "Contain a relationship with themselves\n",
    "\n",
    "alias() - requires a way to view the table via multiple names\n",
    "creates a unique reference that we can use"
   ]
  },
  {
   "cell_type": "code",
   "execution_count": null,
   "metadata": {},
   "outputs": [],
   "source": [
    "#querying hierarchical data\n",
    "managers = employees.alias()\n",
    "\n",
    "stmt = select(\n",
    "[managers.columns.name.label('manager'),\n",
    "employees.columns.name.label('employee')])\n",
    "\n",
    "stmt = stmt.select_from(employees.join(\n",
    "managers,managers.columns.id == \n",
    "employees.columns.manager))\n",
    "\n",
    "stmt = stmt.order_by(managers.columns.name)\n",
    "\n",
    "print(connection.execute(stmt).fetchall())"
   ]
  },
  {
   "cell_type": "markdown",
   "metadata": {},
   "source": [
    "#### group_by and func\n",
    "its important to target group_by() at the tight alias\n",
    "\n",
    "if you dont find yourself using both the alias and the table name for a query, dont create the alias at all\n",
    "\n",
    "\n",
    "#### querying hierarchical data\n"
   ]
  },
  {
   "cell_type": "code",
   "execution_count": null,
   "metadata": {},
   "outputs": [],
   "source": [
    "managers = employees.alias()\n",
    "stmt = select([managers.columns.name,\n",
    "              func.sum(employees.columns.sal)])\n",
    "\n",
    "stmt = stmt.select_from(employees.join(managers,managers.columns.id ==\n",
    "                                      employees.columns.manager))\n",
    "\n",
    "stmt = stmt.group_by(managers.columns.name)\n",
    "\n",
    "print(connection.execute(stmt).fetchall())"
   ]
  },
  {
   "cell_type": "markdown",
   "metadata": {},
   "source": [
    "### Handling large result sets\n",
    "fetchmany() lets us specify how many rows we want to act upon\n",
    "we can loop over fetchmany()\n",
    "it returns an empty list when there are no more records\n",
    "we have to close the ResultProxy afterwards"
   ]
  },
  {
   "cell_type": "code",
   "execution_count": null,
   "metadata": {},
   "outputs": [],
   "source": [
    "#fetching many rows\n",
    "while more results:\n",
    "    partial_results = results_proxy.fetchmany(50)\n",
    "    if partial_results == []:\n",
    "        more_results = False\n",
    "        \n",
    "    for row in partial_results:\n",
    "        state_count[row.state] += 1\n",
    "results_proxy.close()"
   ]
  },
  {
   "cell_type": "markdown",
   "metadata": {},
   "source": [
    "## Creating and Manipulating your own database\n",
    "\n",
    "### Creating databases\n",
    "varies by the database type\n",
    "databases like PostgreSQL and MySQL have command line tools to initialize the database\n",
    "\n",
    "with SQLite the create_engine() statement will create the database and file if they do not exist already\n",
    "\n",
    "\n",
    "#### Examle of building a table"
   ]
  },
  {
   "cell_type": "code",
   "execution_count": 5,
   "metadata": {},
   "outputs": [
    {
     "name": "stdout",
     "output_type": "stream",
     "text": [
      "2019-06-14 10:37:43,186 INFO sqlalchemy.engine.base.Engine SELECT CAST('test plain returns' AS VARCHAR(60)) AS anon_1\n",
      "2019-06-14 10:37:43,193 INFO sqlalchemy.engine.base.Engine ()\n",
      "2019-06-14 10:37:43,194 INFO sqlalchemy.engine.base.Engine SELECT CAST('test unicode returns' AS VARCHAR(60)) AS anon_1\n",
      "2019-06-14 10:37:43,195 INFO sqlalchemy.engine.base.Engine ()\n",
      "2019-06-14 10:37:43,196 INFO sqlalchemy.engine.base.Engine PRAGMA table_info(\"employees\")\n",
      "2019-06-14 10:37:43,198 INFO sqlalchemy.engine.base.Engine ()\n",
      "2019-06-14 10:37:43,200 INFO sqlalchemy.engine.base.Engine \n",
      "CREATE TABLE employees (\n",
      "\tid INTEGER, \n",
      "\tname VARCHAR(255), \n",
      "\tsalary INTEGER, \n",
      "\tactive BOOLEAN, \n",
      "\tCHECK (active IN (0, 1))\n",
      ")\n",
      "\n",
      "\n",
      "2019-06-14 10:37:43,201 INFO sqlalchemy.engine.base.Engine ()\n",
      "2019-06-14 10:37:43,202 INFO sqlalchemy.engine.base.Engine COMMIT\n",
      "2019-06-14 10:37:43,203 INFO sqlalchemy.engine.base.Engine SELECT name FROM sqlite_master WHERE type='table' ORDER BY name\n",
      "2019-06-14 10:37:43,203 INFO sqlalchemy.engine.base.Engine ()\n"
     ]
    },
    {
     "data": {
      "text/plain": [
       "['employees']"
      ]
     },
     "execution_count": 5,
     "metadata": {},
     "output_type": "execute_result"
    }
   ],
   "source": [
    "from sqlalchemy import (Table,Column,String,Integer,Boolean)\n",
    "from sqlalchemy import MetaData, Table, create_engine, select, func, desc\n",
    "import matplotlib.pyplot as plt\n",
    "import numpy as np\n",
    "import pandas as pd\n",
    "\n",
    "metadata = MetaData()\n",
    "\n",
    "engine = create_engine(\"sqlite:///:memory:\", echo=True)\n",
    "\n",
    "data = Table('data', metadata,\n",
    "                 Column('name', String(255)),\n",
    "                 Column('id', Integer()),\n",
    "                 Column('salary', Integer()), #changed from decimal to integer\n",
    "                 Column('active', Boolean()))\n",
    "# Use the metadata to create the table\n",
    "metadata.create_all(engine)\n",
    "\n",
    "engine.table_names()"
   ]
  },
  {
   "cell_type": "markdown",
   "metadata": {},
   "source": [
    "create_all() - creates the tables in the actual database by using the create_all() method on the MetaData instance\n",
    "\n",
    "#### Additional column options\n",
    "unique forces all values for the data in a column to be unique\n",
    "nullable determines if a column can be empty in a row\n",
    "default sets a default values if one isnt supplied\n",
    "\n",
    "#### Building a table with additional options\n"
   ]
  },
  {
   "cell_type": "code",
   "execution_count": 6,
   "metadata": {},
   "outputs": [
    {
     "data": {
      "text/plain": [
       "{CheckConstraint(<sqlalchemy.sql.elements.BinaryExpression object at 0x000001CAB9A32780>, name='_unnamed_', table=Table('employees2', MetaData(bind=None), Column('id', Integer(), table=<employees2>), Column('name', String(length=255), table=<employees2>, nullable=False), Column('salary', Integer(), table=<employees2>, default=ColumnDefault(100)), Column('active', Boolean(), table=<employees2>, default=ColumnDefault(True)), schema=None), _create_rule=<sqlalchemy.util.langhelpers.portable_instancemethod object at 0x000001CAB9ABADC8>, _type_bound=True),\n",
       " PrimaryKeyConstraint(),\n",
       " UniqueConstraint(Column('name', String(length=255), table=<employees2>, nullable=False))}"
      ]
     },
     "execution_count": 6,
     "metadata": {},
     "output_type": "execute_result"
    }
   ],
   "source": [
    "employees2 = Table('employees2', metadata,\n",
    "                 Column('id', Integer()),\n",
    "                 Column('name', String(255), unique = True, nullable = False),  #additional options\n",
    "                 Column('salary', Integer(), default = 100), #additional option\n",
    "                 Column('active', Boolean(), default = True))  #additional option\n",
    "employees2.constraints"
   ]
  },
  {
   "cell_type": "markdown",
   "metadata": {},
   "source": [
    "### Inserting data into table\n",
    "\n",
    "done with insert() statement\n",
    "Insert() takes the table we are loading data into as the argument\n",
    "we add all the values we want to insert in with the values clause as column = value pairs\n",
    "doesnt return any rows, so no need for a fetch method\n",
    "\n",
    "#### inserting one row example"
   ]
  },
  {
   "cell_type": "code",
   "execution_count": 7,
   "metadata": {},
   "outputs": [
    {
     "name": "stdout",
     "output_type": "stream",
     "text": [
      "2019-06-14 10:52:00,375 INFO sqlalchemy.engine.base.Engine INSERT INTO employees (id, name, salary, active) VALUES (?, ?, ?, ?)\n",
      "2019-06-14 10:52:00,377 INFO sqlalchemy.engine.base.Engine (1, 'Jason', 1, 1)\n",
      "2019-06-14 10:52:00,384 INFO sqlalchemy.engine.base.Engine COMMIT\n",
      "1\n"
     ]
    }
   ],
   "source": [
    "from sqlalchemy import insert\n",
    "\n",
    "connection =engine.connect()\n",
    "stmt = insert(employees).values(id=1, name='Jason', salary=1, active=True)\n",
    "result_proxy = connection.execute(stmt)\n",
    "print(result_proxy.rowcount)"
   ]
  },
  {
   "cell_type": "markdown",
   "metadata": {},
   "source": [
    "#### inserting multiple rows\n",
    "build an insert statement without any values\n",
    "build a list of dictionaries that represent all the values clauses for the rows you want to insert\n",
    "pass both the stmt and the values list to the execute method on connection"
   ]
  },
  {
   "cell_type": "code",
   "execution_count": 8,
   "metadata": {},
   "outputs": [
    {
     "name": "stdout",
     "output_type": "stream",
     "text": [
      "2019-06-14 10:56:17,071 INFO sqlalchemy.engine.base.Engine INSERT INTO employees (id, name, salary, active) VALUES (?, ?, ?, ?)\n",
      "2019-06-14 10:56:17,071 INFO sqlalchemy.engine.base.Engine ((2, 'Rebecca', 2, 1), (3, 'Bob', 0, 0))\n",
      "2019-06-14 10:56:17,073 INFO sqlalchemy.engine.base.Engine COMMIT\n",
      "2\n"
     ]
    }
   ],
   "source": [
    "stmt = insert(employees)\n",
    "\n",
    "values_list = [\n",
    "    {'id':2, 'name': 'Rebecca', 'salary':2, 'active': True},\n",
    "    {'id':3, 'name': 'Bob', 'salary':0, 'active': False}\n",
    "]\n",
    "result_proxy = connection.execute(stmt, values_list)\n",
    "print(result_proxy.rowcount)"
   ]
  },
  {
   "cell_type": "markdown",
   "metadata": {},
   "source": [
    "### Updating data in a table\n",
    "done with update statement\n",
    "similar to the insert statement but includes a where clause to determine what record will be updated\n",
    "we add all the values we want to update with the values clause as column=value pairs\n",
    "\n",
    "#### Updating one row"
   ]
  },
  {
   "cell_type": "code",
   "execution_count": 9,
   "metadata": {},
   "outputs": [
    {
     "name": "stdout",
     "output_type": "stream",
     "text": [
      "2019-06-14 11:00:00,662 INFO sqlalchemy.engine.base.Engine UPDATE employees SET active=? WHERE employees.id = ?\n",
      "2019-06-14 11:00:00,664 INFO sqlalchemy.engine.base.Engine (1, 3)\n",
      "2019-06-14 11:00:00,665 INFO sqlalchemy.engine.base.Engine COMMIT\n",
      "1\n"
     ]
    }
   ],
   "source": [
    "from sqlalchemy import update\n",
    "stmt = update(employees)\n",
    "stmt = stmt.where(employees.columns.id == 3)\n",
    "stmt = stmt.values(active = True)\n",
    "result_proxy = connection.execute(stmt)\n",
    "print(result_proxy.rowcount)"
   ]
  },
  {
   "cell_type": "markdown",
   "metadata": {},
   "source": [
    "#### Updating multiple rows / inserting multiple rows\n",
    "build a where clause that will select all the record you want to update"
   ]
  },
  {
   "cell_type": "code",
   "execution_count": 10,
   "metadata": {},
   "outputs": [
    {
     "name": "stdout",
     "output_type": "stream",
     "text": [
      "2019-06-14 11:03:03,271 INFO sqlalchemy.engine.base.Engine UPDATE employees SET salary=?, active=? WHERE employees.active = 1\n",
      "2019-06-14 11:03:03,272 INFO sqlalchemy.engine.base.Engine (0, 0)\n",
      "2019-06-14 11:03:03,273 INFO sqlalchemy.engine.base.Engine COMMIT\n",
      "3\n"
     ]
    }
   ],
   "source": [
    "stmt = update(employees)\n",
    "stmt = stmt.where(employees.columns.active == True)\n",
    "stmt = stmt.values(active=False, salary=0)\n",
    "result_proxy=connection.execute(stmt)\n",
    "print(result_proxy.rowcount)"
   ]
  },
  {
   "cell_type": "markdown",
   "metadata": {},
   "source": [
    "### Correlated Updates\n",
    "uses a select() statement to find the value for the column we are updating\n",
    "commonly used to update records to a maximum value or change a string to match an abbreviation from another table"
   ]
  },
  {
   "cell_type": "code",
   "execution_count": 11,
   "metadata": {},
   "outputs": [
    {
     "name": "stdout",
     "output_type": "stream",
     "text": [
      "2019-06-14 12:54:30,298 INFO sqlalchemy.engine.base.Engine UPDATE employees SET salary=(SELECT employees.salary \n",
      "FROM employees ORDER BY employees.salary DESC\n",
      " LIMIT ? OFFSET ?)\n",
      "2019-06-14 12:54:30,299 INFO sqlalchemy.engine.base.Engine (1, 0)\n",
      "2019-06-14 12:54:30,300 INFO sqlalchemy.engine.base.Engine COMMIT\n",
      "3\n"
     ]
    }
   ],
   "source": [
    "new_salary = select([employees.columns.salary])\n",
    "new_salary = new_salary.order_by(desc(employees.columns.salary))\n",
    "\n",
    "new_salary = new_salary.limit(1)\n",
    "stmt = update(employees)\n",
    "stmt = stmt.values(salary = new_salary)\n",
    "result_proxy = connection.execute(stmt)\n",
    "print(result_proxy.rowcount)"
   ]
  },
  {
   "cell_type": "code",
   "execution_count": 12,
   "metadata": {},
   "outputs": [
    {
     "name": "stdout",
     "output_type": "stream",
     "text": [
      "<sqlalchemy.engine.result.ResultProxy object at 0x000001CAB9A329E8>\n"
     ]
    }
   ],
   "source": [
    "print(result_proxy)"
   ]
  },
  {
   "cell_type": "markdown",
   "metadata": {},
   "source": [
    "### Deleting Data from a DataBase\n",
    "done with the delete() statement\n",
    "delete() takes the table we are loading data into as the argument\n",
    "A where() clause is used to choose which rows to delete\n",
    "\n",
    "HARD to UNDO!!!!\n",
    "\n",
    "#### Deleting all data from table"
   ]
  },
  {
   "cell_type": "code",
   "execution_count": null,
   "metadata": {},
   "outputs": [],
   "source": [
    "from sqlalchemy import delete\n",
    "stmt = select([\n",
    "    func.count(extra_employees.columns.id)])\n",
    "connection.execute(stmt).scalar()"
   ]
  },
  {
   "cell_type": "code",
   "execution_count": null,
   "metadata": {},
   "outputs": [],
   "source": [
    "delete_stmt = delete(extra_employees)\n",
    "result_proxy = connection.execute(delete_stmt)\n",
    "result_proxy.rowcount"
   ]
  },
  {
   "cell_type": "markdown",
   "metadata": {},
   "source": [
    "#### deleting specific rows\n",
    "build a where clause that will select all the records you want to delete"
   ]
  },
  {
   "cell_type": "code",
   "execution_count": null,
   "metadata": {},
   "outputs": [],
   "source": [
    "stmt = delete(employees).where(employees.columns.id == 3)\n",
    "result_proxy = connection.execute(stmt)\n",
    "result_proxy.rowcount"
   ]
  },
  {
   "cell_type": "markdown",
   "metadata": {},
   "source": [
    "#### dropping  a table completely\n",
    "uses the drop method on table\n",
    "accepts the engine as an argument so it knows where to remove the table from\n",
    "won't remove it from metadata until the python process in restarted\n",
    "\n"
   ]
  },
  {
   "cell_type": "code",
   "execution_count": null,
   "metadata": {},
   "outputs": [],
   "source": [
    "extra_employees.drop(engine)\n",
    "print(extra_employees.exists(engine))\n",
    "False"
   ]
  },
  {
   "cell_type": "markdown",
   "metadata": {},
   "source": [
    "#### dropping all the tables\n",
    "uses the drop_all() method on MetaData"
   ]
  },
  {
   "cell_type": "code",
   "execution_count": null,
   "metadata": {},
   "outputs": [],
   "source": [
    "metadata.drop_all(engine)\n",
    "engine.table_names()"
   ]
  },
  {
   "cell_type": "markdown",
   "metadata": {},
   "source": [
    "## Case study, census database\n",
    "preparing SQLAlchemy and the DataBase\n",
    "Loading Data into the Database\n",
    "Solving data science problems with queries\n",
    "\n",
    "In separate file\n",
    "99_Python_Datacamp_13_intro_to_databases_casestudy_census.ipynb"
   ]
  }
 ],
 "metadata": {
  "kernelspec": {
   "display_name": "Python 3",
   "language": "python",
   "name": "python3"
  },
  "language_info": {
   "codemirror_mode": {
    "name": "ipython",
    "version": 3
   },
   "file_extension": ".py",
   "mimetype": "text/x-python",
   "name": "python",
   "nbconvert_exporter": "python",
   "pygments_lexer": "ipython3",
   "version": "3.7.1"
  }
 },
 "nbformat": 4,
 "nbformat_minor": 2
}
