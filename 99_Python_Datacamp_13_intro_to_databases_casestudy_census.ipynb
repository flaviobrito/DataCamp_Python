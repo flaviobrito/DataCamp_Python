{
 "cells": [
  {
   "cell_type": "markdown",
   "metadata": {},
   "source": [
    "# Case Study Census data\n",
    "\n",
    "Create an Engine and Meta Object\n",
    "preparing SQLAlchemy and the DataBase\n",
    "populating the database (import csv)\n",
    "\n",
    "insert values list into a census table\n",
    "\n",
    "answering data science questions with queries\n",
    "\n",
    "determine average age for males and females\n",
    "determine the percentage of females for each state\n",
    "determine top 10 states by population change from 2000 to 2008\n"
   ]
  },
  {
   "cell_type": "code",
   "execution_count": 7,
   "metadata": {},
   "outputs": [],
   "source": [
    "#create an Engine and MetaData object\n",
    "from sqlalchemy import create_engine, MetaData\n",
    "\n",
    "metadata = MetaData()\n",
    "engine = create_engine('sqlite:///my_census.sqlite')"
   ]
  },
  {
   "cell_type": "code",
   "execution_count": 8,
   "metadata": {},
   "outputs": [
    {
     "data": {
      "text/html": [
       "<div>\n",
       "<style scoped>\n",
       "    .dataframe tbody tr th:only-of-type {\n",
       "        vertical-align: middle;\n",
       "    }\n",
       "\n",
       "    .dataframe tbody tr th {\n",
       "        vertical-align: top;\n",
       "    }\n",
       "\n",
       "    .dataframe thead th {\n",
       "        text-align: right;\n",
       "    }\n",
       "</style>\n",
       "<table border=\"1\" class=\"dataframe\">\n",
       "  <thead>\n",
       "    <tr style=\"text-align: right;\">\n",
       "      <th></th>\n",
       "      <th>state</th>\n",
       "      <th>sex</th>\n",
       "      <th>age</th>\n",
       "      <th>pop2000</th>\n",
       "      <th>pop2008</th>\n",
       "    </tr>\n",
       "  </thead>\n",
       "  <tbody>\n",
       "    <tr>\n",
       "      <th>0</th>\n",
       "      <td>Illinois</td>\n",
       "      <td>M</td>\n",
       "      <td>0</td>\n",
       "      <td>89600</td>\n",
       "      <td>95012</td>\n",
       "    </tr>\n",
       "    <tr>\n",
       "      <th>1</th>\n",
       "      <td>Illinois</td>\n",
       "      <td>M</td>\n",
       "      <td>1</td>\n",
       "      <td>88445</td>\n",
       "      <td>91829</td>\n",
       "    </tr>\n",
       "    <tr>\n",
       "      <th>2</th>\n",
       "      <td>Illinois</td>\n",
       "      <td>M</td>\n",
       "      <td>2</td>\n",
       "      <td>88729</td>\n",
       "      <td>89547</td>\n",
       "    </tr>\n",
       "  </tbody>\n",
       "</table>\n",
       "</div>"
      ],
      "text/plain": [
       "      state sex  age  pop2000  pop2008\n",
       "0  Illinois   M    0    89600    95012\n",
       "1  Illinois   M    1    88445    91829\n",
       "2  Illinois   M    2    88729    89547"
      ]
     },
     "execution_count": 8,
     "metadata": {},
     "output_type": "execute_result"
    }
   ],
   "source": [
    "#quick check of the file we are going to load\n",
    "#read csv file\n",
    "import numpy as np\n",
    "import pandas as pd\n",
    "\n",
    "census_check = pd.read_csv('census.csv')\n",
    "census_check.head(3)"
   ]
  },
  {
   "cell_type": "code",
   "execution_count": 9,
   "metadata": {},
   "outputs": [],
   "source": [
    "#preparing SQLAlchemy and the DataBase\n",
    "from sqlalchemy import (Table, Column, String, Integer)\n",
    "\n",
    "census = Table('census', metadata,  #create a table called census\n",
    "               Column('state', String(30)),  #with these columns\n",
    "               Column('sex', String(1)),\n",
    "               Column('age', Integer()),\n",
    "               Column('pop2000', Integer()),\n",
    "               Column('pop2008', Integer()))\n",
    "metadata.create_all(engine)\n"
   ]
  },
  {
   "cell_type": "code",
   "execution_count": 10,
   "metadata": {},
   "outputs": [
    {
     "data": {
      "text/plain": [
       "['census']"
      ]
     },
     "execution_count": 10,
     "metadata": {},
     "output_type": "execute_result"
    }
   ],
   "source": [
    "#quick check\n",
    "\n",
    "#check created table\n",
    "engine.table_names()"
   ]
  },
  {
   "cell_type": "code",
   "execution_count": 11,
   "metadata": {},
   "outputs": [],
   "source": [
    "#populating the database\n",
    "#load a csv fle into a values list\n",
    "import csv\n",
    "values_list = []\n",
    "with open('census.csv', 'rt') as f:\n",
    "    csv_reader = csv.reader(f)\n",
    "    # Enumerate the rows of csv_reader\n",
    "    #Within the for loop:\n",
    "    #Complete the data dictionary by filling in the values for each of the keys. \n",
    "    #The values are contained in row. row[0] represents the value for 'state', \n",
    "    #row[1] represents the value for 'sex', and so on.\n",
    "    #Append data to values_list.\n",
    "    for idx, row in enumerate(csv_reader):\n",
    "        #create data and append to values_list\n",
    "        data = {'state': row[0], 'sex': row[1], 'age': row[2], 'pop2000': row[3],'pop2008': row[4]}\n",
    "        values_list.append(data)\n",
    "        \n"
   ]
  },
  {
   "cell_type": "code",
   "execution_count": 13,
   "metadata": {},
   "outputs": [
    {
     "name": "stdout",
     "output_type": "stream",
     "text": [
      "8773\n"
     ]
    }
   ],
   "source": [
    "#insert values list into a census table\n",
    "from sqlalchemy import insert\n",
    "# Create a insert statement for census: stmt\n",
    "stmt = insert(census)\n",
    "\n",
    "connection =engine.connect()\n",
    "result_proxy = connection.execute(stmt, values_list)\n",
    "\n",
    "print(result_proxy.rowcount)"
   ]
  },
  {
   "cell_type": "code",
   "execution_count": 15,
   "metadata": {},
   "outputs": [
    {
     "name": "stdout",
     "output_type": "stream",
     "text": [
      "F 38\n",
      "M 35\n",
      "sex None\n"
     ]
    }
   ],
   "source": [
    "#quering the database\n",
    "#answering data science questions with queries\n",
    "#determine average age for males and females\n",
    "from sqlalchemy import select,func\n",
    "stmt = select([census.columns.sex,\n",
    "              (func.sum(census.columns.pop2008 *\n",
    "                       census.columns.age) /\n",
    "              func.sum(census.columns.pop2008)\n",
    "              ).label('average_age')])\n",
    "\n",
    "stmt = stmt.group_by(census.columns.sex)\n",
    "\n",
    "results = connection.execute(stmt).fetchall()\n",
    "\n",
    "# Print the average age by sex\n",
    "for result in results:\n",
    "    print(result.sex, result.average_age)"
   ]
  },
  {
   "cell_type": "code",
   "execution_count": 17,
   "metadata": {},
   "outputs": [
    {
     "name": "stdout",
     "output_type": "stream",
     "text": [
      "Table('census', MetaData(bind=None), Column('state', String(length=30), table=<census>), Column('sex', String(length=1), table=<census>), Column('age', Integer(), table=<census>), Column('pop2000', Integer(), table=<census>), Column('pop2008', Integer(), table=<census>), schema=None)\n"
     ]
    }
   ],
   "source": [
    "print(repr(census))"
   ]
  },
  {
   "cell_type": "code",
   "execution_count": 19,
   "metadata": {},
   "outputs": [
    {
     "name": "stdout",
     "output_type": "stream",
     "text": [
      "[('Alabama', 51.832407770179465), ('Alaska', 49.301497893484594), ('Arizona', 50.22361303057914), ('Arkansas', 51.26992846221834), ('California', 50.35233214901979), ('Colorado', 49.84767060299562), ('Connecticut', 51.66816507130644), ('Delaware', 51.61109733558627), ('District of Columbia', 53.129626141738385), ('Florida', 51.36488001165242), ('Georgia', 51.11408350339436), ('Hawaii', 51.118011836915514), ('Idaho', 49.98972623903102), ('Illinois', 51.11224234802867), ('Indiana', 50.95480313297678), ('Iowa', 50.950398342534264), ('Kansas', 50.821864107754735), ('Kentucky', 51.32687036927168), ('Louisiana', 51.75351596554121), ('Maine', 51.50570813418951), ('Maryland', 51.93575549972231), ('Massachusetts', 51.843023571316785), ('Michigan', 50.97246518318712), ('Minnesota', 50.49332944301148), ('Mississippi', 51.92229481794672), ('Missouri', 51.46888602639692), ('Montana', 50.32202690728538), ('Nebraska', 50.8584549336086), ('Nevada', 49.36736361384359), ('New Hampshire', 50.858019844961746), ('New Jersey', 51.51713956125773), ('New Mexico', 51.0471720798335), ('New York', 51.83453865150073), ('North Carolina', 51.482262322084594), ('North Dakota', 50.50069363231332), ('Ohio', 51.46550350015544), ('Oklahoma', 51.11362457075227), ('Oregon', 50.4294670361772), ('Pennsylvania', 51.74043473051053), ('Rhode Island', 52.07343391902215), ('South Carolina', 51.73072129765755), ('South Dakota', 50.52583581373275), ('Tennessee', 51.430689699449275), ('Texas', 50.515721664207966), ('Utah', 49.97295275106927), ('Vermont', 51.018573209949466), ('Virginia', 51.657252447241795), ('Washington', 50.518565087218334), ('West Virginia', 51.40042318092286), ('Wisconsin', 50.61486452653393), ('Wyoming', 49.94595542648306), ('ï»¿state', None)]\n"
     ]
    }
   ],
   "source": [
    "#determine the percentage of females for each state\n",
    "'''\n",
    "Build a Query to Determine the Percentage of Population by Gender and State\n",
    "In this exercise, you will write a query to determine the percentage of the population\n",
    "in 2000 that comprised of women. You will group this query by state.\n",
    "INSTRUCTIONS\n",
    "\n",
    "Import case, cast and Float from sqlalchemy.\n",
    "Define a statement to select state and the percentage of females in 2000.\n",
    "Inside func.sum(), use case() to select females (using the sex column) from pop2000. \n",
    "Remember to specify else_=0 if the sex is not 'F'.\n",
    "To get the percentage, divide the number of females in the year 2000 by the overall \n",
    "population in 2000. Cast the divisor - census.columns.pop2000 - to Float before\n",
    "multiplying by 100.\n",
    "Group the query by state.\n",
    "Execute the query and store it as results.\n",
    "Print state and percent_female for each record. This has been done for you, so hit 'Submit Answer' to see the result.\n",
    "'''\n",
    "from sqlalchemy import case,cast,Float\n",
    "# Build a query to calculate the percentage of females in 2000: stmt\n",
    "stmt = select([census.columns.state,\n",
    "    (func.sum(\n",
    "    case([\n",
    "        (census.columns.sex == 'F',census.columns.pop2000)\n",
    "    ], else_ =0)) /\n",
    "    cast(func.sum(census.columns.pop2000), Float) * 100).label('percent_female')])\n",
    "\n",
    "#group query by state\n",
    "stmt = stmt.group_by(census.columns.state)\n",
    "#execute the query\n",
    "results = connection.execute(stmt).fetchall()\n",
    "\n",
    "print(results)\n",
    "# Print the average age by sex\n",
    "#for result in results:\n",
    "#    print(result.state, result.percent_female)"
   ]
  },
  {
   "cell_type": "code",
   "execution_count": 20,
   "metadata": {},
   "outputs": [
    {
     "name": "stdout",
     "output_type": "stream",
     "text": [
      "Alabama 51.832407770179465\n",
      "Alaska 49.301497893484594\n",
      "Arizona 50.22361303057914\n",
      "Arkansas 51.26992846221834\n",
      "California 50.35233214901979\n",
      "Colorado 49.84767060299562\n",
      "Connecticut 51.66816507130644\n",
      "Delaware 51.61109733558627\n",
      "District of Columbia 53.129626141738385\n",
      "Florida 51.36488001165242\n",
      "Georgia 51.11408350339436\n",
      "Hawaii 51.118011836915514\n",
      "Idaho 49.98972623903102\n",
      "Illinois 51.11224234802867\n",
      "Indiana 50.95480313297678\n",
      "Iowa 50.950398342534264\n",
      "Kansas 50.821864107754735\n",
      "Kentucky 51.32687036927168\n",
      "Louisiana 51.75351596554121\n",
      "Maine 51.50570813418951\n",
      "Maryland 51.93575549972231\n",
      "Massachusetts 51.843023571316785\n",
      "Michigan 50.97246518318712\n",
      "Minnesota 50.49332944301148\n",
      "Mississippi 51.92229481794672\n",
      "Missouri 51.46888602639692\n",
      "Montana 50.32202690728538\n",
      "Nebraska 50.8584549336086\n",
      "Nevada 49.36736361384359\n",
      "New Hampshire 50.858019844961746\n",
      "New Jersey 51.51713956125773\n",
      "New Mexico 51.0471720798335\n",
      "New York 51.83453865150073\n",
      "North Carolina 51.482262322084594\n",
      "North Dakota 50.50069363231332\n",
      "Ohio 51.46550350015544\n",
      "Oklahoma 51.11362457075227\n",
      "Oregon 50.4294670361772\n",
      "Pennsylvania 51.74043473051053\n",
      "Rhode Island 52.07343391902215\n",
      "South Carolina 51.73072129765755\n",
      "South Dakota 50.52583581373275\n",
      "Tennessee 51.430689699449275\n",
      "Texas 50.515721664207966\n",
      "Utah 49.97295275106927\n",
      "Vermont 51.018573209949466\n",
      "Virginia 51.657252447241795\n",
      "Washington 50.518565087218334\n",
      "West Virginia 51.40042318092286\n",
      "Wisconsin 50.61486452653393\n",
      "Wyoming 49.94595542648306\n",
      "ï»¿state None\n"
     ]
    }
   ],
   "source": [
    "# Print the percentage, tidy results\n",
    "for result in results:\n",
    "    print(result.state, result.percent_female)"
   ]
  },
  {
   "cell_type": "code",
   "execution_count": 22,
   "metadata": {},
   "outputs": [
    {
     "name": "stdout",
     "output_type": "stream",
     "text": [
      "Texas:40137\n",
      "California:35406\n",
      "Florida:21954\n",
      "Arizona:14377\n",
      "Georgia:13357\n",
      "North Carolina:11574\n",
      "Virginia:6639\n",
      "Colorado:6425\n",
      "Utah:5934\n",
      "Illinois:5412\n"
     ]
    }
   ],
   "source": [
    "#determine top 5 states by population change from 2000 to 2008\n",
    "'''\n",
    "Build a Query to Determine the Difference by State from the 2000 and 2008 Censuses\n",
    "In this final exercise, you will write a query to calculate the states that changed the most\n",
    "in population. You will limit your query to display only the top 10 states.\n",
    "\n",
    "Build a statement to:\n",
    "Select state.\n",
    "Calculate the difference in population between 2008 (pop2008) and 2000 (pop2000).\n",
    "Group the query by census.columns.state using the .group_by() method on stmt.\n",
    "Order by 'pop_change' in descending order using the .order_by() method with the desc()\n",
    "function on 'pop_change'.\n",
    "Limit the query to the top 10 states using the .limit() method.\n",
    "Execute the query and store it as results.\n",
    "Print the state and the population change for each result. This has been done for you,\n",
    "so hit 'Submit Answer' to see the result!\n",
    "'''\n",
    "\n",
    "from sqlalchemy import desc #to sort out data in descending order\n",
    "\n",
    "stmt = select([census.columns.state,\n",
    "              (census.columns.pop2008 -\n",
    "              census.columns.pop2000).label('pop_change')\n",
    "              ])\n",
    "\n",
    "# Group by State\n",
    "stmt = stmt.group_by(census.columns.state)\n",
    "\n",
    "stmt = stmt.order_by(desc('pop_change')) # in descending order\n",
    "#limit top 10\n",
    "stmt = stmt.limit(10)\n",
    "\n",
    "# Use connection to execute the statement and fetch all results\n",
    "results = connection.execute(stmt).fetchall()\n",
    "\n",
    "# Print the state and population change for each record\n",
    "for result in results:\n",
    "    print('{}:{}'.format(result.state, result.pop_change))"
   ]
  },
  {
   "cell_type": "code",
   "execution_count": null,
   "metadata": {},
   "outputs": [],
   "source": []
  }
 ],
 "metadata": {
  "kernelspec": {
   "display_name": "Python 3",
   "language": "python",
   "name": "python3"
  },
  "language_info": {
   "codemirror_mode": {
    "name": "ipython",
    "version": 3
   },
   "file_extension": ".py",
   "mimetype": "text/x-python",
   "name": "python",
   "nbconvert_exporter": "python",
   "pygments_lexer": "ipython3",
   "version": "3.7.1"
  }
 },
 "nbformat": 4,
 "nbformat_minor": 2
}
